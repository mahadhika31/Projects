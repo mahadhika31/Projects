{
 "cells": [
  {
   "cell_type": "code",
   "execution_count": 1,
   "id": "0c3a789d",
   "metadata": {
    "_cell_guid": "b1076dfc-b9ad-4769-8c92-a6c4dae69d19",
    "_uuid": "8f2839f25d086af736a60e9eeb907d3b93b6e0e5",
    "execution": {
     "iopub.execute_input": "2024-10-19T18:45:49.476671Z",
     "iopub.status.busy": "2024-10-19T18:45:49.476082Z",
     "iopub.status.idle": "2024-10-19T18:45:50.539472Z",
     "shell.execute_reply": "2024-10-19T18:45:50.538190Z"
    },
    "papermill": {
     "duration": 1.074702,
     "end_time": "2024-10-19T18:45:50.543045",
     "exception": false,
     "start_time": "2024-10-19T18:45:49.468343",
     "status": "completed"
    },
    "tags": []
   },
   "outputs": [
    {
     "name": "stdout",
     "output_type": "stream",
     "text": [
      "/kaggle/input/california-housing-prices/housing.csv\n"
     ]
    }
   ],
   "source": [
    "import numpy as np \n",
    "import pandas as pd\n",
    "import matplotlib.pyplot as plt\n",
    "import os\n",
    "for dirname, _, filenames in os.walk('/kaggle/input'):\n",
    "    for filename in filenames:\n",
    "        print(os.path.join(dirname, filename))"
   ]
  },
  {
   "cell_type": "code",
   "execution_count": 2,
   "id": "f9e70246",
   "metadata": {
    "execution": {
     "iopub.execute_input": "2024-10-19T18:45:50.559992Z",
     "iopub.status.busy": "2024-10-19T18:45:50.559370Z",
     "iopub.status.idle": "2024-10-19T18:45:50.642451Z",
     "shell.execute_reply": "2024-10-19T18:45:50.641291Z"
    },
    "papermill": {
     "duration": 0.09478,
     "end_time": "2024-10-19T18:45:50.645880",
     "exception": false,
     "start_time": "2024-10-19T18:45:50.551100",
     "status": "completed"
    },
    "tags": []
   },
   "outputs": [],
   "source": [
    "df = pd.read_csv('../input/california-housing-prices/housing.csv')"
   ]
  },
  {
   "cell_type": "code",
   "execution_count": 3,
   "id": "1ed56955",
   "metadata": {
    "execution": {
     "iopub.execute_input": "2024-10-19T18:45:50.663389Z",
     "iopub.status.busy": "2024-10-19T18:45:50.662315Z",
     "iopub.status.idle": "2024-10-19T18:45:50.695654Z",
     "shell.execute_reply": "2024-10-19T18:45:50.694126Z"
    },
    "papermill": {
     "duration": 0.045335,
     "end_time": "2024-10-19T18:45:50.699003",
     "exception": false,
     "start_time": "2024-10-19T18:45:50.653668",
     "status": "completed"
    },
    "tags": []
   },
   "outputs": [
    {
     "data": {
      "text/html": [
       "<div>\n",
       "<style scoped>\n",
       "    .dataframe tbody tr th:only-of-type {\n",
       "        vertical-align: middle;\n",
       "    }\n",
       "\n",
       "    .dataframe tbody tr th {\n",
       "        vertical-align: top;\n",
       "    }\n",
       "\n",
       "    .dataframe thead th {\n",
       "        text-align: right;\n",
       "    }\n",
       "</style>\n",
       "<table border=\"1\" class=\"dataframe\">\n",
       "  <thead>\n",
       "    <tr style=\"text-align: right;\">\n",
       "      <th></th>\n",
       "      <th>longitude</th>\n",
       "      <th>latitude</th>\n",
       "      <th>housing_median_age</th>\n",
       "      <th>total_rooms</th>\n",
       "      <th>total_bedrooms</th>\n",
       "      <th>population</th>\n",
       "      <th>households</th>\n",
       "      <th>median_income</th>\n",
       "      <th>median_house_value</th>\n",
       "      <th>ocean_proximity</th>\n",
       "    </tr>\n",
       "  </thead>\n",
       "  <tbody>\n",
       "    <tr>\n",
       "      <th>0</th>\n",
       "      <td>-122.23</td>\n",
       "      <td>37.88</td>\n",
       "      <td>41.0</td>\n",
       "      <td>880.0</td>\n",
       "      <td>129.0</td>\n",
       "      <td>322.0</td>\n",
       "      <td>126.0</td>\n",
       "      <td>8.3252</td>\n",
       "      <td>452600.0</td>\n",
       "      <td>NEAR BAY</td>\n",
       "    </tr>\n",
       "    <tr>\n",
       "      <th>1</th>\n",
       "      <td>-122.22</td>\n",
       "      <td>37.86</td>\n",
       "      <td>21.0</td>\n",
       "      <td>7099.0</td>\n",
       "      <td>1106.0</td>\n",
       "      <td>2401.0</td>\n",
       "      <td>1138.0</td>\n",
       "      <td>8.3014</td>\n",
       "      <td>358500.0</td>\n",
       "      <td>NEAR BAY</td>\n",
       "    </tr>\n",
       "    <tr>\n",
       "      <th>2</th>\n",
       "      <td>-122.24</td>\n",
       "      <td>37.85</td>\n",
       "      <td>52.0</td>\n",
       "      <td>1467.0</td>\n",
       "      <td>190.0</td>\n",
       "      <td>496.0</td>\n",
       "      <td>177.0</td>\n",
       "      <td>7.2574</td>\n",
       "      <td>352100.0</td>\n",
       "      <td>NEAR BAY</td>\n",
       "    </tr>\n",
       "    <tr>\n",
       "      <th>3</th>\n",
       "      <td>-122.25</td>\n",
       "      <td>37.85</td>\n",
       "      <td>52.0</td>\n",
       "      <td>1274.0</td>\n",
       "      <td>235.0</td>\n",
       "      <td>558.0</td>\n",
       "      <td>219.0</td>\n",
       "      <td>5.6431</td>\n",
       "      <td>341300.0</td>\n",
       "      <td>NEAR BAY</td>\n",
       "    </tr>\n",
       "    <tr>\n",
       "      <th>4</th>\n",
       "      <td>-122.25</td>\n",
       "      <td>37.85</td>\n",
       "      <td>52.0</td>\n",
       "      <td>1627.0</td>\n",
       "      <td>280.0</td>\n",
       "      <td>565.0</td>\n",
       "      <td>259.0</td>\n",
       "      <td>3.8462</td>\n",
       "      <td>342200.0</td>\n",
       "      <td>NEAR BAY</td>\n",
       "    </tr>\n",
       "  </tbody>\n",
       "</table>\n",
       "</div>"
      ],
      "text/plain": [
       "   longitude  latitude  housing_median_age  total_rooms  total_bedrooms  \\\n",
       "0    -122.23     37.88                41.0        880.0           129.0   \n",
       "1    -122.22     37.86                21.0       7099.0          1106.0   \n",
       "2    -122.24     37.85                52.0       1467.0           190.0   \n",
       "3    -122.25     37.85                52.0       1274.0           235.0   \n",
       "4    -122.25     37.85                52.0       1627.0           280.0   \n",
       "\n",
       "   population  households  median_income  median_house_value ocean_proximity  \n",
       "0       322.0       126.0         8.3252            452600.0        NEAR BAY  \n",
       "1      2401.0      1138.0         8.3014            358500.0        NEAR BAY  \n",
       "2       496.0       177.0         7.2574            352100.0        NEAR BAY  \n",
       "3       558.0       219.0         5.6431            341300.0        NEAR BAY  \n",
       "4       565.0       259.0         3.8462            342200.0        NEAR BAY  "
      ]
     },
     "execution_count": 3,
     "metadata": {},
     "output_type": "execute_result"
    }
   ],
   "source": [
    "df.head()"
   ]
  },
  {
   "cell_type": "code",
   "execution_count": 4,
   "id": "0aee335d",
   "metadata": {
    "execution": {
     "iopub.execute_input": "2024-10-19T18:45:50.713271Z",
     "iopub.status.busy": "2024-10-19T18:45:50.712696Z",
     "iopub.status.idle": "2024-10-19T18:45:50.750635Z",
     "shell.execute_reply": "2024-10-19T18:45:50.748738Z"
    },
    "papermill": {
     "duration": 0.048305,
     "end_time": "2024-10-19T18:45:50.753589",
     "exception": false,
     "start_time": "2024-10-19T18:45:50.705284",
     "status": "completed"
    },
    "tags": []
   },
   "outputs": [
    {
     "name": "stdout",
     "output_type": "stream",
     "text": [
      "<class 'pandas.core.frame.DataFrame'>\n",
      "RangeIndex: 20640 entries, 0 to 20639\n",
      "Data columns (total 10 columns):\n",
      " #   Column              Non-Null Count  Dtype  \n",
      "---  ------              --------------  -----  \n",
      " 0   longitude           20640 non-null  float64\n",
      " 1   latitude            20640 non-null  float64\n",
      " 2   housing_median_age  20640 non-null  float64\n",
      " 3   total_rooms         20640 non-null  float64\n",
      " 4   total_bedrooms      20433 non-null  float64\n",
      " 5   population          20640 non-null  float64\n",
      " 6   households          20640 non-null  float64\n",
      " 7   median_income       20640 non-null  float64\n",
      " 8   median_house_value  20640 non-null  float64\n",
      " 9   ocean_proximity     20640 non-null  object \n",
      "dtypes: float64(9), object(1)\n",
      "memory usage: 1.6+ MB\n"
     ]
    }
   ],
   "source": [
    "df.info()"
   ]
  },
  {
   "cell_type": "code",
   "execution_count": 5,
   "id": "85a590eb",
   "metadata": {
    "execution": {
     "iopub.execute_input": "2024-10-19T18:45:50.768113Z",
     "iopub.status.busy": "2024-10-19T18:45:50.767141Z",
     "iopub.status.idle": "2024-10-19T18:45:52.187909Z",
     "shell.execute_reply": "2024-10-19T18:45:52.186830Z"
    },
    "papermill": {
     "duration": 1.431242,
     "end_time": "2024-10-19T18:45:52.190860",
     "exception": false,
     "start_time": "2024-10-19T18:45:50.759618",
     "status": "completed"
    },
    "tags": []
   },
   "outputs": [],
   "source": [
    "from sklearn.preprocessing import LabelEncoder\n",
    "\n",
    "# Initialize LabelEncoder\n",
    "label_encoder = LabelEncoder()\n",
    "\n",
    "# Fit and transform the 'ocean_proximity' column\n",
    "df['ocean_proximity'] = label_encoder.fit_transform(df['ocean_proximity'])"
   ]
  },
  {
   "cell_type": "code",
   "execution_count": 6,
   "id": "8aa4def1",
   "metadata": {
    "execution": {
     "iopub.execute_input": "2024-10-19T18:45:52.204677Z",
     "iopub.status.busy": "2024-10-19T18:45:52.204041Z",
     "iopub.status.idle": "2024-10-19T18:45:52.225438Z",
     "shell.execute_reply": "2024-10-19T18:45:52.224154Z"
    },
    "papermill": {
     "duration": 0.031181,
     "end_time": "2024-10-19T18:45:52.228054",
     "exception": false,
     "start_time": "2024-10-19T18:45:52.196873",
     "status": "completed"
    },
    "tags": []
   },
   "outputs": [
    {
     "name": "stdout",
     "output_type": "stream",
     "text": [
      "<class 'pandas.core.frame.DataFrame'>\n",
      "Index: 20433 entries, 0 to 20639\n",
      "Data columns (total 10 columns):\n",
      " #   Column              Non-Null Count  Dtype  \n",
      "---  ------              --------------  -----  \n",
      " 0   longitude           20433 non-null  float64\n",
      " 1   latitude            20433 non-null  float64\n",
      " 2   housing_median_age  20433 non-null  float64\n",
      " 3   total_rooms         20433 non-null  float64\n",
      " 4   total_bedrooms      20433 non-null  float64\n",
      " 5   population          20433 non-null  float64\n",
      " 6   households          20433 non-null  float64\n",
      " 7   median_income       20433 non-null  float64\n",
      " 8   median_house_value  20433 non-null  float64\n",
      " 9   ocean_proximity     20433 non-null  int64  \n",
      "dtypes: float64(9), int64(1)\n",
      "memory usage: 1.7 MB\n"
     ]
    }
   ],
   "source": [
    "# Drop rows where null values exist in 'column1' or 'column2'\n",
    "df.dropna(subset=['total_bedrooms'], inplace=True)\n",
    "df.info()"
   ]
  },
  {
   "cell_type": "code",
   "execution_count": 7,
   "id": "0118b9b7",
   "metadata": {
    "execution": {
     "iopub.execute_input": "2024-10-19T18:45:52.242711Z",
     "iopub.status.busy": "2024-10-19T18:45:52.241521Z",
     "iopub.status.idle": "2024-10-19T18:45:52.252783Z",
     "shell.execute_reply": "2024-10-19T18:45:52.251557Z"
    },
    "papermill": {
     "duration": 0.021266,
     "end_time": "2024-10-19T18:45:52.255328",
     "exception": false,
     "start_time": "2024-10-19T18:45:52.234062",
     "status": "completed"
    },
    "tags": []
   },
   "outputs": [
    {
     "data": {
      "text/plain": [
       "longitude             False\n",
       "latitude              False\n",
       "housing_median_age    False\n",
       "total_rooms           False\n",
       "total_bedrooms        False\n",
       "population            False\n",
       "households            False\n",
       "median_income         False\n",
       "median_house_value    False\n",
       "ocean_proximity       False\n",
       "dtype: bool"
      ]
     },
     "execution_count": 7,
     "metadata": {},
     "output_type": "execute_result"
    }
   ],
   "source": [
    "df.isna().any()"
   ]
  },
  {
   "cell_type": "code",
   "execution_count": 8,
   "id": "79fcdb95",
   "metadata": {
    "execution": {
     "iopub.execute_input": "2024-10-19T18:45:52.269992Z",
     "iopub.status.busy": "2024-10-19T18:45:52.269544Z",
     "iopub.status.idle": "2024-10-19T18:45:52.282624Z",
     "shell.execute_reply": "2024-10-19T18:45:52.281328Z"
    },
    "papermill": {
     "duration": 0.023776,
     "end_time": "2024-10-19T18:45:52.285322",
     "exception": false,
     "start_time": "2024-10-19T18:45:52.261546",
     "status": "completed"
    },
    "tags": []
   },
   "outputs": [
    {
     "name": "stdout",
     "output_type": "stream",
     "text": [
      "<class 'pandas.core.frame.DataFrame'>\n",
      "Index: 20433 entries, 0 to 20639\n",
      "Data columns (total 10 columns):\n",
      " #   Column              Non-Null Count  Dtype  \n",
      "---  ------              --------------  -----  \n",
      " 0   longitude           20433 non-null  float64\n",
      " 1   latitude            20433 non-null  float64\n",
      " 2   housing_median_age  20433 non-null  float64\n",
      " 3   total_rooms         20433 non-null  float64\n",
      " 4   total_bedrooms      20433 non-null  float64\n",
      " 5   population          20433 non-null  float64\n",
      " 6   households          20433 non-null  float64\n",
      " 7   median_income       20433 non-null  float64\n",
      " 8   median_house_value  20433 non-null  float64\n",
      " 9   ocean_proximity     20433 non-null  int64  \n",
      "dtypes: float64(9), int64(1)\n",
      "memory usage: 1.7 MB\n"
     ]
    }
   ],
   "source": [
    "df.info()"
   ]
  },
  {
   "cell_type": "code",
   "execution_count": 9,
   "id": "b2039a61",
   "metadata": {
    "execution": {
     "iopub.execute_input": "2024-10-19T18:45:52.300454Z",
     "iopub.status.busy": "2024-10-19T18:45:52.299887Z",
     "iopub.status.idle": "2024-10-19T18:46:08.225761Z",
     "shell.execute_reply": "2024-10-19T18:46:08.224013Z"
    },
    "papermill": {
     "duration": 15.936784,
     "end_time": "2024-10-19T18:46:08.228445",
     "exception": false,
     "start_time": "2024-10-19T18:45:52.291661",
     "status": "completed"
    },
    "tags": []
   },
   "outputs": [
    {
     "name": "stdout",
     "output_type": "stream",
     "text": [
      "Requirement already satisfied: xgboost in /opt/conda/lib/python3.10/site-packages (2.0.3)\r\n",
      "Requirement already satisfied: numpy in /opt/conda/lib/python3.10/site-packages (from xgboost) (1.26.4)\r\n",
      "Requirement already satisfied: scipy in /opt/conda/lib/python3.10/site-packages (from xgboost) (1.14.1)\r\n",
      "Note: you may need to restart the kernel to use updated packages.\n"
     ]
    }
   ],
   "source": [
    "pip install xgboost"
   ]
  },
  {
   "cell_type": "code",
   "execution_count": 10,
   "id": "0e0532ec",
   "metadata": {
    "execution": {
     "iopub.execute_input": "2024-10-19T18:46:08.244913Z",
     "iopub.status.busy": "2024-10-19T18:46:08.244447Z",
     "iopub.status.idle": "2024-10-19T18:46:08.937432Z",
     "shell.execute_reply": "2024-10-19T18:46:08.936317Z"
    },
    "papermill": {
     "duration": 0.705346,
     "end_time": "2024-10-19T18:46:08.940434",
     "exception": false,
     "start_time": "2024-10-19T18:46:08.235088",
     "status": "completed"
    },
    "tags": []
   },
   "outputs": [],
   "source": [
    "from sklearn.model_selection import train_test_split\n",
    "from sklearn.metrics import mean_squared_error, r2_score\n",
    "import xgboost as xgb\n",
    "from sklearn.ensemble import RandomForestRegressor"
   ]
  },
  {
   "cell_type": "code",
   "execution_count": 11,
   "id": "baea23ed",
   "metadata": {
    "execution": {
     "iopub.execute_input": "2024-10-19T18:46:08.956072Z",
     "iopub.status.busy": "2024-10-19T18:46:08.955613Z",
     "iopub.status.idle": "2024-10-19T18:46:08.970142Z",
     "shell.execute_reply": "2024-10-19T18:46:08.968989Z"
    },
    "papermill": {
     "duration": 0.025953,
     "end_time": "2024-10-19T18:46:08.973010",
     "exception": false,
     "start_time": "2024-10-19T18:46:08.947057",
     "status": "completed"
    },
    "tags": []
   },
   "outputs": [],
   "source": [
    "X = df.drop('median_house_value', axis=1)  # Replace 'MEDV' with your actual target column\n",
    "y = df['median_house_value']\n",
    "\n",
    "# Split data into training and testing sets\n",
    "X_train, X_test, y_train, y_test = train_test_split(X, y, test_size=0.2, random_state=42)"
   ]
  },
  {
   "cell_type": "code",
   "execution_count": 12,
   "id": "e81d980f",
   "metadata": {
    "execution": {
     "iopub.execute_input": "2024-10-19T18:46:08.988417Z",
     "iopub.status.busy": "2024-10-19T18:46:08.987881Z",
     "iopub.status.idle": "2024-10-19T18:46:21.443944Z",
     "shell.execute_reply": "2024-10-19T18:46:21.442543Z"
    },
    "papermill": {
     "duration": 12.467132,
     "end_time": "2024-10-19T18:46:21.446804",
     "exception": false,
     "start_time": "2024-10-19T18:46:08.979672",
     "status": "completed"
    },
    "tags": []
   },
   "outputs": [
    {
     "name": "stdout",
     "output_type": "stream",
     "text": [
      "Random Forest Regressor Results:\n",
      "Mean Squared Error: 2449175194.7866817\n",
      "R-squared: 0.8209036331508458\n"
     ]
    }
   ],
   "source": [
    "rf_model = RandomForestRegressor(n_estimators=100, random_state=42)\n",
    "rf_model.fit(X_train, y_train)\n",
    "\n",
    "# Predict on the test set\n",
    "y_pred_rf = rf_model.predict(X_test)\n",
    "\n",
    "# Evaluate RandomForestRegressor\n",
    "rf_mse = mean_squared_error(y_test, y_pred_rf)\n",
    "rf_r2 = r2_score(y_test, y_pred_rf)\n",
    "\n",
    "print(\"Random Forest Regressor Results:\")\n",
    "print(f\"Mean Squared Error: {rf_mse}\")\n",
    "print(f\"R-squared: {rf_r2}\")"
   ]
  },
  {
   "cell_type": "code",
   "execution_count": 13,
   "id": "59a6225f",
   "metadata": {
    "execution": {
     "iopub.execute_input": "2024-10-19T18:46:21.469188Z",
     "iopub.status.busy": "2024-10-19T18:46:21.468727Z",
     "iopub.status.idle": "2024-10-19T18:46:23.295180Z",
     "shell.execute_reply": "2024-10-19T18:46:23.294132Z"
    },
    "papermill": {
     "duration": 1.839973,
     "end_time": "2024-10-19T18:46:23.297778",
     "exception": false,
     "start_time": "2024-10-19T18:46:21.457805",
     "status": "completed"
    },
    "tags": []
   },
   "outputs": [
    {
     "name": "stdout",
     "output_type": "stream",
     "text": [
      "XGBoost Regressor Results:\n",
      "Mean Squared Error: 2346502318.353185\n",
      "R-squared: 0.8284116052968699\n"
     ]
    }
   ],
   "source": [
    "\n",
    "# Train the XGBoost model\n",
    "xgb_model = xgb.XGBRegressor(objective='reg:squarederror', random_state=42)\n",
    "xgb_model.fit(X_train, y_train)\n",
    "\n",
    "# Predict on the test set\n",
    "y_pred_xgb = xgb_model.predict(X_test)\n",
    "\n",
    "# Evaluate XGBoost Regressor\n",
    "xgb_mse = mean_squared_error(y_test, y_pred_xgb)\n",
    "xgb_r2 = r2_score(y_test, y_pred_xgb)\n",
    "\n",
    "print(\"XGBoost Regressor Results:\")\n",
    "print(f\"Mean Squared Error: {xgb_mse}\")\n",
    "print(f\"R-squared: {xgb_r2}\")"
   ]
  }
 ],
 "metadata": {
  "kaggle": {
   "accelerator": "none",
   "dataSources": [
    {
     "datasetId": 5227,
     "sourceId": 7876,
     "sourceType": "datasetVersion"
    }
   ],
   "dockerImageVersionId": 30786,
   "isGpuEnabled": false,
   "isInternetEnabled": true,
   "language": "python",
   "sourceType": "notebook"
  },
  "kernelspec": {
   "display_name": "Python 3",
   "language": "python",
   "name": "python3"
  },
  "language_info": {
   "codemirror_mode": {
    "name": "ipython",
    "version": 3
   },
   "file_extension": ".py",
   "mimetype": "text/x-python",
   "name": "python",
   "nbconvert_exporter": "python",
   "pygments_lexer": "ipython3",
   "version": "3.10.14"
  },
  "papermill": {
   "default_parameters": {},
   "duration": 37.743724,
   "end_time": "2024-10-19T18:46:24.028222",
   "environment_variables": {},
   "exception": null,
   "input_path": "__notebook__.ipynb",
   "output_path": "__notebook__.ipynb",
   "parameters": {},
   "start_time": "2024-10-19T18:45:46.284498",
   "version": "2.6.0"
  }
 },
 "nbformat": 4,
 "nbformat_minor": 5
}
