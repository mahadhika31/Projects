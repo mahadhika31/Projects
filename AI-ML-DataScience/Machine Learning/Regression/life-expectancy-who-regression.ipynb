{
 "cells": [
  {
   "cell_type": "code",
   "execution_count": 1,
   "id": "a4b068d1",
   "metadata": {
    "_cell_guid": "b1076dfc-b9ad-4769-8c92-a6c4dae69d19",
    "_uuid": "8f2839f25d086af736a60e9eeb907d3b93b6e0e5",
    "execution": {
     "iopub.execute_input": "2024-10-19T19:25:25.304008Z",
     "iopub.status.busy": "2024-10-19T19:25:25.303520Z",
     "iopub.status.idle": "2024-10-19T19:25:26.269227Z",
     "shell.execute_reply": "2024-10-19T19:25:26.267830Z"
    },
    "papermill": {
     "duration": 0.977358,
     "end_time": "2024-10-19T19:25:26.271991",
     "exception": false,
     "start_time": "2024-10-19T19:25:25.294633",
     "status": "completed"
    },
    "tags": []
   },
   "outputs": [
    {
     "name": "stdout",
     "output_type": "stream",
     "text": [
      "/kaggle/input/life-expectancy-who/Life Expectancy Data.csv\n"
     ]
    }
   ],
   "source": [
    "import numpy as np \n",
    "import pandas as pd\n",
    "import matplotlib.pyplot as plt\n",
    "import os\n",
    "for dirname, _, filenames in os.walk('/kaggle/input'):\n",
    "    for filename in filenames:\n",
    "        print(os.path.join(dirname, filename))"
   ]
  },
  {
   "cell_type": "code",
   "execution_count": 2,
   "id": "1d543a60",
   "metadata": {
    "execution": {
     "iopub.execute_input": "2024-10-19T19:25:26.286881Z",
     "iopub.status.busy": "2024-10-19T19:25:26.286259Z",
     "iopub.status.idle": "2024-10-19T19:25:26.322641Z",
     "shell.execute_reply": "2024-10-19T19:25:26.321221Z"
    },
    "papermill": {
     "duration": 0.047235,
     "end_time": "2024-10-19T19:25:26.325832",
     "exception": false,
     "start_time": "2024-10-19T19:25:26.278597",
     "status": "completed"
    },
    "tags": []
   },
   "outputs": [],
   "source": [
    "df = pd.read_csv('../input/life-expectancy-who/Life Expectancy Data.csv')"
   ]
  },
  {
   "cell_type": "code",
   "execution_count": 3,
   "id": "3d9ebbdf",
   "metadata": {
    "execution": {
     "iopub.execute_input": "2024-10-19T19:25:26.340395Z",
     "iopub.status.busy": "2024-10-19T19:25:26.339954Z",
     "iopub.status.idle": "2024-10-19T19:25:26.389495Z",
     "shell.execute_reply": "2024-10-19T19:25:26.388101Z"
    },
    "papermill": {
     "duration": 0.059737,
     "end_time": "2024-10-19T19:25:26.392107",
     "exception": false,
     "start_time": "2024-10-19T19:25:26.332370",
     "status": "completed"
    },
    "tags": []
   },
   "outputs": [
    {
     "data": {
      "text/html": [
       "<div>\n",
       "<style scoped>\n",
       "    .dataframe tbody tr th:only-of-type {\n",
       "        vertical-align: middle;\n",
       "    }\n",
       "\n",
       "    .dataframe tbody tr th {\n",
       "        vertical-align: top;\n",
       "    }\n",
       "\n",
       "    .dataframe thead th {\n",
       "        text-align: right;\n",
       "    }\n",
       "</style>\n",
       "<table border=\"1\" class=\"dataframe\">\n",
       "  <thead>\n",
       "    <tr style=\"text-align: right;\">\n",
       "      <th></th>\n",
       "      <th>Country</th>\n",
       "      <th>Year</th>\n",
       "      <th>Status</th>\n",
       "      <th>Life expectancy</th>\n",
       "      <th>Adult Mortality</th>\n",
       "      <th>infant deaths</th>\n",
       "      <th>Alcohol</th>\n",
       "      <th>percentage expenditure</th>\n",
       "      <th>Hepatitis B</th>\n",
       "      <th>Measles</th>\n",
       "      <th>...</th>\n",
       "      <th>Polio</th>\n",
       "      <th>Total expenditure</th>\n",
       "      <th>Diphtheria</th>\n",
       "      <th>HIV/AIDS</th>\n",
       "      <th>GDP</th>\n",
       "      <th>Population</th>\n",
       "      <th>thinness  1-19 years</th>\n",
       "      <th>thinness 5-9 years</th>\n",
       "      <th>Income composition of resources</th>\n",
       "      <th>Schooling</th>\n",
       "    </tr>\n",
       "  </thead>\n",
       "  <tbody>\n",
       "    <tr>\n",
       "      <th>0</th>\n",
       "      <td>Afghanistan</td>\n",
       "      <td>2015</td>\n",
       "      <td>Developing</td>\n",
       "      <td>65.0</td>\n",
       "      <td>263.0</td>\n",
       "      <td>62</td>\n",
       "      <td>0.01</td>\n",
       "      <td>71.279624</td>\n",
       "      <td>65.0</td>\n",
       "      <td>1154</td>\n",
       "      <td>...</td>\n",
       "      <td>6.0</td>\n",
       "      <td>8.16</td>\n",
       "      <td>65.0</td>\n",
       "      <td>0.1</td>\n",
       "      <td>584.259210</td>\n",
       "      <td>33736494.0</td>\n",
       "      <td>17.2</td>\n",
       "      <td>17.3</td>\n",
       "      <td>0.479</td>\n",
       "      <td>10.1</td>\n",
       "    </tr>\n",
       "    <tr>\n",
       "      <th>1</th>\n",
       "      <td>Afghanistan</td>\n",
       "      <td>2014</td>\n",
       "      <td>Developing</td>\n",
       "      <td>59.9</td>\n",
       "      <td>271.0</td>\n",
       "      <td>64</td>\n",
       "      <td>0.01</td>\n",
       "      <td>73.523582</td>\n",
       "      <td>62.0</td>\n",
       "      <td>492</td>\n",
       "      <td>...</td>\n",
       "      <td>58.0</td>\n",
       "      <td>8.18</td>\n",
       "      <td>62.0</td>\n",
       "      <td>0.1</td>\n",
       "      <td>612.696514</td>\n",
       "      <td>327582.0</td>\n",
       "      <td>17.5</td>\n",
       "      <td>17.5</td>\n",
       "      <td>0.476</td>\n",
       "      <td>10.0</td>\n",
       "    </tr>\n",
       "    <tr>\n",
       "      <th>2</th>\n",
       "      <td>Afghanistan</td>\n",
       "      <td>2013</td>\n",
       "      <td>Developing</td>\n",
       "      <td>59.9</td>\n",
       "      <td>268.0</td>\n",
       "      <td>66</td>\n",
       "      <td>0.01</td>\n",
       "      <td>73.219243</td>\n",
       "      <td>64.0</td>\n",
       "      <td>430</td>\n",
       "      <td>...</td>\n",
       "      <td>62.0</td>\n",
       "      <td>8.13</td>\n",
       "      <td>64.0</td>\n",
       "      <td>0.1</td>\n",
       "      <td>631.744976</td>\n",
       "      <td>31731688.0</td>\n",
       "      <td>17.7</td>\n",
       "      <td>17.7</td>\n",
       "      <td>0.470</td>\n",
       "      <td>9.9</td>\n",
       "    </tr>\n",
       "    <tr>\n",
       "      <th>3</th>\n",
       "      <td>Afghanistan</td>\n",
       "      <td>2012</td>\n",
       "      <td>Developing</td>\n",
       "      <td>59.5</td>\n",
       "      <td>272.0</td>\n",
       "      <td>69</td>\n",
       "      <td>0.01</td>\n",
       "      <td>78.184215</td>\n",
       "      <td>67.0</td>\n",
       "      <td>2787</td>\n",
       "      <td>...</td>\n",
       "      <td>67.0</td>\n",
       "      <td>8.52</td>\n",
       "      <td>67.0</td>\n",
       "      <td>0.1</td>\n",
       "      <td>669.959000</td>\n",
       "      <td>3696958.0</td>\n",
       "      <td>17.9</td>\n",
       "      <td>18.0</td>\n",
       "      <td>0.463</td>\n",
       "      <td>9.8</td>\n",
       "    </tr>\n",
       "    <tr>\n",
       "      <th>4</th>\n",
       "      <td>Afghanistan</td>\n",
       "      <td>2011</td>\n",
       "      <td>Developing</td>\n",
       "      <td>59.2</td>\n",
       "      <td>275.0</td>\n",
       "      <td>71</td>\n",
       "      <td>0.01</td>\n",
       "      <td>7.097109</td>\n",
       "      <td>68.0</td>\n",
       "      <td>3013</td>\n",
       "      <td>...</td>\n",
       "      <td>68.0</td>\n",
       "      <td>7.87</td>\n",
       "      <td>68.0</td>\n",
       "      <td>0.1</td>\n",
       "      <td>63.537231</td>\n",
       "      <td>2978599.0</td>\n",
       "      <td>18.2</td>\n",
       "      <td>18.2</td>\n",
       "      <td>0.454</td>\n",
       "      <td>9.5</td>\n",
       "    </tr>\n",
       "  </tbody>\n",
       "</table>\n",
       "<p>5 rows × 22 columns</p>\n",
       "</div>"
      ],
      "text/plain": [
       "       Country  Year      Status  Life expectancy   Adult Mortality  \\\n",
       "0  Afghanistan  2015  Developing              65.0            263.0   \n",
       "1  Afghanistan  2014  Developing              59.9            271.0   \n",
       "2  Afghanistan  2013  Developing              59.9            268.0   \n",
       "3  Afghanistan  2012  Developing              59.5            272.0   \n",
       "4  Afghanistan  2011  Developing              59.2            275.0   \n",
       "\n",
       "   infant deaths  Alcohol  percentage expenditure  Hepatitis B  Measles   ...  \\\n",
       "0             62     0.01               71.279624         65.0      1154  ...   \n",
       "1             64     0.01               73.523582         62.0       492  ...   \n",
       "2             66     0.01               73.219243         64.0       430  ...   \n",
       "3             69     0.01               78.184215         67.0      2787  ...   \n",
       "4             71     0.01                7.097109         68.0      3013  ...   \n",
       "\n",
       "   Polio  Total expenditure  Diphtheria    HIV/AIDS         GDP  Population  \\\n",
       "0    6.0               8.16         65.0        0.1  584.259210  33736494.0   \n",
       "1   58.0               8.18         62.0        0.1  612.696514    327582.0   \n",
       "2   62.0               8.13         64.0        0.1  631.744976  31731688.0   \n",
       "3   67.0               8.52         67.0        0.1  669.959000   3696958.0   \n",
       "4   68.0               7.87         68.0        0.1   63.537231   2978599.0   \n",
       "\n",
       "    thinness  1-19 years   thinness 5-9 years  \\\n",
       "0                   17.2                 17.3   \n",
       "1                   17.5                 17.5   \n",
       "2                   17.7                 17.7   \n",
       "3                   17.9                 18.0   \n",
       "4                   18.2                 18.2   \n",
       "\n",
       "   Income composition of resources  Schooling  \n",
       "0                            0.479       10.1  \n",
       "1                            0.476       10.0  \n",
       "2                            0.470        9.9  \n",
       "3                            0.463        9.8  \n",
       "4                            0.454        9.5  \n",
       "\n",
       "[5 rows x 22 columns]"
      ]
     },
     "execution_count": 3,
     "metadata": {},
     "output_type": "execute_result"
    }
   ],
   "source": [
    "df.head()"
   ]
  },
  {
   "cell_type": "code",
   "execution_count": 4,
   "id": "52f3ddc8",
   "metadata": {
    "execution": {
     "iopub.execute_input": "2024-10-19T19:25:26.407727Z",
     "iopub.status.busy": "2024-10-19T19:25:26.407307Z",
     "iopub.status.idle": "2024-10-19T19:25:26.433091Z",
     "shell.execute_reply": "2024-10-19T19:25:26.431908Z"
    },
    "papermill": {
     "duration": 0.03674,
     "end_time": "2024-10-19T19:25:26.435918",
     "exception": false,
     "start_time": "2024-10-19T19:25:26.399178",
     "status": "completed"
    },
    "tags": []
   },
   "outputs": [
    {
     "name": "stdout",
     "output_type": "stream",
     "text": [
      "<class 'pandas.core.frame.DataFrame'>\n",
      "RangeIndex: 2938 entries, 0 to 2937\n",
      "Data columns (total 22 columns):\n",
      " #   Column                           Non-Null Count  Dtype  \n",
      "---  ------                           --------------  -----  \n",
      " 0   Country                          2938 non-null   object \n",
      " 1   Year                             2938 non-null   int64  \n",
      " 2   Status                           2938 non-null   object \n",
      " 3   Life expectancy                  2928 non-null   float64\n",
      " 4   Adult Mortality                  2928 non-null   float64\n",
      " 5   infant deaths                    2938 non-null   int64  \n",
      " 6   Alcohol                          2744 non-null   float64\n",
      " 7   percentage expenditure           2938 non-null   float64\n",
      " 8   Hepatitis B                      2385 non-null   float64\n",
      " 9   Measles                          2938 non-null   int64  \n",
      " 10   BMI                             2904 non-null   float64\n",
      " 11  under-five deaths                2938 non-null   int64  \n",
      " 12  Polio                            2919 non-null   float64\n",
      " 13  Total expenditure                2712 non-null   float64\n",
      " 14  Diphtheria                       2919 non-null   float64\n",
      " 15   HIV/AIDS                        2938 non-null   float64\n",
      " 16  GDP                              2490 non-null   float64\n",
      " 17  Population                       2286 non-null   float64\n",
      " 18   thinness  1-19 years            2904 non-null   float64\n",
      " 19   thinness 5-9 years              2904 non-null   float64\n",
      " 20  Income composition of resources  2771 non-null   float64\n",
      " 21  Schooling                        2775 non-null   float64\n",
      "dtypes: float64(16), int64(4), object(2)\n",
      "memory usage: 505.1+ KB\n"
     ]
    }
   ],
   "source": [
    "df.info()"
   ]
  },
  {
   "cell_type": "code",
   "execution_count": 5,
   "id": "14400a11",
   "metadata": {
    "execution": {
     "iopub.execute_input": "2024-10-19T19:25:26.451480Z",
     "iopub.status.busy": "2024-10-19T19:25:26.451041Z",
     "iopub.status.idle": "2024-10-19T19:25:26.461388Z",
     "shell.execute_reply": "2024-10-19T19:25:26.460251Z"
    },
    "papermill": {
     "duration": 0.021287,
     "end_time": "2024-10-19T19:25:26.464198",
     "exception": false,
     "start_time": "2024-10-19T19:25:26.442911",
     "status": "completed"
    },
    "tags": []
   },
   "outputs": [],
   "source": [
    "df.dropna(axis=0, inplace=True)"
   ]
  },
  {
   "cell_type": "code",
   "execution_count": 6,
   "id": "1288fdce",
   "metadata": {
    "execution": {
     "iopub.execute_input": "2024-10-19T19:25:26.480253Z",
     "iopub.status.busy": "2024-10-19T19:25:26.479358Z",
     "iopub.status.idle": "2024-10-19T19:25:26.493114Z",
     "shell.execute_reply": "2024-10-19T19:25:26.491718Z"
    },
    "papermill": {
     "duration": 0.024645,
     "end_time": "2024-10-19T19:25:26.495809",
     "exception": false,
     "start_time": "2024-10-19T19:25:26.471164",
     "status": "completed"
    },
    "tags": []
   },
   "outputs": [
    {
     "name": "stdout",
     "output_type": "stream",
     "text": [
      "<class 'pandas.core.frame.DataFrame'>\n",
      "Index: 1649 entries, 0 to 2937\n",
      "Data columns (total 22 columns):\n",
      " #   Column                           Non-Null Count  Dtype  \n",
      "---  ------                           --------------  -----  \n",
      " 0   Country                          1649 non-null   object \n",
      " 1   Year                             1649 non-null   int64  \n",
      " 2   Status                           1649 non-null   object \n",
      " 3   Life expectancy                  1649 non-null   float64\n",
      " 4   Adult Mortality                  1649 non-null   float64\n",
      " 5   infant deaths                    1649 non-null   int64  \n",
      " 6   Alcohol                          1649 non-null   float64\n",
      " 7   percentage expenditure           1649 non-null   float64\n",
      " 8   Hepatitis B                      1649 non-null   float64\n",
      " 9   Measles                          1649 non-null   int64  \n",
      " 10   BMI                             1649 non-null   float64\n",
      " 11  under-five deaths                1649 non-null   int64  \n",
      " 12  Polio                            1649 non-null   float64\n",
      " 13  Total expenditure                1649 non-null   float64\n",
      " 14  Diphtheria                       1649 non-null   float64\n",
      " 15   HIV/AIDS                        1649 non-null   float64\n",
      " 16  GDP                              1649 non-null   float64\n",
      " 17  Population                       1649 non-null   float64\n",
      " 18   thinness  1-19 years            1649 non-null   float64\n",
      " 19   thinness 5-9 years              1649 non-null   float64\n",
      " 20  Income composition of resources  1649 non-null   float64\n",
      " 21  Schooling                        1649 non-null   float64\n",
      "dtypes: float64(16), int64(4), object(2)\n",
      "memory usage: 296.3+ KB\n"
     ]
    }
   ],
   "source": [
    "df.info()"
   ]
  },
  {
   "cell_type": "code",
   "execution_count": 7,
   "id": "369dd14f",
   "metadata": {
    "execution": {
     "iopub.execute_input": "2024-10-19T19:25:26.512894Z",
     "iopub.status.busy": "2024-10-19T19:25:26.512424Z",
     "iopub.status.idle": "2024-10-19T19:25:26.522242Z",
     "shell.execute_reply": "2024-10-19T19:25:26.521119Z"
    },
    "papermill": {
     "duration": 0.021364,
     "end_time": "2024-10-19T19:25:26.524706",
     "exception": false,
     "start_time": "2024-10-19T19:25:26.503342",
     "status": "completed"
    },
    "tags": []
   },
   "outputs": [
    {
     "data": {
      "text/plain": [
       "Status\n",
       "Developing    1407\n",
       "Developed      242\n",
       "Name: count, dtype: int64"
      ]
     },
     "execution_count": 7,
     "metadata": {},
     "output_type": "execute_result"
    }
   ],
   "source": [
    "df['Status'].value_counts()"
   ]
  },
  {
   "cell_type": "code",
   "execution_count": 8,
   "id": "b90dc556",
   "metadata": {
    "execution": {
     "iopub.execute_input": "2024-10-19T19:25:26.540745Z",
     "iopub.status.busy": "2024-10-19T19:25:26.540318Z",
     "iopub.status.idle": "2024-10-19T19:25:26.550556Z",
     "shell.execute_reply": "2024-10-19T19:25:26.549443Z"
    },
    "papermill": {
     "duration": 0.021046,
     "end_time": "2024-10-19T19:25:26.552873",
     "exception": false,
     "start_time": "2024-10-19T19:25:26.531827",
     "status": "completed"
    },
    "tags": []
   },
   "outputs": [
    {
     "data": {
      "text/plain": [
       "Country\n",
       "Afghanistan          16\n",
       "Albania              16\n",
       "Kiribati             15\n",
       "Mexico               15\n",
       "Mauritius            15\n",
       "                     ..\n",
       "Ireland               5\n",
       "Sweden                4\n",
       "Netherlands           4\n",
       "Haiti                 2\n",
       "Equatorial Guinea     1\n",
       "Name: count, Length: 133, dtype: int64"
      ]
     },
     "execution_count": 8,
     "metadata": {},
     "output_type": "execute_result"
    }
   ],
   "source": [
    "df['Country'].value_counts()"
   ]
  },
  {
   "cell_type": "code",
   "execution_count": 9,
   "id": "f44d889a",
   "metadata": {
    "execution": {
     "iopub.execute_input": "2024-10-19T19:25:26.570384Z",
     "iopub.status.busy": "2024-10-19T19:25:26.569932Z",
     "iopub.status.idle": "2024-10-19T19:25:27.955269Z",
     "shell.execute_reply": "2024-10-19T19:25:27.954125Z"
    },
    "papermill": {
     "duration": 1.396854,
     "end_time": "2024-10-19T19:25:27.958055",
     "exception": false,
     "start_time": "2024-10-19T19:25:26.561201",
     "status": "completed"
    },
    "tags": []
   },
   "outputs": [],
   "source": [
    "from sklearn.preprocessing import LabelEncoder\n",
    "\n",
    "label_encoder = LabelEncoder()\n",
    "\n",
    "df['Country'] = label_encoder.fit_transform(df['Country'])\n",
    "df['Status'] = label_encoder.fit_transform(df['Status'])"
   ]
  },
  {
   "cell_type": "code",
   "execution_count": 10,
   "id": "8c31117a",
   "metadata": {
    "execution": {
     "iopub.execute_input": "2024-10-19T19:25:27.975389Z",
     "iopub.status.busy": "2024-10-19T19:25:27.974745Z",
     "iopub.status.idle": "2024-10-19T19:25:27.989610Z",
     "shell.execute_reply": "2024-10-19T19:25:27.987943Z"
    },
    "papermill": {
     "duration": 0.026348,
     "end_time": "2024-10-19T19:25:27.992311",
     "exception": false,
     "start_time": "2024-10-19T19:25:27.965963",
     "status": "completed"
    },
    "tags": []
   },
   "outputs": [
    {
     "name": "stdout",
     "output_type": "stream",
     "text": [
      "<class 'pandas.core.frame.DataFrame'>\n",
      "Index: 1649 entries, 0 to 2937\n",
      "Data columns (total 22 columns):\n",
      " #   Column                           Non-Null Count  Dtype  \n",
      "---  ------                           --------------  -----  \n",
      " 0   Country                          1649 non-null   int64  \n",
      " 1   Year                             1649 non-null   int64  \n",
      " 2   Status                           1649 non-null   int64  \n",
      " 3   Life expectancy                  1649 non-null   float64\n",
      " 4   Adult Mortality                  1649 non-null   float64\n",
      " 5   infant deaths                    1649 non-null   int64  \n",
      " 6   Alcohol                          1649 non-null   float64\n",
      " 7   percentage expenditure           1649 non-null   float64\n",
      " 8   Hepatitis B                      1649 non-null   float64\n",
      " 9   Measles                          1649 non-null   int64  \n",
      " 10   BMI                             1649 non-null   float64\n",
      " 11  under-five deaths                1649 non-null   int64  \n",
      " 12  Polio                            1649 non-null   float64\n",
      " 13  Total expenditure                1649 non-null   float64\n",
      " 14  Diphtheria                       1649 non-null   float64\n",
      " 15   HIV/AIDS                        1649 non-null   float64\n",
      " 16  GDP                              1649 non-null   float64\n",
      " 17  Population                       1649 non-null   float64\n",
      " 18   thinness  1-19 years            1649 non-null   float64\n",
      " 19   thinness 5-9 years              1649 non-null   float64\n",
      " 20  Income composition of resources  1649 non-null   float64\n",
      " 21  Schooling                        1649 non-null   float64\n",
      "dtypes: float64(16), int64(6)\n",
      "memory usage: 296.3 KB\n"
     ]
    }
   ],
   "source": [
    "df.info()"
   ]
  },
  {
   "cell_type": "code",
   "execution_count": 11,
   "id": "8c493889",
   "metadata": {
    "execution": {
     "iopub.execute_input": "2024-10-19T19:25:28.009213Z",
     "iopub.status.busy": "2024-10-19T19:25:28.008780Z",
     "iopub.status.idle": "2024-10-19T19:25:28.667441Z",
     "shell.execute_reply": "2024-10-19T19:25:28.666310Z"
    },
    "papermill": {
     "duration": 0.670179,
     "end_time": "2024-10-19T19:25:28.670283",
     "exception": false,
     "start_time": "2024-10-19T19:25:28.000104",
     "status": "completed"
    },
    "tags": []
   },
   "outputs": [],
   "source": [
    "from sklearn.model_selection import train_test_split\n",
    "from sklearn.metrics import mean_squared_error, r2_score\n",
    "import xgboost as xgb\n",
    "from sklearn.ensemble import RandomForestRegressor"
   ]
  },
  {
   "cell_type": "code",
   "execution_count": 12,
   "id": "8c035b05",
   "metadata": {
    "execution": {
     "iopub.execute_input": "2024-10-19T19:25:28.687548Z",
     "iopub.status.busy": "2024-10-19T19:25:28.686466Z",
     "iopub.status.idle": "2024-10-19T19:25:28.701448Z",
     "shell.execute_reply": "2024-10-19T19:25:28.700024Z"
    },
    "papermill": {
     "duration": 0.026506,
     "end_time": "2024-10-19T19:25:28.704299",
     "exception": false,
     "start_time": "2024-10-19T19:25:28.677793",
     "status": "completed"
    },
    "tags": []
   },
   "outputs": [
    {
     "name": "stdout",
     "output_type": "stream",
     "text": [
      "Index(['Country', 'Year', 'Status', 'Life expectancy', 'Adult Mortality',\n",
      "       'infant deaths', 'Alcohol', 'percentage expenditure', 'Hepatitis B',\n",
      "       'Measles', 'BMI', 'under-five deaths', 'Polio', 'Total expenditure',\n",
      "       'Diphtheria', 'HIV/AIDS', 'GDP', 'Population', 'thinness  1-19 years',\n",
      "       'thinness 5-9 years', 'Income composition of resources', 'Schooling'],\n",
      "      dtype='object')\n"
     ]
    }
   ],
   "source": [
    "# Strip whitespace from column names\n",
    "df.columns = df.columns.str.strip()\n",
    "\n",
    "# Now check the columns again to confirm\n",
    "print(df.columns)\n",
    "\n",
    "# Define the target and features\n",
    "y = df['Life expectancy']  # This should now work correctly\n",
    "X = df.drop('Life expectancy', axis=1)  \n",
    "\n",
    "# Split the data into training and testing sets\n",
    "from sklearn.model_selection import train_test_split\n",
    "\n",
    "X_train, X_test, y_train, y_test = train_test_split(X, y, test_size=0.2, random_state=42)\n"
   ]
  },
  {
   "cell_type": "code",
   "execution_count": 13,
   "id": "77866ef0",
   "metadata": {
    "execution": {
     "iopub.execute_input": "2024-10-19T19:25:28.723144Z",
     "iopub.status.busy": "2024-10-19T19:25:28.722633Z",
     "iopub.status.idle": "2024-10-19T19:25:30.285642Z",
     "shell.execute_reply": "2024-10-19T19:25:30.284097Z"
    },
    "papermill": {
     "duration": 1.574719,
     "end_time": "2024-10-19T19:25:30.288492",
     "exception": false,
     "start_time": "2024-10-19T19:25:28.713773",
     "status": "completed"
    },
    "tags": []
   },
   "outputs": [
    {
     "name": "stdout",
     "output_type": "stream",
     "text": [
      "Random Forest Regressor Results:\n",
      "Mean Squared Error: 3.5557362696969794\n",
      "R-squared: 0.9499350621754237\n"
     ]
    }
   ],
   "source": [
    "rf_model = RandomForestRegressor(n_estimators=100, random_state=42)\n",
    "rf_model.fit(X_train, y_train)\n",
    "\n",
    "y_pred_rf = rf_model.predict(X_test)\n",
    "\n",
    "rf_mse = mean_squared_error(y_test, y_pred_rf)\n",
    "rf_r2 = r2_score(y_test, y_pred_rf)\n",
    "\n",
    "print(\"Random Forest Regressor Results:\")\n",
    "print(f\"Mean Squared Error: {rf_mse}\")\n",
    "print(f\"R-squared: {rf_r2}\")"
   ]
  },
  {
   "cell_type": "code",
   "execution_count": 14,
   "id": "bd4e5ab4",
   "metadata": {
    "execution": {
     "iopub.execute_input": "2024-10-19T19:25:30.306995Z",
     "iopub.status.busy": "2024-10-19T19:25:30.306488Z",
     "iopub.status.idle": "2024-10-19T19:25:30.314865Z",
     "shell.execute_reply": "2024-10-19T19:25:30.313619Z"
    },
    "papermill": {
     "duration": 0.020771,
     "end_time": "2024-10-19T19:25:30.317281",
     "exception": false,
     "start_time": "2024-10-19T19:25:30.296510",
     "status": "completed"
    },
    "tags": []
   },
   "outputs": [
    {
     "data": {
      "text/plain": [
       "1.8856660016283318"
      ]
     },
     "execution_count": 14,
     "metadata": {},
     "output_type": "execute_result"
    }
   ],
   "source": [
    "rf_rmse = np.sqrt(rf_mse)\n",
    "rf_rmse"
   ]
  },
  {
   "cell_type": "code",
   "execution_count": 15,
   "id": "960fc8ae",
   "metadata": {
    "execution": {
     "iopub.execute_input": "2024-10-19T19:25:30.334591Z",
     "iopub.status.busy": "2024-10-19T19:25:30.334178Z",
     "iopub.status.idle": "2024-10-19T19:25:30.666490Z",
     "shell.execute_reply": "2024-10-19T19:25:30.665320Z"
    },
    "papermill": {
     "duration": 0.344075,
     "end_time": "2024-10-19T19:25:30.669154",
     "exception": false,
     "start_time": "2024-10-19T19:25:30.325079",
     "status": "completed"
    },
    "tags": []
   },
   "outputs": [
    {
     "name": "stdout",
     "output_type": "stream",
     "text": [
      "XGBoost Regressor Results:\n",
      "Mean Squared Error: 4.48991641156693\n",
      "R-squared: 0.9367817608132677\n"
     ]
    }
   ],
   "source": [
    "\n",
    "xgb_model = xgb.XGBRegressor(objective='reg:squarederror', random_state=42)\n",
    "xgb_model.fit(X_train, y_train)\n",
    "\n",
    "y_pred_xgb = xgb_model.predict(X_test)\n",
    "\n",
    "xgb_mse = mean_squared_error(y_test, y_pred_xgb)\n",
    "xgb_r2 = r2_score(y_test, y_pred_xgb)\n",
    "\n",
    "print(\"XGBoost Regressor Results:\")\n",
    "print(f\"Mean Squared Error: {xgb_mse}\")\n",
    "print(f\"R-squared: {xgb_r2}\")"
   ]
  },
  {
   "cell_type": "code",
   "execution_count": 16,
   "id": "0f7023d3",
   "metadata": {
    "execution": {
     "iopub.execute_input": "2024-10-19T19:25:30.700300Z",
     "iopub.status.busy": "2024-10-19T19:25:30.699623Z",
     "iopub.status.idle": "2024-10-19T19:25:30.708696Z",
     "shell.execute_reply": "2024-10-19T19:25:30.707269Z"
    },
    "papermill": {
     "duration": 0.024428,
     "end_time": "2024-10-19T19:25:30.712394",
     "exception": false,
     "start_time": "2024-10-19T19:25:30.687966",
     "status": "completed"
    },
    "tags": []
   },
   "outputs": [
    {
     "data": {
      "text/plain": [
       "2.118942286039648"
      ]
     },
     "execution_count": 16,
     "metadata": {},
     "output_type": "execute_result"
    }
   ],
   "source": [
    "xgb_rmse = np.sqrt(xgb_mse)\n",
    "xgb_rmse"
   ]
  }
 ],
 "metadata": {
  "kaggle": {
   "accelerator": "none",
   "dataSources": [
    {
     "datasetId": 12603,
     "sourceId": 17232,
     "sourceType": "datasetVersion"
    }
   ],
   "dockerImageVersionId": 30786,
   "isGpuEnabled": false,
   "isInternetEnabled": true,
   "language": "python",
   "sourceType": "notebook"
  },
  "kernelspec": {
   "display_name": "Python 3",
   "language": "python",
   "name": "python3"
  },
  "language_info": {
   "codemirror_mode": {
    "name": "ipython",
    "version": 3
   },
   "file_extension": ".py",
   "mimetype": "text/x-python",
   "name": "python",
   "nbconvert_exporter": "python",
   "pygments_lexer": "ipython3",
   "version": "3.10.14"
  },
  "papermill": {
   "default_parameters": {},
   "duration": 9.208645,
   "end_time": "2024-10-19T19:25:31.447409",
   "environment_variables": {},
   "exception": null,
   "input_path": "__notebook__.ipynb",
   "output_path": "__notebook__.ipynb",
   "parameters": {},
   "start_time": "2024-10-19T19:25:22.238764",
   "version": "2.6.0"
  }
 },
 "nbformat": 4,
 "nbformat_minor": 5
}
