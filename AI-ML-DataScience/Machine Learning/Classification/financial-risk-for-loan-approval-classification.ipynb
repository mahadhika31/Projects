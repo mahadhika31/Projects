{
 "cells": [
  {
   "cell_type": "code",
   "execution_count": 1,
   "id": "cb9935ab",
   "metadata": {
    "_cell_guid": "b1076dfc-b9ad-4769-8c92-a6c4dae69d19",
    "_uuid": "8f2839f25d086af736a60e9eeb907d3b93b6e0e5",
    "execution": {
     "iopub.execute_input": "2024-10-30T23:55:09.538270Z",
     "iopub.status.busy": "2024-10-30T23:55:09.537262Z",
     "iopub.status.idle": "2024-10-30T23:55:10.399707Z",
     "shell.execute_reply": "2024-10-30T23:55:10.398234Z"
    },
    "papermill": {
     "duration": 0.872883,
     "end_time": "2024-10-30T23:55:10.402317",
     "exception": false,
     "start_time": "2024-10-30T23:55:09.529434",
     "status": "completed"
    },
    "tags": []
   },
   "outputs": [
    {
     "name": "stdout",
     "output_type": "stream",
     "text": [
      "/kaggle/input/financial-risk-for-loan-approval/Loan.csv\n",
      "/kaggle/input/financial-risk-for-loan-approval/CSV Generation.py\n"
     ]
    }
   ],
   "source": [
    "import numpy as np \n",
    "import pandas as pd \n",
    "\n",
    "import os\n",
    "for dirname, _, filenames in os.walk('/kaggle/input'):\n",
    "    for filename in filenames:\n",
    "        print(os.path.join(dirname, filename))"
   ]
  },
  {
   "cell_type": "code",
   "execution_count": 2,
   "id": "c7b2a56e",
   "metadata": {
    "execution": {
     "iopub.execute_input": "2024-10-30T23:55:10.415896Z",
     "iopub.status.busy": "2024-10-30T23:55:10.414765Z",
     "iopub.status.idle": "2024-10-30T23:55:10.632222Z",
     "shell.execute_reply": "2024-10-30T23:55:10.631087Z"
    },
    "papermill": {
     "duration": 0.226522,
     "end_time": "2024-10-30T23:55:10.634475",
     "exception": false,
     "start_time": "2024-10-30T23:55:10.407953",
     "status": "completed"
    },
    "tags": []
   },
   "outputs": [
    {
     "data": {
      "text/html": [
       "<div>\n",
       "<style scoped>\n",
       "    .dataframe tbody tr th:only-of-type {\n",
       "        vertical-align: middle;\n",
       "    }\n",
       "\n",
       "    .dataframe tbody tr th {\n",
       "        vertical-align: top;\n",
       "    }\n",
       "\n",
       "    .dataframe thead th {\n",
       "        text-align: right;\n",
       "    }\n",
       "</style>\n",
       "<table border=\"1\" class=\"dataframe\">\n",
       "  <thead>\n",
       "    <tr style=\"text-align: right;\">\n",
       "      <th></th>\n",
       "      <th>ApplicationDate</th>\n",
       "      <th>Age</th>\n",
       "      <th>AnnualIncome</th>\n",
       "      <th>CreditScore</th>\n",
       "      <th>EmploymentStatus</th>\n",
       "      <th>EducationLevel</th>\n",
       "      <th>Experience</th>\n",
       "      <th>LoanAmount</th>\n",
       "      <th>LoanDuration</th>\n",
       "      <th>MaritalStatus</th>\n",
       "      <th>...</th>\n",
       "      <th>MonthlyIncome</th>\n",
       "      <th>UtilityBillsPaymentHistory</th>\n",
       "      <th>JobTenure</th>\n",
       "      <th>NetWorth</th>\n",
       "      <th>BaseInterestRate</th>\n",
       "      <th>InterestRate</th>\n",
       "      <th>MonthlyLoanPayment</th>\n",
       "      <th>TotalDebtToIncomeRatio</th>\n",
       "      <th>LoanApproved</th>\n",
       "      <th>RiskScore</th>\n",
       "    </tr>\n",
       "  </thead>\n",
       "  <tbody>\n",
       "    <tr>\n",
       "      <th>0</th>\n",
       "      <td>2018-01-01</td>\n",
       "      <td>45</td>\n",
       "      <td>39948</td>\n",
       "      <td>617</td>\n",
       "      <td>Employed</td>\n",
       "      <td>Master</td>\n",
       "      <td>22</td>\n",
       "      <td>13152</td>\n",
       "      <td>48</td>\n",
       "      <td>Married</td>\n",
       "      <td>...</td>\n",
       "      <td>3329.000000</td>\n",
       "      <td>0.724972</td>\n",
       "      <td>11</td>\n",
       "      <td>126928</td>\n",
       "      <td>0.199652</td>\n",
       "      <td>0.227590</td>\n",
       "      <td>419.805992</td>\n",
       "      <td>0.181077</td>\n",
       "      <td>0</td>\n",
       "      <td>49.0</td>\n",
       "    </tr>\n",
       "    <tr>\n",
       "      <th>1</th>\n",
       "      <td>2018-01-02</td>\n",
       "      <td>38</td>\n",
       "      <td>39709</td>\n",
       "      <td>628</td>\n",
       "      <td>Employed</td>\n",
       "      <td>Associate</td>\n",
       "      <td>15</td>\n",
       "      <td>26045</td>\n",
       "      <td>48</td>\n",
       "      <td>Single</td>\n",
       "      <td>...</td>\n",
       "      <td>3309.083333</td>\n",
       "      <td>0.935132</td>\n",
       "      <td>3</td>\n",
       "      <td>43609</td>\n",
       "      <td>0.207045</td>\n",
       "      <td>0.201077</td>\n",
       "      <td>794.054238</td>\n",
       "      <td>0.389852</td>\n",
       "      <td>0</td>\n",
       "      <td>52.0</td>\n",
       "    </tr>\n",
       "    <tr>\n",
       "      <th>2</th>\n",
       "      <td>2018-01-03</td>\n",
       "      <td>47</td>\n",
       "      <td>40724</td>\n",
       "      <td>570</td>\n",
       "      <td>Employed</td>\n",
       "      <td>Bachelor</td>\n",
       "      <td>26</td>\n",
       "      <td>17627</td>\n",
       "      <td>36</td>\n",
       "      <td>Married</td>\n",
       "      <td>...</td>\n",
       "      <td>3393.666667</td>\n",
       "      <td>0.872241</td>\n",
       "      <td>6</td>\n",
       "      <td>5205</td>\n",
       "      <td>0.217627</td>\n",
       "      <td>0.212548</td>\n",
       "      <td>666.406688</td>\n",
       "      <td>0.462157</td>\n",
       "      <td>0</td>\n",
       "      <td>52.0</td>\n",
       "    </tr>\n",
       "    <tr>\n",
       "      <th>3</th>\n",
       "      <td>2018-01-04</td>\n",
       "      <td>58</td>\n",
       "      <td>69084</td>\n",
       "      <td>545</td>\n",
       "      <td>Employed</td>\n",
       "      <td>High School</td>\n",
       "      <td>34</td>\n",
       "      <td>37898</td>\n",
       "      <td>96</td>\n",
       "      <td>Single</td>\n",
       "      <td>...</td>\n",
       "      <td>5757.000000</td>\n",
       "      <td>0.896155</td>\n",
       "      <td>5</td>\n",
       "      <td>99452</td>\n",
       "      <td>0.300398</td>\n",
       "      <td>0.300911</td>\n",
       "      <td>1047.506980</td>\n",
       "      <td>0.313098</td>\n",
       "      <td>0</td>\n",
       "      <td>54.0</td>\n",
       "    </tr>\n",
       "    <tr>\n",
       "      <th>4</th>\n",
       "      <td>2018-01-05</td>\n",
       "      <td>37</td>\n",
       "      <td>103264</td>\n",
       "      <td>594</td>\n",
       "      <td>Employed</td>\n",
       "      <td>Associate</td>\n",
       "      <td>17</td>\n",
       "      <td>9184</td>\n",
       "      <td>36</td>\n",
       "      <td>Married</td>\n",
       "      <td>...</td>\n",
       "      <td>8605.333333</td>\n",
       "      <td>0.941369</td>\n",
       "      <td>5</td>\n",
       "      <td>227019</td>\n",
       "      <td>0.197184</td>\n",
       "      <td>0.175990</td>\n",
       "      <td>330.179140</td>\n",
       "      <td>0.070210</td>\n",
       "      <td>1</td>\n",
       "      <td>36.0</td>\n",
       "    </tr>\n",
       "  </tbody>\n",
       "</table>\n",
       "<p>5 rows × 36 columns</p>\n",
       "</div>"
      ],
      "text/plain": [
       "  ApplicationDate  Age  AnnualIncome  CreditScore EmploymentStatus  \\\n",
       "0      2018-01-01   45         39948          617         Employed   \n",
       "1      2018-01-02   38         39709          628         Employed   \n",
       "2      2018-01-03   47         40724          570         Employed   \n",
       "3      2018-01-04   58         69084          545         Employed   \n",
       "4      2018-01-05   37        103264          594         Employed   \n",
       "\n",
       "  EducationLevel  Experience  LoanAmount  LoanDuration MaritalStatus  ...  \\\n",
       "0         Master          22       13152            48       Married  ...   \n",
       "1      Associate          15       26045            48        Single  ...   \n",
       "2       Bachelor          26       17627            36       Married  ...   \n",
       "3    High School          34       37898            96        Single  ...   \n",
       "4      Associate          17        9184            36       Married  ...   \n",
       "\n",
       "   MonthlyIncome UtilityBillsPaymentHistory  JobTenure  NetWorth  \\\n",
       "0    3329.000000                   0.724972         11    126928   \n",
       "1    3309.083333                   0.935132          3     43609   \n",
       "2    3393.666667                   0.872241          6      5205   \n",
       "3    5757.000000                   0.896155          5     99452   \n",
       "4    8605.333333                   0.941369          5    227019   \n",
       "\n",
       "   BaseInterestRate  InterestRate  MonthlyLoanPayment  TotalDebtToIncomeRatio  \\\n",
       "0          0.199652      0.227590          419.805992                0.181077   \n",
       "1          0.207045      0.201077          794.054238                0.389852   \n",
       "2          0.217627      0.212548          666.406688                0.462157   \n",
       "3          0.300398      0.300911         1047.506980                0.313098   \n",
       "4          0.197184      0.175990          330.179140                0.070210   \n",
       "\n",
       "  LoanApproved  RiskScore  \n",
       "0            0       49.0  \n",
       "1            0       52.0  \n",
       "2            0       52.0  \n",
       "3            0       54.0  \n",
       "4            1       36.0  \n",
       "\n",
       "[5 rows x 36 columns]"
      ]
     },
     "execution_count": 2,
     "metadata": {},
     "output_type": "execute_result"
    }
   ],
   "source": [
    "df = pd.read_csv('../input/financial-risk-for-loan-approval/Loan.csv')\n",
    "df.head()"
   ]
  },
  {
   "cell_type": "code",
   "execution_count": 3,
   "id": "d659569e",
   "metadata": {
    "execution": {
     "iopub.execute_input": "2024-10-30T23:55:10.648209Z",
     "iopub.status.busy": "2024-10-30T23:55:10.647263Z",
     "iopub.status.idle": "2024-10-30T23:55:10.678029Z",
     "shell.execute_reply": "2024-10-30T23:55:10.677008Z"
    },
    "papermill": {
     "duration": 0.040184,
     "end_time": "2024-10-30T23:55:10.680448",
     "exception": false,
     "start_time": "2024-10-30T23:55:10.640264",
     "status": "completed"
    },
    "tags": []
   },
   "outputs": [
    {
     "name": "stdout",
     "output_type": "stream",
     "text": [
      "<class 'pandas.core.frame.DataFrame'>\n",
      "RangeIndex: 20000 entries, 0 to 19999\n",
      "Data columns (total 36 columns):\n",
      " #   Column                      Non-Null Count  Dtype  \n",
      "---  ------                      --------------  -----  \n",
      " 0   ApplicationDate             20000 non-null  object \n",
      " 1   Age                         20000 non-null  int64  \n",
      " 2   AnnualIncome                20000 non-null  int64  \n",
      " 3   CreditScore                 20000 non-null  int64  \n",
      " 4   EmploymentStatus            20000 non-null  object \n",
      " 5   EducationLevel              20000 non-null  object \n",
      " 6   Experience                  20000 non-null  int64  \n",
      " 7   LoanAmount                  20000 non-null  int64  \n",
      " 8   LoanDuration                20000 non-null  int64  \n",
      " 9   MaritalStatus               20000 non-null  object \n",
      " 10  NumberOfDependents          20000 non-null  int64  \n",
      " 11  HomeOwnershipStatus         20000 non-null  object \n",
      " 12  MonthlyDebtPayments         20000 non-null  int64  \n",
      " 13  CreditCardUtilizationRate   20000 non-null  float64\n",
      " 14  NumberOfOpenCreditLines     20000 non-null  int64  \n",
      " 15  NumberOfCreditInquiries     20000 non-null  int64  \n",
      " 16  DebtToIncomeRatio           20000 non-null  float64\n",
      " 17  BankruptcyHistory           20000 non-null  int64  \n",
      " 18  LoanPurpose                 20000 non-null  object \n",
      " 19  PreviousLoanDefaults        20000 non-null  int64  \n",
      " 20  PaymentHistory              20000 non-null  int64  \n",
      " 21  LengthOfCreditHistory       20000 non-null  int64  \n",
      " 22  SavingsAccountBalance       20000 non-null  int64  \n",
      " 23  CheckingAccountBalance      20000 non-null  int64  \n",
      " 24  TotalAssets                 20000 non-null  int64  \n",
      " 25  TotalLiabilities            20000 non-null  int64  \n",
      " 26  MonthlyIncome               20000 non-null  float64\n",
      " 27  UtilityBillsPaymentHistory  20000 non-null  float64\n",
      " 28  JobTenure                   20000 non-null  int64  \n",
      " 29  NetWorth                    20000 non-null  int64  \n",
      " 30  BaseInterestRate            20000 non-null  float64\n",
      " 31  InterestRate                20000 non-null  float64\n",
      " 32  MonthlyLoanPayment          20000 non-null  float64\n",
      " 33  TotalDebtToIncomeRatio      20000 non-null  float64\n",
      " 34  LoanApproved                20000 non-null  int64  \n",
      " 35  RiskScore                   20000 non-null  float64\n",
      "dtypes: float64(9), int64(21), object(6)\n",
      "memory usage: 5.5+ MB\n"
     ]
    }
   ],
   "source": [
    "df.info()"
   ]
  },
  {
   "cell_type": "code",
   "execution_count": 4,
   "id": "77c41c82",
   "metadata": {
    "execution": {
     "iopub.execute_input": "2024-10-30T23:55:10.693752Z",
     "iopub.status.busy": "2024-10-30T23:55:10.693354Z",
     "iopub.status.idle": "2024-10-30T23:55:10.712487Z",
     "shell.execute_reply": "2024-10-30T23:55:10.711264Z"
    },
    "papermill": {
     "duration": 0.028479,
     "end_time": "2024-10-30T23:55:10.714809",
     "exception": false,
     "start_time": "2024-10-30T23:55:10.686330",
     "status": "completed"
    },
    "tags": []
   },
   "outputs": [
    {
     "data": {
      "text/plain": [
       "ApplicationDate\n",
       "2018-01-01    1\n",
       "2054-07-01    1\n",
       "2054-07-08    1\n",
       "2054-07-07    1\n",
       "2054-07-06    1\n",
       "             ..\n",
       "2036-04-02    1\n",
       "2036-04-01    1\n",
       "2036-03-31    1\n",
       "2036-03-30    1\n",
       "2072-10-03    1\n",
       "Name: count, Length: 20000, dtype: int64"
      ]
     },
     "execution_count": 4,
     "metadata": {},
     "output_type": "execute_result"
    }
   ],
   "source": [
    "df['ApplicationDate'].value_counts()"
   ]
  },
  {
   "cell_type": "code",
   "execution_count": 5,
   "id": "7f81ba6f",
   "metadata": {
    "execution": {
     "iopub.execute_input": "2024-10-30T23:55:10.729362Z",
     "iopub.status.busy": "2024-10-30T23:55:10.728274Z",
     "iopub.status.idle": "2024-10-30T23:55:10.738214Z",
     "shell.execute_reply": "2024-10-30T23:55:10.737054Z"
    },
    "papermill": {
     "duration": 0.019318,
     "end_time": "2024-10-30T23:55:10.740383",
     "exception": false,
     "start_time": "2024-10-30T23:55:10.721065",
     "status": "completed"
    },
    "tags": []
   },
   "outputs": [
    {
     "data": {
      "text/plain": [
       "LoanPurpose\n",
       "Home                  5925\n",
       "Debt Consolidation    5027\n",
       "Auto                  4034\n",
       "Education             3008\n",
       "Other                 2006\n",
       "Name: count, dtype: int64"
      ]
     },
     "execution_count": 5,
     "metadata": {},
     "output_type": "execute_result"
    }
   ],
   "source": [
    "df['LoanPurpose'].value_counts()"
   ]
  },
  {
   "cell_type": "code",
   "execution_count": 6,
   "id": "bef99515",
   "metadata": {
    "execution": {
     "iopub.execute_input": "2024-10-30T23:55:10.755746Z",
     "iopub.status.busy": "2024-10-30T23:55:10.754857Z",
     "iopub.status.idle": "2024-10-30T23:55:10.765432Z",
     "shell.execute_reply": "2024-10-30T23:55:10.764397Z"
    },
    "papermill": {
     "duration": 0.021115,
     "end_time": "2024-10-30T23:55:10.767642",
     "exception": false,
     "start_time": "2024-10-30T23:55:10.746527",
     "status": "completed"
    },
    "tags": []
   },
   "outputs": [
    {
     "data": {
      "text/plain": [
       "HomeOwnershipStatus\n",
       "Mortgage    7939\n",
       "Rent        6087\n",
       "Own         3938\n",
       "Other       2036\n",
       "Name: count, dtype: int64"
      ]
     },
     "execution_count": 6,
     "metadata": {},
     "output_type": "execute_result"
    }
   ],
   "source": [
    "df['HomeOwnershipStatus'].value_counts()"
   ]
  },
  {
   "cell_type": "code",
   "execution_count": 7,
   "id": "a717a256",
   "metadata": {
    "execution": {
     "iopub.execute_input": "2024-10-30T23:55:10.782181Z",
     "iopub.status.busy": "2024-10-30T23:55:10.781207Z",
     "iopub.status.idle": "2024-10-30T23:55:10.790957Z",
     "shell.execute_reply": "2024-10-30T23:55:10.789957Z"
    },
    "papermill": {
     "duration": 0.019181,
     "end_time": "2024-10-30T23:55:10.793000",
     "exception": false,
     "start_time": "2024-10-30T23:55:10.773819",
     "status": "completed"
    },
    "tags": []
   },
   "outputs": [
    {
     "data": {
      "text/plain": [
       "EmploymentStatus\n",
       "Employed         17036\n",
       "Self-Employed     1573\n",
       "Unemployed        1391\n",
       "Name: count, dtype: int64"
      ]
     },
     "execution_count": 7,
     "metadata": {},
     "output_type": "execute_result"
    }
   ],
   "source": [
    "df['EmploymentStatus'].value_counts()"
   ]
  },
  {
   "cell_type": "code",
   "execution_count": 8,
   "id": "0b2584ab",
   "metadata": {
    "execution": {
     "iopub.execute_input": "2024-10-30T23:55:10.807651Z",
     "iopub.status.busy": "2024-10-30T23:55:10.807256Z",
     "iopub.status.idle": "2024-10-30T23:55:10.817901Z",
     "shell.execute_reply": "2024-10-30T23:55:10.816894Z"
    },
    "papermill": {
     "duration": 0.020671,
     "end_time": "2024-10-30T23:55:10.820089",
     "exception": false,
     "start_time": "2024-10-30T23:55:10.799418",
     "status": "completed"
    },
    "tags": []
   },
   "outputs": [
    {
     "data": {
      "text/plain": [
       "EducationLevel\n",
       "Bachelor       6054\n",
       "High School    5908\n",
       "Associate      4034\n",
       "Master         3050\n",
       "Doctorate       954\n",
       "Name: count, dtype: int64"
      ]
     },
     "execution_count": 8,
     "metadata": {},
     "output_type": "execute_result"
    }
   ],
   "source": [
    "df['EducationLevel'].value_counts()"
   ]
  },
  {
   "cell_type": "code",
   "execution_count": 9,
   "id": "2ffe3210",
   "metadata": {
    "execution": {
     "iopub.execute_input": "2024-10-30T23:55:10.835103Z",
     "iopub.status.busy": "2024-10-30T23:55:10.834150Z",
     "iopub.status.idle": "2024-10-30T23:55:10.844143Z",
     "shell.execute_reply": "2024-10-30T23:55:10.842809Z"
    },
    "papermill": {
     "duration": 0.020027,
     "end_time": "2024-10-30T23:55:10.846478",
     "exception": false,
     "start_time": "2024-10-30T23:55:10.826451",
     "status": "completed"
    },
    "tags": []
   },
   "outputs": [
    {
     "data": {
      "text/plain": [
       "MaritalStatus\n",
       "Married     10041\n",
       "Single       6078\n",
       "Divorced     2882\n",
       "Widowed       999\n",
       "Name: count, dtype: int64"
      ]
     },
     "execution_count": 9,
     "metadata": {},
     "output_type": "execute_result"
    }
   ],
   "source": [
    "df['MaritalStatus'].value_counts()"
   ]
  },
  {
   "cell_type": "code",
   "execution_count": 10,
   "id": "c343ef06",
   "metadata": {
    "execution": {
     "iopub.execute_input": "2024-10-30T23:55:10.861993Z",
     "iopub.status.busy": "2024-10-30T23:55:10.861131Z",
     "iopub.status.idle": "2024-10-30T23:55:10.871496Z",
     "shell.execute_reply": "2024-10-30T23:55:10.870524Z"
    },
    "papermill": {
     "duration": 0.020366,
     "end_time": "2024-10-30T23:55:10.873622",
     "exception": false,
     "start_time": "2024-10-30T23:55:10.853256",
     "status": "completed"
    },
    "tags": []
   },
   "outputs": [
    {
     "data": {
      "text/plain": [
       "LoanApproved\n",
       "0    15220\n",
       "1     4780\n",
       "Name: count, dtype: int64"
      ]
     },
     "execution_count": 10,
     "metadata": {},
     "output_type": "execute_result"
    }
   ],
   "source": [
    "df['LoanApproved'].value_counts()"
   ]
  },
  {
   "cell_type": "code",
   "execution_count": 11,
   "id": "a88f7b6c",
   "metadata": {
    "execution": {
     "iopub.execute_input": "2024-10-30T23:55:10.889002Z",
     "iopub.status.busy": "2024-10-30T23:55:10.888046Z",
     "iopub.status.idle": "2024-10-30T23:55:10.903042Z",
     "shell.execute_reply": "2024-10-30T23:55:10.901694Z"
    },
    "papermill": {
     "duration": 0.025119,
     "end_time": "2024-10-30T23:55:10.905363",
     "exception": false,
     "start_time": "2024-10-30T23:55:10.880244",
     "status": "completed"
    },
    "tags": []
   },
   "outputs": [],
   "source": [
    "df['ApplicationDate'] = pd.to_datetime(df['ApplicationDate'])\n",
    "df.set_index('ApplicationDate', inplace=True)"
   ]
  },
  {
   "cell_type": "code",
   "execution_count": 12,
   "id": "76323d91",
   "metadata": {
    "execution": {
     "iopub.execute_input": "2024-10-30T23:55:10.920246Z",
     "iopub.status.busy": "2024-10-30T23:55:10.919810Z",
     "iopub.status.idle": "2024-10-30T23:55:10.945380Z",
     "shell.execute_reply": "2024-10-30T23:55:10.944295Z"
    },
    "papermill": {
     "duration": 0.035772,
     "end_time": "2024-10-30T23:55:10.947757",
     "exception": false,
     "start_time": "2024-10-30T23:55:10.911985",
     "status": "completed"
    },
    "tags": []
   },
   "outputs": [
    {
     "data": {
      "text/html": [
       "<div>\n",
       "<style scoped>\n",
       "    .dataframe tbody tr th:only-of-type {\n",
       "        vertical-align: middle;\n",
       "    }\n",
       "\n",
       "    .dataframe tbody tr th {\n",
       "        vertical-align: top;\n",
       "    }\n",
       "\n",
       "    .dataframe thead th {\n",
       "        text-align: right;\n",
       "    }\n",
       "</style>\n",
       "<table border=\"1\" class=\"dataframe\">\n",
       "  <thead>\n",
       "    <tr style=\"text-align: right;\">\n",
       "      <th></th>\n",
       "      <th>Age</th>\n",
       "      <th>AnnualIncome</th>\n",
       "      <th>CreditScore</th>\n",
       "      <th>EmploymentStatus</th>\n",
       "      <th>EducationLevel</th>\n",
       "      <th>Experience</th>\n",
       "      <th>LoanAmount</th>\n",
       "      <th>LoanDuration</th>\n",
       "      <th>MaritalStatus</th>\n",
       "      <th>NumberOfDependents</th>\n",
       "      <th>...</th>\n",
       "      <th>MonthlyIncome</th>\n",
       "      <th>UtilityBillsPaymentHistory</th>\n",
       "      <th>JobTenure</th>\n",
       "      <th>NetWorth</th>\n",
       "      <th>BaseInterestRate</th>\n",
       "      <th>InterestRate</th>\n",
       "      <th>MonthlyLoanPayment</th>\n",
       "      <th>TotalDebtToIncomeRatio</th>\n",
       "      <th>LoanApproved</th>\n",
       "      <th>RiskScore</th>\n",
       "    </tr>\n",
       "    <tr>\n",
       "      <th>ApplicationDate</th>\n",
       "      <th></th>\n",
       "      <th></th>\n",
       "      <th></th>\n",
       "      <th></th>\n",
       "      <th></th>\n",
       "      <th></th>\n",
       "      <th></th>\n",
       "      <th></th>\n",
       "      <th></th>\n",
       "      <th></th>\n",
       "      <th></th>\n",
       "      <th></th>\n",
       "      <th></th>\n",
       "      <th></th>\n",
       "      <th></th>\n",
       "      <th></th>\n",
       "      <th></th>\n",
       "      <th></th>\n",
       "      <th></th>\n",
       "      <th></th>\n",
       "      <th></th>\n",
       "    </tr>\n",
       "  </thead>\n",
       "  <tbody>\n",
       "    <tr>\n",
       "      <th>2018-01-01</th>\n",
       "      <td>45</td>\n",
       "      <td>39948</td>\n",
       "      <td>617</td>\n",
       "      <td>Employed</td>\n",
       "      <td>Master</td>\n",
       "      <td>22</td>\n",
       "      <td>13152</td>\n",
       "      <td>48</td>\n",
       "      <td>Married</td>\n",
       "      <td>2</td>\n",
       "      <td>...</td>\n",
       "      <td>3329.000000</td>\n",
       "      <td>0.724972</td>\n",
       "      <td>11</td>\n",
       "      <td>126928</td>\n",
       "      <td>0.199652</td>\n",
       "      <td>0.227590</td>\n",
       "      <td>419.805992</td>\n",
       "      <td>0.181077</td>\n",
       "      <td>0</td>\n",
       "      <td>49.0</td>\n",
       "    </tr>\n",
       "    <tr>\n",
       "      <th>2018-01-02</th>\n",
       "      <td>38</td>\n",
       "      <td>39709</td>\n",
       "      <td>628</td>\n",
       "      <td>Employed</td>\n",
       "      <td>Associate</td>\n",
       "      <td>15</td>\n",
       "      <td>26045</td>\n",
       "      <td>48</td>\n",
       "      <td>Single</td>\n",
       "      <td>1</td>\n",
       "      <td>...</td>\n",
       "      <td>3309.083333</td>\n",
       "      <td>0.935132</td>\n",
       "      <td>3</td>\n",
       "      <td>43609</td>\n",
       "      <td>0.207045</td>\n",
       "      <td>0.201077</td>\n",
       "      <td>794.054238</td>\n",
       "      <td>0.389852</td>\n",
       "      <td>0</td>\n",
       "      <td>52.0</td>\n",
       "    </tr>\n",
       "    <tr>\n",
       "      <th>2018-01-03</th>\n",
       "      <td>47</td>\n",
       "      <td>40724</td>\n",
       "      <td>570</td>\n",
       "      <td>Employed</td>\n",
       "      <td>Bachelor</td>\n",
       "      <td>26</td>\n",
       "      <td>17627</td>\n",
       "      <td>36</td>\n",
       "      <td>Married</td>\n",
       "      <td>2</td>\n",
       "      <td>...</td>\n",
       "      <td>3393.666667</td>\n",
       "      <td>0.872241</td>\n",
       "      <td>6</td>\n",
       "      <td>5205</td>\n",
       "      <td>0.217627</td>\n",
       "      <td>0.212548</td>\n",
       "      <td>666.406688</td>\n",
       "      <td>0.462157</td>\n",
       "      <td>0</td>\n",
       "      <td>52.0</td>\n",
       "    </tr>\n",
       "    <tr>\n",
       "      <th>2018-01-04</th>\n",
       "      <td>58</td>\n",
       "      <td>69084</td>\n",
       "      <td>545</td>\n",
       "      <td>Employed</td>\n",
       "      <td>High School</td>\n",
       "      <td>34</td>\n",
       "      <td>37898</td>\n",
       "      <td>96</td>\n",
       "      <td>Single</td>\n",
       "      <td>1</td>\n",
       "      <td>...</td>\n",
       "      <td>5757.000000</td>\n",
       "      <td>0.896155</td>\n",
       "      <td>5</td>\n",
       "      <td>99452</td>\n",
       "      <td>0.300398</td>\n",
       "      <td>0.300911</td>\n",
       "      <td>1047.506980</td>\n",
       "      <td>0.313098</td>\n",
       "      <td>0</td>\n",
       "      <td>54.0</td>\n",
       "    </tr>\n",
       "    <tr>\n",
       "      <th>2018-01-05</th>\n",
       "      <td>37</td>\n",
       "      <td>103264</td>\n",
       "      <td>594</td>\n",
       "      <td>Employed</td>\n",
       "      <td>Associate</td>\n",
       "      <td>17</td>\n",
       "      <td>9184</td>\n",
       "      <td>36</td>\n",
       "      <td>Married</td>\n",
       "      <td>1</td>\n",
       "      <td>...</td>\n",
       "      <td>8605.333333</td>\n",
       "      <td>0.941369</td>\n",
       "      <td>5</td>\n",
       "      <td>227019</td>\n",
       "      <td>0.197184</td>\n",
       "      <td>0.175990</td>\n",
       "      <td>330.179140</td>\n",
       "      <td>0.070210</td>\n",
       "      <td>1</td>\n",
       "      <td>36.0</td>\n",
       "    </tr>\n",
       "  </tbody>\n",
       "</table>\n",
       "<p>5 rows × 35 columns</p>\n",
       "</div>"
      ],
      "text/plain": [
       "                 Age  AnnualIncome  CreditScore EmploymentStatus  \\\n",
       "ApplicationDate                                                    \n",
       "2018-01-01        45         39948          617         Employed   \n",
       "2018-01-02        38         39709          628         Employed   \n",
       "2018-01-03        47         40724          570         Employed   \n",
       "2018-01-04        58         69084          545         Employed   \n",
       "2018-01-05        37        103264          594         Employed   \n",
       "\n",
       "                EducationLevel  Experience  LoanAmount  LoanDuration  \\\n",
       "ApplicationDate                                                        \n",
       "2018-01-01              Master          22       13152            48   \n",
       "2018-01-02           Associate          15       26045            48   \n",
       "2018-01-03            Bachelor          26       17627            36   \n",
       "2018-01-04         High School          34       37898            96   \n",
       "2018-01-05           Associate          17        9184            36   \n",
       "\n",
       "                MaritalStatus  NumberOfDependents  ... MonthlyIncome  \\\n",
       "ApplicationDate                                    ...                 \n",
       "2018-01-01            Married                   2  ...   3329.000000   \n",
       "2018-01-02             Single                   1  ...   3309.083333   \n",
       "2018-01-03            Married                   2  ...   3393.666667   \n",
       "2018-01-04             Single                   1  ...   5757.000000   \n",
       "2018-01-05            Married                   1  ...   8605.333333   \n",
       "\n",
       "                 UtilityBillsPaymentHistory  JobTenure  NetWorth  \\\n",
       "ApplicationDate                                                    \n",
       "2018-01-01                         0.724972         11    126928   \n",
       "2018-01-02                         0.935132          3     43609   \n",
       "2018-01-03                         0.872241          6      5205   \n",
       "2018-01-04                         0.896155          5     99452   \n",
       "2018-01-05                         0.941369          5    227019   \n",
       "\n",
       "                 BaseInterestRate  InterestRate  MonthlyLoanPayment  \\\n",
       "ApplicationDate                                                       \n",
       "2018-01-01               0.199652      0.227590          419.805992   \n",
       "2018-01-02               0.207045      0.201077          794.054238   \n",
       "2018-01-03               0.217627      0.212548          666.406688   \n",
       "2018-01-04               0.300398      0.300911         1047.506980   \n",
       "2018-01-05               0.197184      0.175990          330.179140   \n",
       "\n",
       "                TotalDebtToIncomeRatio  LoanApproved  RiskScore  \n",
       "ApplicationDate                                                  \n",
       "2018-01-01                    0.181077             0       49.0  \n",
       "2018-01-02                    0.389852             0       52.0  \n",
       "2018-01-03                    0.462157             0       52.0  \n",
       "2018-01-04                    0.313098             0       54.0  \n",
       "2018-01-05                    0.070210             1       36.0  \n",
       "\n",
       "[5 rows x 35 columns]"
      ]
     },
     "execution_count": 12,
     "metadata": {},
     "output_type": "execute_result"
    }
   ],
   "source": [
    "df.head()"
   ]
  },
  {
   "cell_type": "code",
   "execution_count": 13,
   "id": "4d6b2d3b",
   "metadata": {
    "execution": {
     "iopub.execute_input": "2024-10-30T23:55:10.963413Z",
     "iopub.status.busy": "2024-10-30T23:55:10.963014Z",
     "iopub.status.idle": "2024-10-30T23:55:10.973266Z",
     "shell.execute_reply": "2024-10-30T23:55:10.972259Z"
    },
    "papermill": {
     "duration": 0.021121,
     "end_time": "2024-10-30T23:55:10.975914",
     "exception": false,
     "start_time": "2024-10-30T23:55:10.954793",
     "status": "completed"
    },
    "tags": []
   },
   "outputs": [],
   "source": [
    "X=df.drop('LoanApproved',axis=1)\n",
    "y=df[['LoanApproved']]"
   ]
  },
  {
   "cell_type": "code",
   "execution_count": 14,
   "id": "4e9cf506",
   "metadata": {
    "execution": {
     "iopub.execute_input": "2024-10-30T23:55:10.991777Z",
     "iopub.status.busy": "2024-10-30T23:55:10.991257Z",
     "iopub.status.idle": "2024-10-30T23:55:12.251970Z",
     "shell.execute_reply": "2024-10-30T23:55:12.250826Z"
    },
    "papermill": {
     "duration": 1.271755,
     "end_time": "2024-10-30T23:55:12.254682",
     "exception": false,
     "start_time": "2024-10-30T23:55:10.982927",
     "status": "completed"
    },
    "tags": []
   },
   "outputs": [],
   "source": [
    "# Encoding\n",
    "from sklearn.preprocessing import LabelEncoder\n",
    "le=LabelEncoder()\n",
    "for cols in X.select_dtypes('object').columns:\n",
    "    X[cols]=le.fit_transform(X[cols])"
   ]
  },
  {
   "cell_type": "code",
   "execution_count": 15,
   "id": "719020b2",
   "metadata": {
    "execution": {
     "iopub.execute_input": "2024-10-30T23:55:12.271309Z",
     "iopub.status.busy": "2024-10-30T23:55:12.270325Z",
     "iopub.status.idle": "2024-10-30T23:55:12.298882Z",
     "shell.execute_reply": "2024-10-30T23:55:12.297756Z"
    },
    "papermill": {
     "duration": 0.039618,
     "end_time": "2024-10-30T23:55:12.301567",
     "exception": false,
     "start_time": "2024-10-30T23:55:12.261949",
     "status": "completed"
    },
    "tags": []
   },
   "outputs": [],
   "source": [
    "#Scaling\n",
    "from sklearn.preprocessing import StandardScaler\n",
    "scaler=StandardScaler()\n",
    "X=scaler.fit_transform(X)"
   ]
  },
  {
   "cell_type": "code",
   "execution_count": 16,
   "id": "45df9f38",
   "metadata": {
    "execution": {
     "iopub.execute_input": "2024-10-30T23:55:12.317501Z",
     "iopub.status.busy": "2024-10-30T23:55:12.317049Z",
     "iopub.status.idle": "2024-10-30T23:55:12.427760Z",
     "shell.execute_reply": "2024-10-30T23:55:12.426604Z"
    },
    "papermill": {
     "duration": 0.121914,
     "end_time": "2024-10-30T23:55:12.430671",
     "exception": false,
     "start_time": "2024-10-30T23:55:12.308757",
     "status": "completed"
    },
    "tags": []
   },
   "outputs": [],
   "source": [
    "from sklearn.model_selection import train_test_split\n",
    "X_train,X_test,y_train,y_test=train_test_split(X,y,random_state=42,test_size=0.2)"
   ]
  },
  {
   "cell_type": "code",
   "execution_count": 17,
   "id": "d65f5490",
   "metadata": {
    "execution": {
     "iopub.execute_input": "2024-10-30T23:55:12.447425Z",
     "iopub.status.busy": "2024-10-30T23:55:12.446364Z",
     "iopub.status.idle": "2024-10-30T23:55:13.030261Z",
     "shell.execute_reply": "2024-10-30T23:55:13.029272Z"
    },
    "papermill": {
     "duration": 0.595169,
     "end_time": "2024-10-30T23:55:13.033093",
     "exception": false,
     "start_time": "2024-10-30T23:55:12.437924",
     "status": "completed"
    },
    "tags": []
   },
   "outputs": [],
   "source": [
    "from imblearn.over_sampling import SMOTE\n",
    "\n",
    "oversampler = SMOTE(random_state=42)\n",
    "X_train, y_train = oversampler.fit_resample(X_train, y_train)"
   ]
  },
  {
   "cell_type": "code",
   "execution_count": 18,
   "id": "37d122f5",
   "metadata": {
    "execution": {
     "iopub.execute_input": "2024-10-30T23:55:13.050763Z",
     "iopub.status.busy": "2024-10-30T23:55:13.049596Z",
     "iopub.status.idle": "2024-10-30T23:55:13.060608Z",
     "shell.execute_reply": "2024-10-30T23:55:13.059493Z"
    },
    "papermill": {
     "duration": 0.022257,
     "end_time": "2024-10-30T23:55:13.062938",
     "exception": false,
     "start_time": "2024-10-30T23:55:13.040681",
     "status": "completed"
    },
    "tags": []
   },
   "outputs": [
    {
     "data": {
      "text/plain": [
       "LoanApproved\n",
       "0               12237\n",
       "1               12237\n",
       "Name: count, dtype: int64"
      ]
     },
     "execution_count": 18,
     "metadata": {},
     "output_type": "execute_result"
    }
   ],
   "source": [
    "y_train.value_counts()"
   ]
  },
  {
   "cell_type": "code",
   "execution_count": 19,
   "id": "478ccd6f",
   "metadata": {
    "execution": {
     "iopub.execute_input": "2024-10-30T23:55:13.079116Z",
     "iopub.status.busy": "2024-10-30T23:55:13.078648Z",
     "iopub.status.idle": "2024-10-30T23:55:13.255560Z",
     "shell.execute_reply": "2024-10-30T23:55:13.254275Z"
    },
    "papermill": {
     "duration": 0.18802,
     "end_time": "2024-10-30T23:55:13.258142",
     "exception": false,
     "start_time": "2024-10-30T23:55:13.070122",
     "status": "completed"
    },
    "tags": []
   },
   "outputs": [],
   "source": [
    "from sklearn.ensemble import RandomForestClassifier\n",
    "from xgboost import XGBClassifier\n",
    "from sklearn.metrics import accuracy_score, classification_report, confusion_matrix, precision_score, recall_score, f1_score"
   ]
  },
  {
   "cell_type": "code",
   "execution_count": 20,
   "id": "a20e370b",
   "metadata": {
    "execution": {
     "iopub.execute_input": "2024-10-30T23:55:13.274577Z",
     "iopub.status.busy": "2024-10-30T23:55:13.274008Z",
     "iopub.status.idle": "2024-10-30T23:55:22.350519Z",
     "shell.execute_reply": "2024-10-30T23:55:22.348777Z"
    },
    "papermill": {
     "duration": 9.087799,
     "end_time": "2024-10-30T23:55:22.353228",
     "exception": false,
     "start_time": "2024-10-30T23:55:13.265429",
     "status": "completed"
    },
    "tags": []
   },
   "outputs": [
    {
     "name": "stderr",
     "output_type": "stream",
     "text": [
      "/tmp/ipykernel_18/1816228377.py:3: DataConversionWarning: A column-vector y was passed when a 1d array was expected. Please change the shape of y to (n_samples,), for example using ravel().\n",
      "  rf_model.fit(X_train, y_train)\n"
     ]
    },
    {
     "name": "stdout",
     "output_type": "stream",
     "text": [
      "Random Forest Accuracy: 0.99175\n",
      "Random Forest Classification Report:\n",
      "               precision    recall  f1-score   support\n",
      "\n",
      "           0       1.00      0.99      0.99      2983\n",
      "           1       0.98      0.99      0.98      1017\n",
      "\n",
      "    accuracy                           0.99      4000\n",
      "   macro avg       0.99      0.99      0.99      4000\n",
      "weighted avg       0.99      0.99      0.99      4000\n",
      "\n",
      "Random Forest Confusion Matrix:\n",
      " [[2962   21]\n",
      " [  12 1005]]\n"
     ]
    }
   ],
   "source": [
    "rf_model = RandomForestClassifier(random_state=42)\n",
    "#rf_model = RandomForestClassifier(criterion = 'gini',n_estimators=160,random_state=0)\n",
    "rf_model.fit(X_train, y_train)\n",
    "\n",
    "# Predict on the test set\n",
    "rf_predictions = rf_model.predict(X_test)\n",
    "\n",
    "# Evaluate Random Forest\n",
    "rf_accuracy = accuracy_score(y_test, rf_predictions)\n",
    "print(\"Random Forest Accuracy:\", rf_accuracy)\n",
    "print(\"Random Forest Classification Report:\\n\", classification_report(y_test, rf_predictions))\n",
    "print(\"Random Forest Confusion Matrix:\\n\", confusion_matrix(y_test, rf_predictions))"
   ]
  },
  {
   "cell_type": "code",
   "execution_count": 21,
   "id": "2b580578",
   "metadata": {
    "execution": {
     "iopub.execute_input": "2024-10-30T23:55:22.370219Z",
     "iopub.status.busy": "2024-10-30T23:55:22.369415Z",
     "iopub.status.idle": "2024-10-30T23:55:22.901708Z",
     "shell.execute_reply": "2024-10-30T23:55:22.900382Z"
    },
    "papermill": {
     "duration": 0.543497,
     "end_time": "2024-10-30T23:55:22.904208",
     "exception": false,
     "start_time": "2024-10-30T23:55:22.360711",
     "status": "completed"
    },
    "tags": []
   },
   "outputs": [
    {
     "name": "stdout",
     "output_type": "stream",
     "text": [
      "XGBoost Accuracy: 0.999\n",
      "XGBoost Classification Report:\n",
      "               precision    recall  f1-score   support\n",
      "\n",
      "           0       1.00      1.00      1.00      2983\n",
      "           1       1.00      1.00      1.00      1017\n",
      "\n",
      "    accuracy                           1.00      4000\n",
      "   macro avg       1.00      1.00      1.00      4000\n",
      "weighted avg       1.00      1.00      1.00      4000\n",
      "\n",
      "XGBoost Confusion Matrix:\n",
      " [[2980    3]\n",
      " [   1 1016]]\n"
     ]
    }
   ],
   "source": [
    "# XGBoost Classifier\n",
    "xgb_model = XGBClassifier(use_label_encoder=False, eval_metric='logloss', random_state=42)\n",
    "xgb_model.fit(X_train, y_train)\n",
    "\n",
    "# Predict on the test set\n",
    "xgb_predictions = xgb_model.predict(X_test)\n",
    "\n",
    "# Evaluate XGBoost\n",
    "xgb_accuracy = accuracy_score(y_test, xgb_predictions)\n",
    "print(\"XGBoost Accuracy:\", xgb_accuracy)\n",
    "print(\"XGBoost Classification Report:\\n\", classification_report(y_test, xgb_predictions))\n",
    "print(\"XGBoost Confusion Matrix:\\n\", confusion_matrix(y_test, xgb_predictions))"
   ]
  }
 ],
 "metadata": {
  "kaggle": {
   "accelerator": "none",
   "dataSources": [
    {
     "datasetId": 5660999,
     "sourceId": 9341109,
     "sourceType": "datasetVersion"
    }
   ],
   "dockerImageVersionId": 30786,
   "isGpuEnabled": false,
   "isInternetEnabled": true,
   "language": "python",
   "sourceType": "notebook"
  },
  "kernelspec": {
   "display_name": "Python 3",
   "language": "python",
   "name": "python3"
  },
  "language_info": {
   "codemirror_mode": {
    "name": "ipython",
    "version": 3
   },
   "file_extension": ".py",
   "mimetype": "text/x-python",
   "name": "python",
   "nbconvert_exporter": "python",
   "pygments_lexer": "ipython3",
   "version": "3.10.14"
  },
  "papermill": {
   "default_parameters": {},
   "duration": 16.991899,
   "end_time": "2024-10-30T23:55:23.532249",
   "environment_variables": {},
   "exception": null,
   "input_path": "__notebook__.ipynb",
   "output_path": "__notebook__.ipynb",
   "parameters": {},
   "start_time": "2024-10-30T23:55:06.540350",
   "version": "2.6.0"
  }
 },
 "nbformat": 4,
 "nbformat_minor": 5
}
