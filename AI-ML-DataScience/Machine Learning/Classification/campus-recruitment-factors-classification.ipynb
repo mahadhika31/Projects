{
 "cells": [
  {
   "cell_type": "code",
   "execution_count": 1,
   "id": "7dffd0f4",
   "metadata": {
    "_cell_guid": "b1076dfc-b9ad-4769-8c92-a6c4dae69d19",
    "_uuid": "8f2839f25d086af736a60e9eeb907d3b93b6e0e5",
    "execution": {
     "iopub.execute_input": "2024-10-19T22:20:56.690356Z",
     "iopub.status.busy": "2024-10-19T22:20:56.689329Z",
     "iopub.status.idle": "2024-10-19T22:20:57.541199Z",
     "shell.execute_reply": "2024-10-19T22:20:57.540027Z"
    },
    "papermill": {
     "duration": 0.860362,
     "end_time": "2024-10-19T22:20:57.543704",
     "exception": false,
     "start_time": "2024-10-19T22:20:56.683342",
     "status": "completed"
    },
    "tags": []
   },
   "outputs": [
    {
     "name": "stdout",
     "output_type": "stream",
     "text": [
      "/kaggle/input/factors-affecting-campus-placement/Placement_Data_Full_Class.csv\n"
     ]
    }
   ],
   "source": [
    "import numpy as np \n",
    "import pandas as pd\n",
    "import matplotlib.pyplot as plt\n",
    "import os\n",
    "for dirname, _, filenames in os.walk('/kaggle/input'):\n",
    "    for filename in filenames:\n",
    "        print(os.path.join(dirname, filename))"
   ]
  },
  {
   "cell_type": "code",
   "execution_count": 2,
   "id": "ba100884",
   "metadata": {
    "execution": {
     "iopub.execute_input": "2024-10-19T22:20:57.553707Z",
     "iopub.status.busy": "2024-10-19T22:20:57.552547Z",
     "iopub.status.idle": "2024-10-19T22:20:57.592647Z",
     "shell.execute_reply": "2024-10-19T22:20:57.591630Z"
    },
    "papermill": {
     "duration": 0.047152,
     "end_time": "2024-10-19T22:20:57.594823",
     "exception": false,
     "start_time": "2024-10-19T22:20:57.547671",
     "status": "completed"
    },
    "tags": []
   },
   "outputs": [
    {
     "data": {
      "text/html": [
       "<div>\n",
       "<style scoped>\n",
       "    .dataframe tbody tr th:only-of-type {\n",
       "        vertical-align: middle;\n",
       "    }\n",
       "\n",
       "    .dataframe tbody tr th {\n",
       "        vertical-align: top;\n",
       "    }\n",
       "\n",
       "    .dataframe thead th {\n",
       "        text-align: right;\n",
       "    }\n",
       "</style>\n",
       "<table border=\"1\" class=\"dataframe\">\n",
       "  <thead>\n",
       "    <tr style=\"text-align: right;\">\n",
       "      <th></th>\n",
       "      <th>sl_no</th>\n",
       "      <th>gender</th>\n",
       "      <th>ssc_p</th>\n",
       "      <th>ssc_b</th>\n",
       "      <th>hsc_p</th>\n",
       "      <th>hsc_b</th>\n",
       "      <th>hsc_s</th>\n",
       "      <th>degree_p</th>\n",
       "      <th>degree_t</th>\n",
       "      <th>workex</th>\n",
       "      <th>etest_p</th>\n",
       "      <th>specialisation</th>\n",
       "      <th>mba_p</th>\n",
       "      <th>status</th>\n",
       "      <th>salary</th>\n",
       "    </tr>\n",
       "  </thead>\n",
       "  <tbody>\n",
       "    <tr>\n",
       "      <th>0</th>\n",
       "      <td>1</td>\n",
       "      <td>M</td>\n",
       "      <td>67.00</td>\n",
       "      <td>Others</td>\n",
       "      <td>91.00</td>\n",
       "      <td>Others</td>\n",
       "      <td>Commerce</td>\n",
       "      <td>58.00</td>\n",
       "      <td>Sci&amp;Tech</td>\n",
       "      <td>No</td>\n",
       "      <td>55.0</td>\n",
       "      <td>Mkt&amp;HR</td>\n",
       "      <td>58.80</td>\n",
       "      <td>Placed</td>\n",
       "      <td>270000.0</td>\n",
       "    </tr>\n",
       "    <tr>\n",
       "      <th>1</th>\n",
       "      <td>2</td>\n",
       "      <td>M</td>\n",
       "      <td>79.33</td>\n",
       "      <td>Central</td>\n",
       "      <td>78.33</td>\n",
       "      <td>Others</td>\n",
       "      <td>Science</td>\n",
       "      <td>77.48</td>\n",
       "      <td>Sci&amp;Tech</td>\n",
       "      <td>Yes</td>\n",
       "      <td>86.5</td>\n",
       "      <td>Mkt&amp;Fin</td>\n",
       "      <td>66.28</td>\n",
       "      <td>Placed</td>\n",
       "      <td>200000.0</td>\n",
       "    </tr>\n",
       "    <tr>\n",
       "      <th>2</th>\n",
       "      <td>3</td>\n",
       "      <td>M</td>\n",
       "      <td>65.00</td>\n",
       "      <td>Central</td>\n",
       "      <td>68.00</td>\n",
       "      <td>Central</td>\n",
       "      <td>Arts</td>\n",
       "      <td>64.00</td>\n",
       "      <td>Comm&amp;Mgmt</td>\n",
       "      <td>No</td>\n",
       "      <td>75.0</td>\n",
       "      <td>Mkt&amp;Fin</td>\n",
       "      <td>57.80</td>\n",
       "      <td>Placed</td>\n",
       "      <td>250000.0</td>\n",
       "    </tr>\n",
       "    <tr>\n",
       "      <th>3</th>\n",
       "      <td>4</td>\n",
       "      <td>M</td>\n",
       "      <td>56.00</td>\n",
       "      <td>Central</td>\n",
       "      <td>52.00</td>\n",
       "      <td>Central</td>\n",
       "      <td>Science</td>\n",
       "      <td>52.00</td>\n",
       "      <td>Sci&amp;Tech</td>\n",
       "      <td>No</td>\n",
       "      <td>66.0</td>\n",
       "      <td>Mkt&amp;HR</td>\n",
       "      <td>59.43</td>\n",
       "      <td>Not Placed</td>\n",
       "      <td>NaN</td>\n",
       "    </tr>\n",
       "    <tr>\n",
       "      <th>4</th>\n",
       "      <td>5</td>\n",
       "      <td>M</td>\n",
       "      <td>85.80</td>\n",
       "      <td>Central</td>\n",
       "      <td>73.60</td>\n",
       "      <td>Central</td>\n",
       "      <td>Commerce</td>\n",
       "      <td>73.30</td>\n",
       "      <td>Comm&amp;Mgmt</td>\n",
       "      <td>No</td>\n",
       "      <td>96.8</td>\n",
       "      <td>Mkt&amp;Fin</td>\n",
       "      <td>55.50</td>\n",
       "      <td>Placed</td>\n",
       "      <td>425000.0</td>\n",
       "    </tr>\n",
       "  </tbody>\n",
       "</table>\n",
       "</div>"
      ],
      "text/plain": [
       "   sl_no gender  ssc_p    ssc_b  hsc_p    hsc_b     hsc_s  degree_p  \\\n",
       "0      1      M  67.00   Others  91.00   Others  Commerce     58.00   \n",
       "1      2      M  79.33  Central  78.33   Others   Science     77.48   \n",
       "2      3      M  65.00  Central  68.00  Central      Arts     64.00   \n",
       "3      4      M  56.00  Central  52.00  Central   Science     52.00   \n",
       "4      5      M  85.80  Central  73.60  Central  Commerce     73.30   \n",
       "\n",
       "    degree_t workex  etest_p specialisation  mba_p      status    salary  \n",
       "0   Sci&Tech     No     55.0         Mkt&HR  58.80      Placed  270000.0  \n",
       "1   Sci&Tech    Yes     86.5        Mkt&Fin  66.28      Placed  200000.0  \n",
       "2  Comm&Mgmt     No     75.0        Mkt&Fin  57.80      Placed  250000.0  \n",
       "3   Sci&Tech     No     66.0         Mkt&HR  59.43  Not Placed       NaN  \n",
       "4  Comm&Mgmt     No     96.8        Mkt&Fin  55.50      Placed  425000.0  "
      ]
     },
     "execution_count": 2,
     "metadata": {},
     "output_type": "execute_result"
    }
   ],
   "source": [
    "df = pd.read_csv('../input/factors-affecting-campus-placement/Placement_Data_Full_Class.csv')\n",
    "df.head()"
   ]
  },
  {
   "cell_type": "code",
   "execution_count": 3,
   "id": "7dd84b55",
   "metadata": {
    "execution": {
     "iopub.execute_input": "2024-10-19T22:20:57.605214Z",
     "iopub.status.busy": "2024-10-19T22:20:57.604243Z",
     "iopub.status.idle": "2024-10-19T22:20:57.629610Z",
     "shell.execute_reply": "2024-10-19T22:20:57.628527Z"
    },
    "papermill": {
     "duration": 0.033364,
     "end_time": "2024-10-19T22:20:57.632289",
     "exception": false,
     "start_time": "2024-10-19T22:20:57.598925",
     "status": "completed"
    },
    "tags": []
   },
   "outputs": [
    {
     "name": "stdout",
     "output_type": "stream",
     "text": [
      "<class 'pandas.core.frame.DataFrame'>\n",
      "RangeIndex: 215 entries, 0 to 214\n",
      "Data columns (total 15 columns):\n",
      " #   Column          Non-Null Count  Dtype  \n",
      "---  ------          --------------  -----  \n",
      " 0   sl_no           215 non-null    int64  \n",
      " 1   gender          215 non-null    object \n",
      " 2   ssc_p           215 non-null    float64\n",
      " 3   ssc_b           215 non-null    object \n",
      " 4   hsc_p           215 non-null    float64\n",
      " 5   hsc_b           215 non-null    object \n",
      " 6   hsc_s           215 non-null    object \n",
      " 7   degree_p        215 non-null    float64\n",
      " 8   degree_t        215 non-null    object \n",
      " 9   workex          215 non-null    object \n",
      " 10  etest_p         215 non-null    float64\n",
      " 11  specialisation  215 non-null    object \n",
      " 12  mba_p           215 non-null    float64\n",
      " 13  status          215 non-null    object \n",
      " 14  salary          148 non-null    float64\n",
      "dtypes: float64(6), int64(1), object(8)\n",
      "memory usage: 25.3+ KB\n"
     ]
    }
   ],
   "source": [
    "df.info()"
   ]
  },
  {
   "cell_type": "code",
   "execution_count": 4,
   "id": "5837cfaf",
   "metadata": {
    "execution": {
     "iopub.execute_input": "2024-10-19T22:20:57.642586Z",
     "iopub.status.busy": "2024-10-19T22:20:57.641768Z",
     "iopub.status.idle": "2024-10-19T22:20:57.653444Z",
     "shell.execute_reply": "2024-10-19T22:20:57.652458Z"
    },
    "papermill": {
     "duration": 0.019903,
     "end_time": "2024-10-19T22:20:57.656322",
     "exception": false,
     "start_time": "2024-10-19T22:20:57.636419",
     "status": "completed"
    },
    "tags": []
   },
   "outputs": [
    {
     "name": "stdout",
     "output_type": "stream",
     "text": [
      "ssc_b\n",
      "Central    116\n",
      "Others      99\n",
      "Name: count, dtype: int64\n",
      "hsc_b\n",
      "Others     131\n",
      "Central     84\n",
      "Name: count, dtype: int64\n",
      "hsc_s\n",
      "Commerce    113\n",
      "Science      91\n",
      "Arts         11\n",
      "Name: count, dtype: int64\n",
      "degree_t\n",
      "Comm&Mgmt    145\n",
      "Sci&Tech      59\n",
      "Others        11\n",
      "Name: count, dtype: int64\n",
      "workex\n",
      "No     141\n",
      "Yes     74\n",
      "Name: count, dtype: int64\n",
      "specialisation\n",
      "Mkt&Fin    120\n",
      "Mkt&HR      95\n",
      "Name: count, dtype: int64\n"
     ]
    }
   ],
   "source": [
    "print(df['ssc_b'].value_counts())\n",
    "print(df['hsc_b'].value_counts())\n",
    "print(df['hsc_s'].value_counts())\n",
    "print(df['degree_t'].value_counts())\n",
    "print(df['workex'].value_counts())\n",
    "print(df['specialisation'].value_counts())"
   ]
  },
  {
   "cell_type": "code",
   "execution_count": 5,
   "id": "84235e2b",
   "metadata": {
    "execution": {
     "iopub.execute_input": "2024-10-19T22:20:57.666401Z",
     "iopub.status.busy": "2024-10-19T22:20:57.666004Z",
     "iopub.status.idle": "2024-10-19T22:20:58.872626Z",
     "shell.execute_reply": "2024-10-19T22:20:58.871478Z"
    },
    "papermill": {
     "duration": 1.214791,
     "end_time": "2024-10-19T22:20:58.875331",
     "exception": false,
     "start_time": "2024-10-19T22:20:57.660540",
     "status": "completed"
    },
    "tags": []
   },
   "outputs": [],
   "source": [
    "from sklearn.preprocessing import LabelEncoder\n",
    "\n",
    "label_encoder = LabelEncoder()\n",
    "\n",
    "columns_to_encode = ['gender','ssc_b', 'hsc_b', 'hsc_s', 'degree_t', 'workex', 'specialisation','status']\n",
    "\n",
    "for column in columns_to_encode:\n",
    "    df[column] = label_encoder.fit_transform(df[column])\n",
    "    #print(f\"Encoded values for {column}:\")\n",
    "    #print(df[column].value_counts())\n",
    "    #print(\"\\n\")"
   ]
  },
  {
   "cell_type": "code",
   "execution_count": 6,
   "id": "397ae223",
   "metadata": {
    "execution": {
     "iopub.execute_input": "2024-10-19T22:20:58.885883Z",
     "iopub.status.busy": "2024-10-19T22:20:58.885284Z",
     "iopub.status.idle": "2024-10-19T22:20:59.240984Z",
     "shell.execute_reply": "2024-10-19T22:20:59.239644Z"
    },
    "papermill": {
     "duration": 0.363766,
     "end_time": "2024-10-19T22:20:59.243450",
     "exception": false,
     "start_time": "2024-10-19T22:20:58.879684",
     "status": "completed"
    },
    "tags": []
   },
   "outputs": [
    {
     "name": "stdout",
     "output_type": "stream",
     "text": [
      "sl_no             0\n",
      "gender            0\n",
      "ssc_p             0\n",
      "ssc_b             0\n",
      "hsc_p             0\n",
      "hsc_b             0\n",
      "hsc_s             0\n",
      "degree_p          0\n",
      "degree_t          0\n",
      "workex            0\n",
      "etest_p           0\n",
      "specialisation    0\n",
      "mba_p             0\n",
      "status            0\n",
      "salary            0\n",
      "dtype: int64\n"
     ]
    }
   ],
   "source": [
    "from sklearn.impute import KNNImputer\n",
    "\n",
    "knn_imputer = KNNImputer(n_neighbors=5)  \n",
    "df[:] = knn_imputer.fit_transform(df)\n",
    "print(df.isnull().sum())"
   ]
  },
  {
   "cell_type": "code",
   "execution_count": 7,
   "id": "252c01b3",
   "metadata": {
    "execution": {
     "iopub.execute_input": "2024-10-19T22:20:59.254016Z",
     "iopub.status.busy": "2024-10-19T22:20:59.253561Z",
     "iopub.status.idle": "2024-10-19T22:20:59.266536Z",
     "shell.execute_reply": "2024-10-19T22:20:59.265335Z"
    },
    "papermill": {
     "duration": 0.021341,
     "end_time": "2024-10-19T22:20:59.269238",
     "exception": false,
     "start_time": "2024-10-19T22:20:59.247897",
     "status": "completed"
    },
    "tags": []
   },
   "outputs": [
    {
     "name": "stdout",
     "output_type": "stream",
     "text": [
      "<class 'pandas.core.frame.DataFrame'>\n",
      "RangeIndex: 215 entries, 0 to 214\n",
      "Data columns (total 15 columns):\n",
      " #   Column          Non-Null Count  Dtype  \n",
      "---  ------          --------------  -----  \n",
      " 0   sl_no           215 non-null    int64  \n",
      " 1   gender          215 non-null    int64  \n",
      " 2   ssc_p           215 non-null    float64\n",
      " 3   ssc_b           215 non-null    int64  \n",
      " 4   hsc_p           215 non-null    float64\n",
      " 5   hsc_b           215 non-null    int64  \n",
      " 6   hsc_s           215 non-null    int64  \n",
      " 7   degree_p        215 non-null    float64\n",
      " 8   degree_t        215 non-null    int64  \n",
      " 9   workex          215 non-null    int64  \n",
      " 10  etest_p         215 non-null    float64\n",
      " 11  specialisation  215 non-null    int64  \n",
      " 12  mba_p           215 non-null    float64\n",
      " 13  status          215 non-null    int64  \n",
      " 14  salary          215 non-null    float64\n",
      "dtypes: float64(6), int64(9)\n",
      "memory usage: 25.3 KB\n"
     ]
    }
   ],
   "source": [
    "df.info()"
   ]
  },
  {
   "cell_type": "code",
   "execution_count": 8,
   "id": "b6f08d2e",
   "metadata": {
    "execution": {
     "iopub.execute_input": "2024-10-19T22:20:59.279979Z",
     "iopub.status.busy": "2024-10-19T22:20:59.279534Z",
     "iopub.status.idle": "2024-10-19T22:21:11.641089Z",
     "shell.execute_reply": "2024-10-19T22:21:11.639348Z"
    },
    "papermill": {
     "duration": 12.370163,
     "end_time": "2024-10-19T22:21:11.643838",
     "exception": false,
     "start_time": "2024-10-19T22:20:59.273675",
     "status": "completed"
    },
    "tags": []
   },
   "outputs": [
    {
     "name": "stdout",
     "output_type": "stream",
     "text": [
      "Requirement already satisfied: xgboost in /opt/conda/lib/python3.10/site-packages (2.0.3)\r\n",
      "Requirement already satisfied: numpy in /opt/conda/lib/python3.10/site-packages (from xgboost) (1.26.4)\r\n",
      "Requirement already satisfied: scipy in /opt/conda/lib/python3.10/site-packages (from xgboost) (1.14.1)\r\n",
      "Note: you may need to restart the kernel to use updated packages.\n"
     ]
    }
   ],
   "source": [
    "pip install xgboost"
   ]
  },
  {
   "cell_type": "code",
   "execution_count": 9,
   "id": "906b6054",
   "metadata": {
    "execution": {
     "iopub.execute_input": "2024-10-19T22:21:11.655703Z",
     "iopub.status.busy": "2024-10-19T22:21:11.655250Z",
     "iopub.status.idle": "2024-10-19T22:21:11.914798Z",
     "shell.execute_reply": "2024-10-19T22:21:11.913739Z"
    },
    "papermill": {
     "duration": 0.26843,
     "end_time": "2024-10-19T22:21:11.917416",
     "exception": false,
     "start_time": "2024-10-19T22:21:11.648986",
     "status": "completed"
    },
    "tags": []
   },
   "outputs": [],
   "source": [
    "from sklearn.model_selection import train_test_split\n",
    "from sklearn.ensemble import RandomForestClassifier\n",
    "from xgboost import XGBClassifier\n",
    "from sklearn.metrics import accuracy_score, classification_report, confusion_matrix"
   ]
  },
  {
   "cell_type": "code",
   "execution_count": 10,
   "id": "1379a02d",
   "metadata": {
    "execution": {
     "iopub.execute_input": "2024-10-19T22:21:11.928278Z",
     "iopub.status.busy": "2024-10-19T22:21:11.927862Z",
     "iopub.status.idle": "2024-10-19T22:21:11.942313Z",
     "shell.execute_reply": "2024-10-19T22:21:11.941215Z"
    },
    "papermill": {
     "duration": 0.022588,
     "end_time": "2024-10-19T22:21:11.944617",
     "exception": false,
     "start_time": "2024-10-19T22:21:11.922029",
     "status": "completed"
    },
    "tags": []
   },
   "outputs": [],
   "source": [
    "X = df.drop('status', axis=1)  \n",
    "y = df['status']\n",
    "\n",
    "X_train, X_test, y_train, y_test = train_test_split(X, y, test_size=0.2, random_state=42)"
   ]
  },
  {
   "cell_type": "code",
   "execution_count": 11,
   "id": "a3a81c12",
   "metadata": {
    "execution": {
     "iopub.execute_input": "2024-10-19T22:21:11.956621Z",
     "iopub.status.busy": "2024-10-19T22:21:11.955639Z",
     "iopub.status.idle": "2024-10-19T22:21:12.155434Z",
     "shell.execute_reply": "2024-10-19T22:21:12.154351Z"
    },
    "papermill": {
     "duration": 0.207881,
     "end_time": "2024-10-19T22:21:12.158018",
     "exception": false,
     "start_time": "2024-10-19T22:21:11.950137",
     "status": "completed"
    },
    "tags": []
   },
   "outputs": [
    {
     "name": "stdout",
     "output_type": "stream",
     "text": [
      "Random Forest Accuracy: 0.8372093023255814\n",
      "Random Forest Classification Report:\n",
      "               precision    recall  f1-score   support\n",
      "\n",
      "           0       0.78      0.58      0.67        12\n",
      "           1       0.85      0.94      0.89        31\n",
      "\n",
      "    accuracy                           0.84        43\n",
      "   macro avg       0.82      0.76      0.78        43\n",
      "weighted avg       0.83      0.84      0.83        43\n",
      "\n",
      "Random Forest Confusion Matrix:\n",
      " [[ 7  5]\n",
      " [ 2 29]]\n"
     ]
    }
   ],
   "source": [
    "rf_model = RandomForestClassifier(random_state=42)\n",
    "rf_model.fit(X_train, y_train)\n",
    "\n",
    "# Predict on the test set\n",
    "rf_predictions = rf_model.predict(X_test)\n",
    "\n",
    "# Evaluate Random Forest\n",
    "rf_accuracy = accuracy_score(y_test, rf_predictions)\n",
    "print(\"Random Forest Accuracy:\", rf_accuracy)\n",
    "print(\"Random Forest Classification Report:\\n\", classification_report(y_test, rf_predictions))\n",
    "print(\"Random Forest Confusion Matrix:\\n\", confusion_matrix(y_test, rf_predictions))"
   ]
  },
  {
   "cell_type": "code",
   "execution_count": 12,
   "id": "872fbfa0",
   "metadata": {
    "execution": {
     "iopub.execute_input": "2024-10-19T22:21:12.169565Z",
     "iopub.status.busy": "2024-10-19T22:21:12.168372Z",
     "iopub.status.idle": "2024-10-19T22:21:12.271615Z",
     "shell.execute_reply": "2024-10-19T22:21:12.270226Z"
    },
    "papermill": {
     "duration": 0.111307,
     "end_time": "2024-10-19T22:21:12.273947",
     "exception": false,
     "start_time": "2024-10-19T22:21:12.162640",
     "status": "completed"
    },
    "tags": []
   },
   "outputs": [
    {
     "name": "stdout",
     "output_type": "stream",
     "text": [
      "XGBoost Accuracy: 0.8604651162790697\n",
      "XGBoost Classification Report:\n",
      "               precision    recall  f1-score   support\n",
      "\n",
      "           0       0.80      0.67      0.73        12\n",
      "           1       0.88      0.94      0.91        31\n",
      "\n",
      "    accuracy                           0.86        43\n",
      "   macro avg       0.84      0.80      0.82        43\n",
      "weighted avg       0.86      0.86      0.86        43\n",
      "\n",
      "XGBoost Confusion Matrix:\n",
      " [[ 8  4]\n",
      " [ 2 29]]\n"
     ]
    }
   ],
   "source": [
    "# XGBoost Classifier\n",
    "xgb_model = XGBClassifier(use_label_encoder=False, eval_metric='logloss', random_state=42)\n",
    "xgb_model.fit(X_train, y_train)\n",
    "\n",
    "# Predict on the test set\n",
    "xgb_predictions = xgb_model.predict(X_test)\n",
    "\n",
    "# Evaluate XGBoost\n",
    "xgb_accuracy = accuracy_score(y_test, xgb_predictions)\n",
    "print(\"XGBoost Accuracy:\", xgb_accuracy)\n",
    "print(\"XGBoost Classification Report:\\n\", classification_report(y_test, xgb_predictions))\n",
    "print(\"XGBoost Confusion Matrix:\\n\", confusion_matrix(y_test, xgb_predictions))"
   ]
  }
 ],
 "metadata": {
  "kaggle": {
   "accelerator": "none",
   "dataSources": [
    {
     "datasetId": 596958,
     "sourceId": 1073629,
     "sourceType": "datasetVersion"
    }
   ],
   "dockerImageVersionId": 30786,
   "isGpuEnabled": false,
   "isInternetEnabled": true,
   "language": "python",
   "sourceType": "notebook"
  },
  "kernelspec": {
   "display_name": "Python 3",
   "language": "python",
   "name": "python3"
  },
  "language_info": {
   "codemirror_mode": {
    "name": "ipython",
    "version": 3
   },
   "file_extension": ".py",
   "mimetype": "text/x-python",
   "name": "python",
   "nbconvert_exporter": "python",
   "pygments_lexer": "ipython3",
   "version": "3.10.14"
  },
  "papermill": {
   "default_parameters": {},
   "duration": 18.961329,
   "end_time": "2024-10-19T22:21:12.999374",
   "environment_variables": {},
   "exception": null,
   "input_path": "__notebook__.ipynb",
   "output_path": "__notebook__.ipynb",
   "parameters": {},
   "start_time": "2024-10-19T22:20:54.038045",
   "version": "2.6.0"
  }
 },
 "nbformat": 4,
 "nbformat_minor": 5
}
