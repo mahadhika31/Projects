{
 "cells": [
  {
   "cell_type": "code",
   "execution_count": 1,
   "id": "858e783b",
   "metadata": {
    "_cell_guid": "b1076dfc-b9ad-4769-8c92-a6c4dae69d19",
    "_uuid": "8f2839f25d086af736a60e9eeb907d3b93b6e0e5",
    "execution": {
     "iopub.execute_input": "2025-07-14T05:00:28.641750Z",
     "iopub.status.busy": "2025-07-14T05:00:28.641332Z",
     "iopub.status.idle": "2025-07-14T05:00:31.207236Z",
     "shell.execute_reply": "2025-07-14T05:00:31.206215Z"
    },
    "papermill": {
     "duration": 2.57466,
     "end_time": "2025-07-14T05:00:31.209620",
     "exception": false,
     "start_time": "2025-07-14T05:00:28.634960",
     "status": "completed"
    },
    "tags": []
   },
   "outputs": [],
   "source": [
    "import numpy as np \n",
    "import pandas as pd \n",
    "from sklearn.preprocessing import LabelEncoder\n",
    "from sklearn.model_selection import train_test_split\n",
    "from sklearn.ensemble import RandomForestClassifier\n",
    "from sklearn.metrics import accuracy_score, classification_report, confusion_matrix\n",
    "from sklearn.preprocessing import StandardScaler, MinMaxScaler, RobustScaler, Normalizer, PowerTransformer, QuantileTransformer"
   ]
  },
  {
   "cell_type": "code",
   "execution_count": 2,
   "id": "43d39698",
   "metadata": {
    "execution": {
     "iopub.execute_input": "2025-07-14T05:00:31.220141Z",
     "iopub.status.busy": "2025-07-14T05:00:31.219682Z",
     "iopub.status.idle": "2025-07-14T05:00:31.228217Z",
     "shell.execute_reply": "2025-07-14T05:00:31.227083Z"
    },
    "papermill": {
     "duration": 0.015898,
     "end_time": "2025-07-14T05:00:31.230159",
     "exception": false,
     "start_time": "2025-07-14T05:00:31.214261",
     "status": "completed"
    },
    "tags": []
   },
   "outputs": [
    {
     "name": "stdout",
     "output_type": "stream",
     "text": [
      "/kaggle/input/titanic/train.csv\n",
      "/kaggle/input/titanic/test.csv\n",
      "/kaggle/input/titanic/gender_submission.csv\n"
     ]
    }
   ],
   "source": [
    "import os\n",
    "for dirname, _, filenames in os.walk('/kaggle/input'):\n",
    "    for filename in filenames:\n",
    "        print(os.path.join(dirname, filename))"
   ]
  },
  {
   "cell_type": "code",
   "execution_count": 3,
   "id": "e05135fa",
   "metadata": {
    "execution": {
     "iopub.execute_input": "2025-07-14T05:00:31.240470Z",
     "iopub.status.busy": "2025-07-14T05:00:31.240108Z",
     "iopub.status.idle": "2025-07-14T05:00:31.268967Z",
     "shell.execute_reply": "2025-07-14T05:00:31.268031Z"
    },
    "papermill": {
     "duration": 0.036706,
     "end_time": "2025-07-14T05:00:31.271257",
     "exception": false,
     "start_time": "2025-07-14T05:00:31.234551",
     "status": "completed"
    },
    "tags": []
   },
   "outputs": [],
   "source": [
    "data = pd.read_csv(\"../input/titanic/train.csv\")"
   ]
  },
  {
   "cell_type": "code",
   "execution_count": 4,
   "id": "d8cb5f77",
   "metadata": {
    "execution": {
     "iopub.execute_input": "2025-07-14T05:00:31.282803Z",
     "iopub.status.busy": "2025-07-14T05:00:31.282389Z",
     "iopub.status.idle": "2025-07-14T05:00:31.308664Z",
     "shell.execute_reply": "2025-07-14T05:00:31.307637Z"
    },
    "papermill": {
     "duration": 0.034515,
     "end_time": "2025-07-14T05:00:31.311099",
     "exception": false,
     "start_time": "2025-07-14T05:00:31.276584",
     "status": "completed"
    },
    "tags": []
   },
   "outputs": [
    {
     "data": {
      "text/html": [
       "<div>\n",
       "<style scoped>\n",
       "    .dataframe tbody tr th:only-of-type {\n",
       "        vertical-align: middle;\n",
       "    }\n",
       "\n",
       "    .dataframe tbody tr th {\n",
       "        vertical-align: top;\n",
       "    }\n",
       "\n",
       "    .dataframe thead th {\n",
       "        text-align: right;\n",
       "    }\n",
       "</style>\n",
       "<table border=\"1\" class=\"dataframe\">\n",
       "  <thead>\n",
       "    <tr style=\"text-align: right;\">\n",
       "      <th></th>\n",
       "      <th>PassengerId</th>\n",
       "      <th>Survived</th>\n",
       "      <th>Pclass</th>\n",
       "      <th>Name</th>\n",
       "      <th>Sex</th>\n",
       "      <th>Age</th>\n",
       "      <th>SibSp</th>\n",
       "      <th>Parch</th>\n",
       "      <th>Ticket</th>\n",
       "      <th>Fare</th>\n",
       "      <th>Cabin</th>\n",
       "      <th>Embarked</th>\n",
       "    </tr>\n",
       "  </thead>\n",
       "  <tbody>\n",
       "    <tr>\n",
       "      <th>0</th>\n",
       "      <td>1</td>\n",
       "      <td>0</td>\n",
       "      <td>3</td>\n",
       "      <td>Braund, Mr. Owen Harris</td>\n",
       "      <td>male</td>\n",
       "      <td>22.0</td>\n",
       "      <td>1</td>\n",
       "      <td>0</td>\n",
       "      <td>A/5 21171</td>\n",
       "      <td>7.2500</td>\n",
       "      <td>NaN</td>\n",
       "      <td>S</td>\n",
       "    </tr>\n",
       "    <tr>\n",
       "      <th>1</th>\n",
       "      <td>2</td>\n",
       "      <td>1</td>\n",
       "      <td>1</td>\n",
       "      <td>Cumings, Mrs. John Bradley (Florence Briggs Th...</td>\n",
       "      <td>female</td>\n",
       "      <td>38.0</td>\n",
       "      <td>1</td>\n",
       "      <td>0</td>\n",
       "      <td>PC 17599</td>\n",
       "      <td>71.2833</td>\n",
       "      <td>C85</td>\n",
       "      <td>C</td>\n",
       "    </tr>\n",
       "    <tr>\n",
       "      <th>2</th>\n",
       "      <td>3</td>\n",
       "      <td>1</td>\n",
       "      <td>3</td>\n",
       "      <td>Heikkinen, Miss. Laina</td>\n",
       "      <td>female</td>\n",
       "      <td>26.0</td>\n",
       "      <td>0</td>\n",
       "      <td>0</td>\n",
       "      <td>STON/O2. 3101282</td>\n",
       "      <td>7.9250</td>\n",
       "      <td>NaN</td>\n",
       "      <td>S</td>\n",
       "    </tr>\n",
       "    <tr>\n",
       "      <th>3</th>\n",
       "      <td>4</td>\n",
       "      <td>1</td>\n",
       "      <td>1</td>\n",
       "      <td>Futrelle, Mrs. Jacques Heath (Lily May Peel)</td>\n",
       "      <td>female</td>\n",
       "      <td>35.0</td>\n",
       "      <td>1</td>\n",
       "      <td>0</td>\n",
       "      <td>113803</td>\n",
       "      <td>53.1000</td>\n",
       "      <td>C123</td>\n",
       "      <td>S</td>\n",
       "    </tr>\n",
       "    <tr>\n",
       "      <th>4</th>\n",
       "      <td>5</td>\n",
       "      <td>0</td>\n",
       "      <td>3</td>\n",
       "      <td>Allen, Mr. William Henry</td>\n",
       "      <td>male</td>\n",
       "      <td>35.0</td>\n",
       "      <td>0</td>\n",
       "      <td>0</td>\n",
       "      <td>373450</td>\n",
       "      <td>8.0500</td>\n",
       "      <td>NaN</td>\n",
       "      <td>S</td>\n",
       "    </tr>\n",
       "  </tbody>\n",
       "</table>\n",
       "</div>"
      ],
      "text/plain": [
       "   PassengerId  Survived  Pclass  \\\n",
       "0            1         0       3   \n",
       "1            2         1       1   \n",
       "2            3         1       3   \n",
       "3            4         1       1   \n",
       "4            5         0       3   \n",
       "\n",
       "                                                Name     Sex   Age  SibSp  \\\n",
       "0                            Braund, Mr. Owen Harris    male  22.0      1   \n",
       "1  Cumings, Mrs. John Bradley (Florence Briggs Th...  female  38.0      1   \n",
       "2                             Heikkinen, Miss. Laina  female  26.0      0   \n",
       "3       Futrelle, Mrs. Jacques Heath (Lily May Peel)  female  35.0      1   \n",
       "4                           Allen, Mr. William Henry    male  35.0      0   \n",
       "\n",
       "   Parch            Ticket     Fare Cabin Embarked  \n",
       "0      0         A/5 21171   7.2500   NaN        S  \n",
       "1      0          PC 17599  71.2833   C85        C  \n",
       "2      0  STON/O2. 3101282   7.9250   NaN        S  \n",
       "3      0            113803  53.1000  C123        S  \n",
       "4      0            373450   8.0500   NaN        S  "
      ]
     },
     "execution_count": 4,
     "metadata": {},
     "output_type": "execute_result"
    }
   ],
   "source": [
    "data.head()"
   ]
  },
  {
   "cell_type": "code",
   "execution_count": 5,
   "id": "5561c1d0",
   "metadata": {
    "execution": {
     "iopub.execute_input": "2025-07-14T05:00:31.322217Z",
     "iopub.status.busy": "2025-07-14T05:00:31.321848Z",
     "iopub.status.idle": "2025-07-14T05:00:31.332772Z",
     "shell.execute_reply": "2025-07-14T05:00:31.331699Z"
    },
    "papermill": {
     "duration": 0.019311,
     "end_time": "2025-07-14T05:00:31.335127",
     "exception": false,
     "start_time": "2025-07-14T05:00:31.315816",
     "status": "completed"
    },
    "tags": []
   },
   "outputs": [
    {
     "data": {
      "text/plain": [
       "PassengerId      0\n",
       "Survived         0\n",
       "Pclass           0\n",
       "Name             0\n",
       "Sex              0\n",
       "Age            177\n",
       "SibSp            0\n",
       "Parch            0\n",
       "Ticket           0\n",
       "Fare             0\n",
       "Cabin          687\n",
       "Embarked         2\n",
       "dtype: int64"
      ]
     },
     "execution_count": 5,
     "metadata": {},
     "output_type": "execute_result"
    }
   ],
   "source": [
    "data.isna().sum()"
   ]
  },
  {
   "cell_type": "code",
   "execution_count": 6,
   "id": "da712c5f",
   "metadata": {
    "execution": {
     "iopub.execute_input": "2025-07-14T05:00:31.346387Z",
     "iopub.status.busy": "2025-07-14T05:00:31.346029Z",
     "iopub.status.idle": "2025-07-14T05:00:31.356475Z",
     "shell.execute_reply": "2025-07-14T05:00:31.355306Z"
    },
    "papermill": {
     "duration": 0.018872,
     "end_time": "2025-07-14T05:00:31.358784",
     "exception": false,
     "start_time": "2025-07-14T05:00:31.339912",
     "status": "completed"
    },
    "tags": []
   },
   "outputs": [],
   "source": [
    "data.dropna(axis=0, inplace=True)"
   ]
  },
  {
   "cell_type": "code",
   "execution_count": 7,
   "id": "44932bcd",
   "metadata": {
    "execution": {
     "iopub.execute_input": "2025-07-14T05:00:31.372153Z",
     "iopub.status.busy": "2025-07-14T05:00:31.371123Z",
     "iopub.status.idle": "2025-07-14T05:00:31.383908Z",
     "shell.execute_reply": "2025-07-14T05:00:31.382742Z"
    },
    "papermill": {
     "duration": 0.022364,
     "end_time": "2025-07-14T05:00:31.386047",
     "exception": false,
     "start_time": "2025-07-14T05:00:31.363683",
     "status": "completed"
    },
    "tags": []
   },
   "outputs": [
    {
     "data": {
      "text/plain": [
       "Cabin\n",
       "G6             4\n",
       "B96 B98        4\n",
       "C23 C25 C27    4\n",
       "F33            3\n",
       "D              3\n",
       "              ..\n",
       "C91            1\n",
       "C124           1\n",
       "C32            1\n",
       "E34            1\n",
       "C148           1\n",
       "Name: count, Length: 133, dtype: int64"
      ]
     },
     "execution_count": 7,
     "metadata": {},
     "output_type": "execute_result"
    }
   ],
   "source": [
    "data['Cabin'].value_counts()"
   ]
  },
  {
   "cell_type": "code",
   "execution_count": 8,
   "id": "5ed20c97",
   "metadata": {
    "execution": {
     "iopub.execute_input": "2025-07-14T05:00:31.397311Z",
     "iopub.status.busy": "2025-07-14T05:00:31.396963Z",
     "iopub.status.idle": "2025-07-14T05:00:31.405035Z",
     "shell.execute_reply": "2025-07-14T05:00:31.404022Z"
    },
    "papermill": {
     "duration": 0.016374,
     "end_time": "2025-07-14T05:00:31.407224",
     "exception": false,
     "start_time": "2025-07-14T05:00:31.390850",
     "status": "completed"
    },
    "tags": []
   },
   "outputs": [
    {
     "data": {
      "text/plain": [
       "Embarked\n",
       "S    116\n",
       "C     65\n",
       "Q      2\n",
       "Name: count, dtype: int64"
      ]
     },
     "execution_count": 8,
     "metadata": {},
     "output_type": "execute_result"
    }
   ],
   "source": [
    "data['Embarked'].value_counts()"
   ]
  },
  {
   "cell_type": "code",
   "execution_count": 9,
   "id": "561f1000",
   "metadata": {
    "execution": {
     "iopub.execute_input": "2025-07-14T05:00:31.418687Z",
     "iopub.status.busy": "2025-07-14T05:00:31.418293Z",
     "iopub.status.idle": "2025-07-14T05:00:31.427066Z",
     "shell.execute_reply": "2025-07-14T05:00:31.426054Z"
    },
    "papermill": {
     "duration": 0.017012,
     "end_time": "2025-07-14T05:00:31.429186",
     "exception": false,
     "start_time": "2025-07-14T05:00:31.412174",
     "status": "completed"
    },
    "tags": []
   },
   "outputs": [
    {
     "data": {
      "text/plain": [
       "Ticket\n",
       "113760      4\n",
       "19950       4\n",
       "PC 17582    3\n",
       "35273       3\n",
       "24160       3\n",
       "           ..\n",
       "113784      1\n",
       "113043      1\n",
       "28551       1\n",
       "36928       1\n",
       "111369      1\n",
       "Name: count, Length: 127, dtype: int64"
      ]
     },
     "execution_count": 9,
     "metadata": {},
     "output_type": "execute_result"
    }
   ],
   "source": [
    "data['Ticket'].value_counts()"
   ]
  },
  {
   "cell_type": "code",
   "execution_count": 10,
   "id": "6cb00eb5",
   "metadata": {
    "execution": {
     "iopub.execute_input": "2025-07-14T05:00:31.441012Z",
     "iopub.status.busy": "2025-07-14T05:00:31.440624Z",
     "iopub.status.idle": "2025-07-14T05:00:31.449563Z",
     "shell.execute_reply": "2025-07-14T05:00:31.448385Z"
    },
    "papermill": {
     "duration": 0.017356,
     "end_time": "2025-07-14T05:00:31.451796",
     "exception": false,
     "start_time": "2025-07-14T05:00:31.434440",
     "status": "completed"
    },
    "tags": []
   },
   "outputs": [],
   "source": [
    "label_encoder = LabelEncoder()\n",
    "\n",
    "data['Sex'] = label_encoder.fit_transform(data['Sex'])\n",
    "data['Cabin'] = label_encoder.fit_transform(data['Cabin'])\n",
    "data['Embarked'] = label_encoder.fit_transform(data['Embarked'])\n",
    "data['Ticket'] = label_encoder.fit_transform(data['Ticket'])"
   ]
  },
  {
   "cell_type": "code",
   "execution_count": 11,
   "id": "9383bc2e",
   "metadata": {
    "execution": {
     "iopub.execute_input": "2025-07-14T05:00:31.463364Z",
     "iopub.status.busy": "2025-07-14T05:00:31.463013Z",
     "iopub.status.idle": "2025-07-14T05:00:31.469205Z",
     "shell.execute_reply": "2025-07-14T05:00:31.468139Z"
    },
    "papermill": {
     "duration": 0.014503,
     "end_time": "2025-07-14T05:00:31.471291",
     "exception": false,
     "start_time": "2025-07-14T05:00:31.456788",
     "status": "completed"
    },
    "tags": []
   },
   "outputs": [],
   "source": [
    "data.drop('Name', axis=1, inplace=True)\n",
    "#data.drop('Ticket', axis=1, inplace=True)"
   ]
  },
  {
   "cell_type": "code",
   "execution_count": 12,
   "id": "a6bc14fd",
   "metadata": {
    "execution": {
     "iopub.execute_input": "2025-07-14T05:00:31.482644Z",
     "iopub.status.busy": "2025-07-14T05:00:31.482264Z",
     "iopub.status.idle": "2025-07-14T05:00:31.495794Z",
     "shell.execute_reply": "2025-07-14T05:00:31.494700Z"
    },
    "papermill": {
     "duration": 0.021773,
     "end_time": "2025-07-14T05:00:31.498013",
     "exception": false,
     "start_time": "2025-07-14T05:00:31.476240",
     "status": "completed"
    },
    "tags": []
   },
   "outputs": [
    {
     "data": {
      "text/html": [
       "<div>\n",
       "<style scoped>\n",
       "    .dataframe tbody tr th:only-of-type {\n",
       "        vertical-align: middle;\n",
       "    }\n",
       "\n",
       "    .dataframe tbody tr th {\n",
       "        vertical-align: top;\n",
       "    }\n",
       "\n",
       "    .dataframe thead th {\n",
       "        text-align: right;\n",
       "    }\n",
       "</style>\n",
       "<table border=\"1\" class=\"dataframe\">\n",
       "  <thead>\n",
       "    <tr style=\"text-align: right;\">\n",
       "      <th></th>\n",
       "      <th>PassengerId</th>\n",
       "      <th>Survived</th>\n",
       "      <th>Pclass</th>\n",
       "      <th>Sex</th>\n",
       "      <th>Age</th>\n",
       "      <th>SibSp</th>\n",
       "      <th>Parch</th>\n",
       "      <th>Ticket</th>\n",
       "      <th>Fare</th>\n",
       "      <th>Cabin</th>\n",
       "      <th>Embarked</th>\n",
       "    </tr>\n",
       "  </thead>\n",
       "  <tbody>\n",
       "    <tr>\n",
       "      <th>1</th>\n",
       "      <td>2</td>\n",
       "      <td>1</td>\n",
       "      <td>1</td>\n",
       "      <td>0</td>\n",
       "      <td>38.0</td>\n",
       "      <td>1</td>\n",
       "      <td>0</td>\n",
       "      <td>109</td>\n",
       "      <td>71.2833</td>\n",
       "      <td>72</td>\n",
       "      <td>0</td>\n",
       "    </tr>\n",
       "    <tr>\n",
       "      <th>3</th>\n",
       "      <td>4</td>\n",
       "      <td>1</td>\n",
       "      <td>1</td>\n",
       "      <td>0</td>\n",
       "      <td>35.0</td>\n",
       "      <td>1</td>\n",
       "      <td>0</td>\n",
       "      <td>31</td>\n",
       "      <td>53.1000</td>\n",
       "      <td>48</td>\n",
       "      <td>2</td>\n",
       "    </tr>\n",
       "    <tr>\n",
       "      <th>6</th>\n",
       "      <td>7</td>\n",
       "      <td>0</td>\n",
       "      <td>1</td>\n",
       "      <td>1</td>\n",
       "      <td>54.0</td>\n",
       "      <td>0</td>\n",
       "      <td>0</td>\n",
       "      <td>55</td>\n",
       "      <td>51.8625</td>\n",
       "      <td>117</td>\n",
       "      <td>2</td>\n",
       "    </tr>\n",
       "    <tr>\n",
       "      <th>10</th>\n",
       "      <td>11</td>\n",
       "      <td>1</td>\n",
       "      <td>3</td>\n",
       "      <td>0</td>\n",
       "      <td>4.0</td>\n",
       "      <td>1</td>\n",
       "      <td>1</td>\n",
       "      <td>120</td>\n",
       "      <td>16.7000</td>\n",
       "      <td>131</td>\n",
       "      <td>2</td>\n",
       "    </tr>\n",
       "    <tr>\n",
       "      <th>11</th>\n",
       "      <td>12</td>\n",
       "      <td>1</td>\n",
       "      <td>1</td>\n",
       "      <td>0</td>\n",
       "      <td>58.0</td>\n",
       "      <td>0</td>\n",
       "      <td>0</td>\n",
       "      <td>26</td>\n",
       "      <td>26.5500</td>\n",
       "      <td>43</td>\n",
       "      <td>2</td>\n",
       "    </tr>\n",
       "  </tbody>\n",
       "</table>\n",
       "</div>"
      ],
      "text/plain": [
       "    PassengerId  Survived  Pclass  Sex   Age  SibSp  Parch  Ticket     Fare  \\\n",
       "1             2         1       1    0  38.0      1      0     109  71.2833   \n",
       "3             4         1       1    0  35.0      1      0      31  53.1000   \n",
       "6             7         0       1    1  54.0      0      0      55  51.8625   \n",
       "10           11         1       3    0   4.0      1      1     120  16.7000   \n",
       "11           12         1       1    0  58.0      0      0      26  26.5500   \n",
       "\n",
       "    Cabin  Embarked  \n",
       "1      72         0  \n",
       "3      48         2  \n",
       "6     117         2  \n",
       "10    131         2  \n",
       "11     43         2  "
      ]
     },
     "execution_count": 12,
     "metadata": {},
     "output_type": "execute_result"
    }
   ],
   "source": [
    "data.head()"
   ]
  },
  {
   "cell_type": "code",
   "execution_count": 13,
   "id": "270aad53",
   "metadata": {
    "execution": {
     "iopub.execute_input": "2025-07-14T05:00:31.509903Z",
     "iopub.status.busy": "2025-07-14T05:00:31.509543Z",
     "iopub.status.idle": "2025-07-14T05:00:31.523583Z",
     "shell.execute_reply": "2025-07-14T05:00:31.522564Z"
    },
    "papermill": {
     "duration": 0.022607,
     "end_time": "2025-07-14T05:00:31.525695",
     "exception": false,
     "start_time": "2025-07-14T05:00:31.503088",
     "status": "completed"
    },
    "tags": []
   },
   "outputs": [
    {
     "data": {
      "text/html": [
       "<div>\n",
       "<style scoped>\n",
       "    .dataframe tbody tr th:only-of-type {\n",
       "        vertical-align: middle;\n",
       "    }\n",
       "\n",
       "    .dataframe tbody tr th {\n",
       "        vertical-align: top;\n",
       "    }\n",
       "\n",
       "    .dataframe thead th {\n",
       "        text-align: right;\n",
       "    }\n",
       "</style>\n",
       "<table border=\"1\" class=\"dataframe\">\n",
       "  <thead>\n",
       "    <tr style=\"text-align: right;\">\n",
       "      <th></th>\n",
       "      <th>Pclass</th>\n",
       "      <th>Sex</th>\n",
       "      <th>Age</th>\n",
       "      <th>SibSp</th>\n",
       "      <th>Parch</th>\n",
       "      <th>Ticket</th>\n",
       "      <th>Fare</th>\n",
       "      <th>Cabin</th>\n",
       "      <th>Embarked</th>\n",
       "    </tr>\n",
       "  </thead>\n",
       "  <tbody>\n",
       "    <tr>\n",
       "      <th>1</th>\n",
       "      <td>1</td>\n",
       "      <td>0</td>\n",
       "      <td>38.0</td>\n",
       "      <td>1</td>\n",
       "      <td>0</td>\n",
       "      <td>109</td>\n",
       "      <td>71.2833</td>\n",
       "      <td>72</td>\n",
       "      <td>0</td>\n",
       "    </tr>\n",
       "    <tr>\n",
       "      <th>3</th>\n",
       "      <td>1</td>\n",
       "      <td>0</td>\n",
       "      <td>35.0</td>\n",
       "      <td>1</td>\n",
       "      <td>0</td>\n",
       "      <td>31</td>\n",
       "      <td>53.1000</td>\n",
       "      <td>48</td>\n",
       "      <td>2</td>\n",
       "    </tr>\n",
       "    <tr>\n",
       "      <th>6</th>\n",
       "      <td>1</td>\n",
       "      <td>1</td>\n",
       "      <td>54.0</td>\n",
       "      <td>0</td>\n",
       "      <td>0</td>\n",
       "      <td>55</td>\n",
       "      <td>51.8625</td>\n",
       "      <td>117</td>\n",
       "      <td>2</td>\n",
       "    </tr>\n",
       "    <tr>\n",
       "      <th>10</th>\n",
       "      <td>3</td>\n",
       "      <td>0</td>\n",
       "      <td>4.0</td>\n",
       "      <td>1</td>\n",
       "      <td>1</td>\n",
       "      <td>120</td>\n",
       "      <td>16.7000</td>\n",
       "      <td>131</td>\n",
       "      <td>2</td>\n",
       "    </tr>\n",
       "    <tr>\n",
       "      <th>11</th>\n",
       "      <td>1</td>\n",
       "      <td>0</td>\n",
       "      <td>58.0</td>\n",
       "      <td>0</td>\n",
       "      <td>0</td>\n",
       "      <td>26</td>\n",
       "      <td>26.5500</td>\n",
       "      <td>43</td>\n",
       "      <td>2</td>\n",
       "    </tr>\n",
       "  </tbody>\n",
       "</table>\n",
       "</div>"
      ],
      "text/plain": [
       "    Pclass  Sex   Age  SibSp  Parch  Ticket     Fare  Cabin  Embarked\n",
       "1        1    0  38.0      1      0     109  71.2833     72         0\n",
       "3        1    0  35.0      1      0      31  53.1000     48         2\n",
       "6        1    1  54.0      0      0      55  51.8625    117         2\n",
       "10       3    0   4.0      1      1     120  16.7000    131         2\n",
       "11       1    0  58.0      0      0      26  26.5500     43         2"
      ]
     },
     "execution_count": 13,
     "metadata": {},
     "output_type": "execute_result"
    }
   ],
   "source": [
    "features = data.drop(['Survived','PassengerId'], axis=1) \n",
    "target = data['Survived']\n",
    "\n",
    "features.head()"
   ]
  },
  {
   "cell_type": "code",
   "execution_count": 14,
   "id": "0cddeeeb",
   "metadata": {
    "execution": {
     "iopub.execute_input": "2025-07-14T05:00:31.538049Z",
     "iopub.status.busy": "2025-07-14T05:00:31.537669Z",
     "iopub.status.idle": "2025-07-14T05:00:31.716367Z",
     "shell.execute_reply": "2025-07-14T05:00:31.715220Z"
    },
    "papermill": {
     "duration": 0.187566,
     "end_time": "2025-07-14T05:00:31.718741",
     "exception": false,
     "start_time": "2025-07-14T05:00:31.531175",
     "status": "completed"
    },
    "tags": []
   },
   "outputs": [
    {
     "name": "stdout",
     "output_type": "stream",
     "text": [
      "     Feature  Importance\n",
      "1  Feature_1    0.242123\n",
      "2  Feature_2    0.194346\n",
      "7  Feature_7    0.173866\n",
      "6  Feature_6    0.161798\n",
      "5  Feature_5    0.145452\n"
     ]
    }
   ],
   "source": [
    "\n",
    "\n",
    "rf = RandomForestClassifier()\n",
    "rf.fit(features,target)\n",
    "\n",
    "feature_importances = rf.feature_importances_\n",
    "feature_importance_df = pd.DataFrame({\n",
    "    'Feature': [f'Feature_{i}' for i in range(features.shape[1])],  # Adjust feature names as needed\n",
    "    'Importance': feature_importances\n",
    "})\n",
    "\n",
    "feature_importance_df = feature_importance_df.sort_values(by='Importance', ascending=False)\n",
    "top_5_features = feature_importance_df.head(5)\n",
    "\n",
    "print(top_5_features)"
   ]
  },
  {
   "cell_type": "code",
   "execution_count": 15,
   "id": "981222bc",
   "metadata": {
    "execution": {
     "iopub.execute_input": "2025-07-14T05:00:31.731401Z",
     "iopub.status.busy": "2025-07-14T05:00:31.731076Z",
     "iopub.status.idle": "2025-07-14T05:00:31.735743Z",
     "shell.execute_reply": "2025-07-14T05:00:31.734727Z"
    },
    "papermill": {
     "duration": 0.013626,
     "end_time": "2025-07-14T05:00:31.737820",
     "exception": false,
     "start_time": "2025-07-14T05:00:31.724194",
     "status": "completed"
    },
    "tags": []
   },
   "outputs": [],
   "source": [
    "#error"
   ]
  },
  {
   "cell_type": "code",
   "execution_count": 16,
   "id": "d13870cb",
   "metadata": {
    "execution": {
     "iopub.execute_input": "2025-07-14T05:00:31.751300Z",
     "iopub.status.busy": "2025-07-14T05:00:31.750916Z",
     "iopub.status.idle": "2025-07-14T05:00:31.763973Z",
     "shell.execute_reply": "2025-07-14T05:00:31.762854Z"
    },
    "papermill": {
     "duration": 0.022663,
     "end_time": "2025-07-14T05:00:31.766032",
     "exception": false,
     "start_time": "2025-07-14T05:00:31.743369",
     "status": "completed"
    },
    "tags": []
   },
   "outputs": [
    {
     "data": {
      "text/html": [
       "<div>\n",
       "<style scoped>\n",
       "    .dataframe tbody tr th:only-of-type {\n",
       "        vertical-align: middle;\n",
       "    }\n",
       "\n",
       "    .dataframe tbody tr th {\n",
       "        vertical-align: top;\n",
       "    }\n",
       "\n",
       "    .dataframe thead th {\n",
       "        text-align: right;\n",
       "    }\n",
       "</style>\n",
       "<table border=\"1\" class=\"dataframe\">\n",
       "  <thead>\n",
       "    <tr style=\"text-align: right;\">\n",
       "      <th></th>\n",
       "      <th>Fare</th>\n",
       "      <th>Sex</th>\n",
       "      <th>Age</th>\n",
       "      <th>Cabin</th>\n",
       "      <th>Ticket</th>\n",
       "    </tr>\n",
       "  </thead>\n",
       "  <tbody>\n",
       "    <tr>\n",
       "      <th>1</th>\n",
       "      <td>71.2833</td>\n",
       "      <td>0</td>\n",
       "      <td>38.0</td>\n",
       "      <td>72</td>\n",
       "      <td>109</td>\n",
       "    </tr>\n",
       "    <tr>\n",
       "      <th>3</th>\n",
       "      <td>53.1000</td>\n",
       "      <td>0</td>\n",
       "      <td>35.0</td>\n",
       "      <td>48</td>\n",
       "      <td>31</td>\n",
       "    </tr>\n",
       "    <tr>\n",
       "      <th>6</th>\n",
       "      <td>51.8625</td>\n",
       "      <td>1</td>\n",
       "      <td>54.0</td>\n",
       "      <td>117</td>\n",
       "      <td>55</td>\n",
       "    </tr>\n",
       "    <tr>\n",
       "      <th>10</th>\n",
       "      <td>16.7000</td>\n",
       "      <td>0</td>\n",
       "      <td>4.0</td>\n",
       "      <td>131</td>\n",
       "      <td>120</td>\n",
       "    </tr>\n",
       "    <tr>\n",
       "      <th>11</th>\n",
       "      <td>26.5500</td>\n",
       "      <td>0</td>\n",
       "      <td>58.0</td>\n",
       "      <td>43</td>\n",
       "      <td>26</td>\n",
       "    </tr>\n",
       "  </tbody>\n",
       "</table>\n",
       "</div>"
      ],
      "text/plain": [
       "       Fare  Sex   Age  Cabin  Ticket\n",
       "1   71.2833    0  38.0     72     109\n",
       "3   53.1000    0  35.0     48      31\n",
       "6   51.8625    1  54.0    117      55\n",
       "10  16.7000    0   4.0    131     120\n",
       "11  26.5500    0  58.0     43      26"
      ]
     },
     "execution_count": 16,
     "metadata": {},
     "output_type": "execute_result"
    }
   ],
   "source": [
    "#x = data[['Fare','Sex','Age','Cabin']]\n",
    "x = data[['Fare','Sex','Age','Cabin','Ticket']]\n",
    "y = data['Survived']\n",
    "x.head()"
   ]
  },
  {
   "cell_type": "code",
   "execution_count": 17,
   "id": "7b60a89b",
   "metadata": {
    "execution": {
     "iopub.execute_input": "2025-07-14T05:00:31.778847Z",
     "iopub.status.busy": "2025-07-14T05:00:31.778470Z",
     "iopub.status.idle": "2025-07-14T05:00:32.042092Z",
     "shell.execute_reply": "2025-07-14T05:00:32.041051Z"
    },
    "papermill": {
     "duration": 0.27303,
     "end_time": "2025-07-14T05:00:32.044820",
     "exception": false,
     "start_time": "2025-07-14T05:00:31.771790",
     "status": "completed"
    },
    "tags": []
   },
   "outputs": [],
   "source": [
    "X_train, X_test, y_train, y_test = train_test_split(x, y, test_size=0.2, random_state=0)\n",
    "scaler = StandardScaler()\n",
    "X_train_scaled = scaler.fit_transform(X_train)\n",
    "X_test_scaled = scaler.transform(X_test)\n",
    "\n",
    "rf_classifier = RandomForestClassifier(criterion = 'gini',n_estimators=160,random_state=0)\n",
    "rf_classifier.fit(X_train_scaled, y_train)\n",
    "\n",
    "y_pred = rf_classifier.predict(X_test_scaled)"
   ]
  },
  {
   "cell_type": "code",
   "execution_count": 18,
   "id": "acfafd11",
   "metadata": {
    "execution": {
     "iopub.execute_input": "2025-07-14T05:00:32.057691Z",
     "iopub.status.busy": "2025-07-14T05:00:32.057309Z",
     "iopub.status.idle": "2025-07-14T05:00:32.074577Z",
     "shell.execute_reply": "2025-07-14T05:00:32.073105Z"
    },
    "papermill": {
     "duration": 0.026274,
     "end_time": "2025-07-14T05:00:32.076844",
     "exception": false,
     "start_time": "2025-07-14T05:00:32.050570",
     "status": "completed"
    },
    "tags": []
   },
   "outputs": [
    {
     "name": "stdout",
     "output_type": "stream",
     "text": [
      "Accuracy: 0.8648648648648649\n",
      "Classification Report:\n",
      "               precision    recall  f1-score   support\n",
      "\n",
      "           0       0.60      0.86      0.71         7\n",
      "           1       0.96      0.87      0.91        30\n",
      "\n",
      "    accuracy                           0.86        37\n",
      "   macro avg       0.78      0.86      0.81        37\n",
      "weighted avg       0.89      0.86      0.87        37\n",
      "\n",
      "Confusion Matrix:\n",
      " [[ 6  1]\n",
      " [ 4 26]]\n"
     ]
    }
   ],
   "source": [
    "accuracy = accuracy_score(y_test, y_pred)\n",
    "report = classification_report(y_test, y_pred)\n",
    "confusion = confusion_matrix(y_test, y_pred)\n",
    "\n",
    "print(\"Accuracy:\", accuracy)\n",
    "print(\"Classification Report:\\n\", report)\n",
    "print(\"Confusion Matrix:\\n\", confusion)"
   ]
  },
  {
   "cell_type": "code",
   "execution_count": 19,
   "id": "8a1205da",
   "metadata": {
    "execution": {
     "iopub.execute_input": "2025-07-14T05:00:32.089899Z",
     "iopub.status.busy": "2025-07-14T05:00:32.089525Z",
     "iopub.status.idle": "2025-07-14T05:00:32.201544Z",
     "shell.execute_reply": "2025-07-14T05:00:32.200440Z"
    },
    "papermill": {
     "duration": 0.121142,
     "end_time": "2025-07-14T05:00:32.203875",
     "exception": false,
     "start_time": "2025-07-14T05:00:32.082733",
     "status": "completed"
    },
    "tags": []
   },
   "outputs": [
    {
     "name": "stdout",
     "output_type": "stream",
     "text": [
      "\n",
      "Logistic Regression\n",
      "Accuracy: 0.8108108108108109\n",
      "              precision    recall  f1-score   support\n",
      "\n",
      "           0       0.50      0.57      0.53         7\n",
      "           1       0.90      0.87      0.88        30\n",
      "\n",
      "    accuracy                           0.81        37\n",
      "   macro avg       0.70      0.72      0.71        37\n",
      "weighted avg       0.82      0.81      0.82        37\n",
      "\n",
      "[[ 4  3]\n",
      " [ 4 26]]\n",
      "\n",
      "Gradient Boosting Classifier\n",
      "Accuracy: 0.8648648648648649\n",
      "              precision    recall  f1-score   support\n",
      "\n",
      "           0       0.62      0.71      0.67         7\n",
      "           1       0.93      0.90      0.92        30\n",
      "\n",
      "    accuracy                           0.86        37\n",
      "   macro avg       0.78      0.81      0.79        37\n",
      "weighted avg       0.87      0.86      0.87        37\n",
      "\n",
      "[[ 5  2]\n",
      " [ 3 27]]\n"
     ]
    }
   ],
   "source": [
    "from sklearn.ensemble import RandomForestClassifier, GradientBoostingClassifier\n",
    "from sklearn.linear_model import LogisticRegression\n",
    "from sklearn.metrics import accuracy_score, classification_report, confusion_matrix\n",
    "\n",
    "# Logistic Regression\n",
    "log_reg = LogisticRegression(random_state=0)\n",
    "log_reg.fit(X_train_scaled, y_train)\n",
    "y_pred_log_reg = log_reg.predict(X_test_scaled)\n",
    "\n",
    "print(\"\\nLogistic Regression\")\n",
    "print(f\"Accuracy: {accuracy_score(y_test, y_pred_log_reg)}\")\n",
    "print(classification_report(y_test, y_pred_log_reg))\n",
    "print(confusion_matrix(y_test, y_pred_log_reg))\n",
    "\n",
    "# Gradient Boosting Classifier\n",
    "gb_classifier = GradientBoostingClassifier(random_state=0)\n",
    "gb_classifier.fit(X_train_scaled, y_train)\n",
    "y_pred_gb = gb_classifier.predict(X_test_scaled)\n",
    "\n",
    "print(\"\\nGradient Boosting Classifier\")\n",
    "print(f\"Accuracy: {accuracy_score(y_test, y_pred_gb)}\")\n",
    "print(classification_report(y_test, y_pred_gb))\n",
    "print(confusion_matrix(y_test, y_pred_gb))"
   ]
  }
 ],
 "metadata": {
  "kaggle": {
   "accelerator": "none",
   "dataSources": [
    {
     "databundleVersionId": 26502,
     "sourceId": 3136,
     "sourceType": "competition"
    }
   ],
   "dockerImageVersionId": 30746,
   "isGpuEnabled": false,
   "isInternetEnabled": true,
   "language": "python",
   "sourceType": "notebook"
  },
  "kernelspec": {
   "display_name": "Python 3",
   "language": "python",
   "name": "python3"
  },
  "language_info": {
   "codemirror_mode": {
    "name": "ipython",
    "version": 3
   },
   "file_extension": ".py",
   "mimetype": "text/x-python",
   "name": "python",
   "nbconvert_exporter": "python",
   "pygments_lexer": "ipython3",
   "version": "3.10.13"
  },
  "papermill": {
   "default_parameters": {},
   "duration": 7.373155,
   "end_time": "2025-07-14T05:00:32.829598",
   "environment_variables": {},
   "exception": null,
   "input_path": "__notebook__.ipynb",
   "output_path": "__notebook__.ipynb",
   "parameters": {},
   "start_time": "2025-07-14T05:00:25.456443",
   "version": "2.5.0"
  }
 },
 "nbformat": 4,
 "nbformat_minor": 5
}
