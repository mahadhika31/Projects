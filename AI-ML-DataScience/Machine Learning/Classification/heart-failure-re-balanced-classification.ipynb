{
 "cells": [
  {
   "cell_type": "code",
   "execution_count": 1,
   "id": "b3549ed1",
   "metadata": {
    "_cell_guid": "b1076dfc-b9ad-4769-8c92-a6c4dae69d19",
    "_uuid": "8f2839f25d086af736a60e9eeb907d3b93b6e0e5",
    "execution": {
     "iopub.execute_input": "2024-10-30T09:47:03.825251Z",
     "iopub.status.busy": "2024-10-30T09:47:03.824733Z",
     "iopub.status.idle": "2024-10-30T09:47:04.723197Z",
     "shell.execute_reply": "2024-10-30T09:47:04.721359Z"
    },
    "papermill": {
     "duration": 0.911757,
     "end_time": "2024-10-30T09:47:04.725782",
     "exception": false,
     "start_time": "2024-10-30T09:47:03.814025",
     "status": "completed"
    },
    "tags": []
   },
   "outputs": [
    {
     "name": "stdout",
     "output_type": "stream",
     "text": [
      "/kaggle/input/predict-survival-of-patients-with-heart-failure/heart_failure_clinical_records_dataset.csv\n"
     ]
    }
   ],
   "source": [
    "import numpy as np \n",
    "import pandas as pd\n",
    "import matplotlib.pyplot as plt\n",
    "import os\n",
    "for dirname, _, filenames in os.walk('/kaggle/input'):\n",
    "    for filename in filenames:\n",
    "        print(os.path.join(dirname, filename))"
   ]
  },
  {
   "cell_type": "code",
   "execution_count": 2,
   "id": "ff7d8ed7",
   "metadata": {
    "execution": {
     "iopub.execute_input": "2024-10-30T09:47:04.742393Z",
     "iopub.status.busy": "2024-10-30T09:47:04.741860Z",
     "iopub.status.idle": "2024-10-30T09:47:04.783964Z",
     "shell.execute_reply": "2024-10-30T09:47:04.782819Z"
    },
    "papermill": {
     "duration": 0.053131,
     "end_time": "2024-10-30T09:47:04.786547",
     "exception": false,
     "start_time": "2024-10-30T09:47:04.733416",
     "status": "completed"
    },
    "tags": []
   },
   "outputs": [
    {
     "data": {
      "text/html": [
       "<div>\n",
       "<style scoped>\n",
       "    .dataframe tbody tr th:only-of-type {\n",
       "        vertical-align: middle;\n",
       "    }\n",
       "\n",
       "    .dataframe tbody tr th {\n",
       "        vertical-align: top;\n",
       "    }\n",
       "\n",
       "    .dataframe thead th {\n",
       "        text-align: right;\n",
       "    }\n",
       "</style>\n",
       "<table border=\"1\" class=\"dataframe\">\n",
       "  <thead>\n",
       "    <tr style=\"text-align: right;\">\n",
       "      <th></th>\n",
       "      <th>age</th>\n",
       "      <th>anaemia</th>\n",
       "      <th>creatinine_phosphokinase</th>\n",
       "      <th>diabetes</th>\n",
       "      <th>ejection_fraction</th>\n",
       "      <th>high_blood_pressure</th>\n",
       "      <th>platelets</th>\n",
       "      <th>serum_creatinine</th>\n",
       "      <th>serum_sodium</th>\n",
       "      <th>sex</th>\n",
       "      <th>smoking</th>\n",
       "      <th>time</th>\n",
       "      <th>DEATH_EVENT</th>\n",
       "    </tr>\n",
       "  </thead>\n",
       "  <tbody>\n",
       "    <tr>\n",
       "      <th>0</th>\n",
       "      <td>75.0</td>\n",
       "      <td>0</td>\n",
       "      <td>582</td>\n",
       "      <td>0</td>\n",
       "      <td>20</td>\n",
       "      <td>1</td>\n",
       "      <td>265000.00</td>\n",
       "      <td>1.9</td>\n",
       "      <td>130</td>\n",
       "      <td>1</td>\n",
       "      <td>0</td>\n",
       "      <td>4</td>\n",
       "      <td>1</td>\n",
       "    </tr>\n",
       "    <tr>\n",
       "      <th>1</th>\n",
       "      <td>55.0</td>\n",
       "      <td>0</td>\n",
       "      <td>7861</td>\n",
       "      <td>0</td>\n",
       "      <td>38</td>\n",
       "      <td>0</td>\n",
       "      <td>263358.03</td>\n",
       "      <td>1.1</td>\n",
       "      <td>136</td>\n",
       "      <td>1</td>\n",
       "      <td>0</td>\n",
       "      <td>6</td>\n",
       "      <td>1</td>\n",
       "    </tr>\n",
       "    <tr>\n",
       "      <th>2</th>\n",
       "      <td>65.0</td>\n",
       "      <td>0</td>\n",
       "      <td>146</td>\n",
       "      <td>0</td>\n",
       "      <td>20</td>\n",
       "      <td>0</td>\n",
       "      <td>162000.00</td>\n",
       "      <td>1.3</td>\n",
       "      <td>129</td>\n",
       "      <td>1</td>\n",
       "      <td>1</td>\n",
       "      <td>7</td>\n",
       "      <td>1</td>\n",
       "    </tr>\n",
       "    <tr>\n",
       "      <th>3</th>\n",
       "      <td>50.0</td>\n",
       "      <td>1</td>\n",
       "      <td>111</td>\n",
       "      <td>0</td>\n",
       "      <td>20</td>\n",
       "      <td>0</td>\n",
       "      <td>210000.00</td>\n",
       "      <td>1.9</td>\n",
       "      <td>137</td>\n",
       "      <td>1</td>\n",
       "      <td>0</td>\n",
       "      <td>7</td>\n",
       "      <td>1</td>\n",
       "    </tr>\n",
       "    <tr>\n",
       "      <th>4</th>\n",
       "      <td>65.0</td>\n",
       "      <td>1</td>\n",
       "      <td>160</td>\n",
       "      <td>1</td>\n",
       "      <td>20</td>\n",
       "      <td>0</td>\n",
       "      <td>327000.00</td>\n",
       "      <td>2.7</td>\n",
       "      <td>116</td>\n",
       "      <td>0</td>\n",
       "      <td>0</td>\n",
       "      <td>8</td>\n",
       "      <td>1</td>\n",
       "    </tr>\n",
       "  </tbody>\n",
       "</table>\n",
       "</div>"
      ],
      "text/plain": [
       "    age  anaemia  creatinine_phosphokinase  diabetes  ejection_fraction  \\\n",
       "0  75.0        0                       582         0                 20   \n",
       "1  55.0        0                      7861         0                 38   \n",
       "2  65.0        0                       146         0                 20   \n",
       "3  50.0        1                       111         0                 20   \n",
       "4  65.0        1                       160         1                 20   \n",
       "\n",
       "   high_blood_pressure  platelets  serum_creatinine  serum_sodium  sex  \\\n",
       "0                    1  265000.00               1.9           130    1   \n",
       "1                    0  263358.03               1.1           136    1   \n",
       "2                    0  162000.00               1.3           129    1   \n",
       "3                    0  210000.00               1.9           137    1   \n",
       "4                    0  327000.00               2.7           116    0   \n",
       "\n",
       "   smoking  time  DEATH_EVENT  \n",
       "0        0     4            1  \n",
       "1        0     6            1  \n",
       "2        1     7            1  \n",
       "3        0     7            1  \n",
       "4        0     8            1  "
      ]
     },
     "execution_count": 2,
     "metadata": {},
     "output_type": "execute_result"
    }
   ],
   "source": [
    "df = pd.read_csv('/kaggle/input/predict-survival-of-patients-with-heart-failure/heart_failure_clinical_records_dataset.csv')\n",
    "df.head()"
   ]
  },
  {
   "cell_type": "code",
   "execution_count": 3,
   "id": "9db6dfa1",
   "metadata": {
    "execution": {
     "iopub.execute_input": "2024-10-30T09:47:04.803592Z",
     "iopub.status.busy": "2024-10-30T09:47:04.803132Z",
     "iopub.status.idle": "2024-10-30T09:47:04.816246Z",
     "shell.execute_reply": "2024-10-30T09:47:04.815060Z"
    },
    "papermill": {
     "duration": 0.024715,
     "end_time": "2024-10-30T09:47:04.818917",
     "exception": false,
     "start_time": "2024-10-30T09:47:04.794202",
     "status": "completed"
    },
    "tags": []
   },
   "outputs": [],
   "source": [
    "df3 = df[['ejection_fraction','platelets','serum_creatinine','age','creatinine_phosphokinase','DEATH_EVENT']]"
   ]
  },
  {
   "cell_type": "code",
   "execution_count": 4,
   "id": "6e8a34e9",
   "metadata": {
    "execution": {
     "iopub.execute_input": "2024-10-30T09:47:04.836303Z",
     "iopub.status.busy": "2024-10-30T09:47:04.835304Z",
     "iopub.status.idle": "2024-10-30T09:47:05.727794Z",
     "shell.execute_reply": "2024-10-30T09:47:05.726597Z"
    },
    "papermill": {
     "duration": 0.904033,
     "end_time": "2024-10-30T09:47:05.730403",
     "exception": false,
     "start_time": "2024-10-30T09:47:04.826370",
     "status": "completed"
    },
    "tags": []
   },
   "outputs": [
    {
     "data": {
      "image/png": "[encoded data removed]",
      "text/plain": [
       "<Figure size 2000x600 with 5 Axes>"
      ]
     },
     "metadata": {},
     "output_type": "display_data"
    }
   ],
   "source": [
    "fig, (ax1, ax2, ax3, ax4, ax5) = plt.subplots(1, 5, figsize=(20,6))\n",
    "\n",
    "ax1.boxplot(df[\"serum_creatinine\"])\n",
    "ax1.set_title(\"Serum Creatinine\")\n",
    "\n",
    "\n",
    "ax2.boxplot(df[\"ejection_fraction\"])\n",
    "ax2.set_title(\"ejection_fraction\")\n",
    "\n",
    "ax3.boxplot(df[\"age\"])\n",
    "ax3.set_title(\"Age\")\n",
    "\n",
    "ax4.boxplot(df[\"platelets\"])\n",
    "ax4.set_title(\"platelets\")\n",
    "\n",
    "ax5.boxplot(df[\"creatinine_phosphokinase\"])\n",
    "ax5.set_title(\"creatinine_phosphokinase\")\n",
    "\n",
    "\n",
    "plt.show()\n"
   ]
  },
  {
   "cell_type": "code",
   "execution_count": 5,
   "id": "7bc09666",
   "metadata": {
    "execution": {
     "iopub.execute_input": "2024-10-30T09:47:05.750344Z",
     "iopub.status.busy": "2024-10-30T09:47:05.749068Z",
     "iopub.status.idle": "2024-10-30T09:47:06.979310Z",
     "shell.execute_reply": "2024-10-30T09:47:06.977880Z"
    },
    "papermill": {
     "duration": 1.243337,
     "end_time": "2024-10-30T09:47:06.982425",
     "exception": false,
     "start_time": "2024-10-30T09:47:05.739088",
     "status": "completed"
    },
    "tags": []
   },
   "outputs": [],
   "source": [
    "from scipy import stats\n",
    "from scipy.stats import zscore"
   ]
  },
  {
   "cell_type": "code",
   "execution_count": 6,
   "id": "f0650398",
   "metadata": {
    "execution": {
     "iopub.execute_input": "2024-10-30T09:47:07.002277Z",
     "iopub.status.busy": "2024-10-30T09:47:07.001668Z",
     "iopub.status.idle": "2024-10-30T09:47:07.014731Z",
     "shell.execute_reply": "2024-10-30T09:47:07.013563Z"
    },
    "papermill": {
     "duration": 0.026417,
     "end_time": "2024-10-30T09:47:07.017388",
     "exception": false,
     "start_time": "2024-10-30T09:47:06.990971",
     "status": "completed"
    },
    "tags": []
   },
   "outputs": [
    {
     "name": "stdout",
     "output_type": "stream",
     "text": [
      "Threshold Value: 0.0\n",
      "Outliers: 81\n",
      "--------------------\n",
      "Threshold Value: 0.25\n",
      "Outliers: 61\n",
      "--------------------\n",
      "Threshold Value: 0.5\n",
      "Outliers: 35\n",
      "--------------------\n",
      "Threshold Value: 0.75\n",
      "Outliers: 29\n",
      "--------------------\n",
      "Threshold Value: 1.0\n",
      "Outliers: 23\n",
      "--------------------\n",
      "Threshold Value: 1.25\n",
      "Outliers: 20\n",
      "--------------------\n",
      "Threshold Value: 1.5\n",
      "Outliers: 16\n",
      "--------------------\n",
      "Threshold Value: 1.75\n",
      "Outliers: 13\n",
      "--------------------\n",
      "Threshold Value: 2.0\n",
      "Outliers: 12\n",
      "--------------------\n",
      "Threshold Value: 2.25\n",
      "Outliers: 9\n",
      "--------------------\n",
      "Threshold Value: 2.5\n",
      "Outliers: 8\n",
      "--------------------\n",
      "Threshold Value: 2.75\n",
      "Outliers: 7\n",
      "--------------------\n",
      "Threshold Value: 3.0\n",
      "Outliers: 6\n",
      "--------------------\n",
      "Threshold Value: 3.25\n",
      "Outliers: 6\n",
      "--------------------\n",
      "Threshold Value: 3.5\n",
      "Outliers: 5\n",
      "--------------------\n",
      "Threshold Value: 3.75\n",
      "Outliers: 5\n",
      "--------------------\n",
      "Threshold Value: 4.0\n",
      "Outliers: 5\n",
      "--------------------\n"
     ]
    }
   ],
   "source": [
    "z_score_serum_creatinine = zscore(df[\"serum_creatinine\"])\n",
    "\n",
    "for threshold in np.arange(0, 4.25, 0.25):\n",
    "    print(\"Threshold Value: {}\".format(threshold))\n",
    "    print(\"Outliers: {}\".format(len(np.where(z_score_serum_creatinine > threshold)[0])))\n",
    "    print(\"--------------------\")"
   ]
  },
  {
   "cell_type": "code",
   "execution_count": 7,
   "id": "225ae50e",
   "metadata": {
    "execution": {
     "iopub.execute_input": "2024-10-30T09:47:07.036558Z",
     "iopub.status.busy": "2024-10-30T09:47:07.036073Z",
     "iopub.status.idle": "2024-10-30T09:47:07.689693Z",
     "shell.execute_reply": "2024-10-30T09:47:07.688493Z"
    },
    "papermill": {
     "duration": 0.66648,
     "end_time": "2024-10-30T09:47:07.692613",
     "exception": false,
     "start_time": "2024-10-30T09:47:07.026133",
     "status": "completed"
    },
    "tags": []
   },
   "outputs": [],
   "source": [
    "from imblearn.over_sampling import RandomOverSampler\n",
    "from imblearn.under_sampling import RandomUnderSampler\n",
    "\n",
    "X = df3.drop(columns=['DEATH_EVENT'])\n",
    "y = df3['DEATH_EVENT']\n",
    "class_counts = y.value_counts()\n",
    "target_count = min(class_counts)\n",
    "\n",
    "over_sampler = RandomOverSampler(sampling_strategy='minority',random_state=0)  \n",
    "under_sampler = RandomUnderSampler(sampling_strategy='majority',random_state=0)  \n",
    "\n",
    "# Apply resampling\n",
    "X_over, y_over = over_sampler.fit_resample(X, y)\n",
    "X_resampled, y_resampled = under_sampler.fit_resample(X_over, y_over)\n",
    "\n",
    "df3_resampled = pd.concat([pd.DataFrame(X_resampled, columns=X.columns), pd.DataFrame(y_resampled, columns=['DEATH_EVENT'])], axis=1)"
   ]
  },
  {
   "cell_type": "code",
   "execution_count": 8,
   "id": "0d6e4a54",
   "metadata": {
    "execution": {
     "iopub.execute_input": "2024-10-30T09:47:07.711651Z",
     "iopub.status.busy": "2024-10-30T09:47:07.711048Z",
     "iopub.status.idle": "2024-10-30T09:47:07.726711Z",
     "shell.execute_reply": "2024-10-30T09:47:07.725598Z"
    },
    "papermill": {
     "duration": 0.027895,
     "end_time": "2024-10-30T09:47:07.729117",
     "exception": false,
     "start_time": "2024-10-30T09:47:07.701222",
     "status": "completed"
    },
    "tags": []
   },
   "outputs": [
    {
     "data": {
      "text/html": [
       "<div>\n",
       "<style scoped>\n",
       "    .dataframe tbody tr th:only-of-type {\n",
       "        vertical-align: middle;\n",
       "    }\n",
       "\n",
       "    .dataframe tbody tr th {\n",
       "        vertical-align: top;\n",
       "    }\n",
       "\n",
       "    .dataframe thead th {\n",
       "        text-align: right;\n",
       "    }\n",
       "</style>\n",
       "<table border=\"1\" class=\"dataframe\">\n",
       "  <thead>\n",
       "    <tr style=\"text-align: right;\">\n",
       "      <th></th>\n",
       "      <th>ejection_fraction</th>\n",
       "      <th>platelets</th>\n",
       "      <th>serum_creatinine</th>\n",
       "      <th>age</th>\n",
       "      <th>creatinine_phosphokinase</th>\n",
       "      <th>DEATH_EVENT</th>\n",
       "    </tr>\n",
       "  </thead>\n",
       "  <tbody>\n",
       "    <tr>\n",
       "      <th>81</th>\n",
       "      <td>50</td>\n",
       "      <td>263358.03</td>\n",
       "      <td>1.18</td>\n",
       "      <td>67.0</td>\n",
       "      <td>582</td>\n",
       "      <td>0</td>\n",
       "    </tr>\n",
       "    <tr>\n",
       "      <th>114</th>\n",
       "      <td>40</td>\n",
       "      <td>328000.00</td>\n",
       "      <td>1.20</td>\n",
       "      <td>60.0</td>\n",
       "      <td>754</td>\n",
       "      <td>0</td>\n",
       "    </tr>\n",
       "    <tr>\n",
       "      <th>99</th>\n",
       "      <td>40</td>\n",
       "      <td>221000.00</td>\n",
       "      <td>1.10</td>\n",
       "      <td>63.0</td>\n",
       "      <td>61</td>\n",
       "      <td>0</td>\n",
       "    </tr>\n",
       "    <tr>\n",
       "      <th>103</th>\n",
       "      <td>30</td>\n",
       "      <td>226000.00</td>\n",
       "      <td>1.00</td>\n",
       "      <td>42.0</td>\n",
       "      <td>5209</td>\n",
       "      <td>0</td>\n",
       "    </tr>\n",
       "    <tr>\n",
       "      <th>198</th>\n",
       "      <td>20</td>\n",
       "      <td>279000.00</td>\n",
       "      <td>1.00</td>\n",
       "      <td>50.0</td>\n",
       "      <td>582</td>\n",
       "      <td>0</td>\n",
       "    </tr>\n",
       "  </tbody>\n",
       "</table>\n",
       "</div>"
      ],
      "text/plain": [
       "     ejection_fraction  platelets  serum_creatinine   age  \\\n",
       "81                  50  263358.03              1.18  67.0   \n",
       "114                 40  328000.00              1.20  60.0   \n",
       "99                  40  221000.00              1.10  63.0   \n",
       "103                 30  226000.00              1.00  42.0   \n",
       "198                 20  279000.00              1.00  50.0   \n",
       "\n",
       "     creatinine_phosphokinase  DEATH_EVENT  \n",
       "81                        582            0  \n",
       "114                       754            0  \n",
       "99                         61            0  \n",
       "103                      5209            0  \n",
       "198                       582            0  "
      ]
     },
     "execution_count": 8,
     "metadata": {},
     "output_type": "execute_result"
    }
   ],
   "source": [
    "df3_resampled.head()"
   ]
  },
  {
   "cell_type": "code",
   "execution_count": 9,
   "id": "1d0f4e9f",
   "metadata": {
    "execution": {
     "iopub.execute_input": "2024-10-30T09:47:07.748394Z",
     "iopub.status.busy": "2024-10-30T09:47:07.747967Z",
     "iopub.status.idle": "2024-10-30T09:47:07.903908Z",
     "shell.execute_reply": "2024-10-30T09:47:07.902271Z"
    },
    "papermill": {
     "duration": 0.170257,
     "end_time": "2024-10-30T09:47:07.908016",
     "exception": false,
     "start_time": "2024-10-30T09:47:07.737759",
     "status": "completed"
    },
    "tags": []
   },
   "outputs": [
    {
     "data": {
      "image/png": "[encoded data removed]",
      "text/plain": [
       "<Figure size 800x600 with 1 Axes>"
      ]
     },
     "metadata": {},
     "output_type": "display_data"
    }
   ],
   "source": [
    "fig, ax=plt.subplots(figsize = (8,6))\n",
    "counts = list(df3_resampled['DEATH_EVENT'].value_counts())\n",
    "labels = list(df3_resampled['DEATH_EVENT'].value_counts().index)\n",
    "\n",
    "# Plot a pie chart of Death Event\n",
    "ax.pie(counts, labels=labels, autopct='%1.1f%%')\n",
    "plt.title(f'Distribution of Death Event ')\n",
    "plt.show()"
   ]
  },
  {
   "cell_type": "code",
   "execution_count": 10,
   "id": "53dbbec0",
   "metadata": {
    "execution": {
     "iopub.execute_input": "2024-10-30T09:47:07.948548Z",
     "iopub.status.busy": "2024-10-30T09:47:07.947726Z",
     "iopub.status.idle": "2024-10-30T09:47:07.957674Z",
     "shell.execute_reply": "2024-10-30T09:47:07.956333Z"
    },
    "papermill": {
     "duration": 0.033348,
     "end_time": "2024-10-30T09:47:07.960101",
     "exception": false,
     "start_time": "2024-10-30T09:47:07.926753",
     "status": "completed"
    },
    "tags": []
   },
   "outputs": [],
   "source": [
    "from sklearn.model_selection import train_test_split\n",
    "\n",
    "#Preparing the data\n",
    "X = df3_resampled.drop(columns=['DEATH_EVENT']).values\n",
    "y = df3_resampled['DEATH_EVENT'].values\n",
    "#splitting the data\n",
    "X_train, X_test, y_train, y_test = train_test_split(X, y, test_size=0.30, random_state=0)"
   ]
  },
  {
   "cell_type": "code",
   "execution_count": 11,
   "id": "0d67129a",
   "metadata": {
    "execution": {
     "iopub.execute_input": "2024-10-30T09:47:07.981334Z",
     "iopub.status.busy": "2024-10-30T09:47:07.980508Z",
     "iopub.status.idle": "2024-10-30T09:47:08.238234Z",
     "shell.execute_reply": "2024-10-30T09:47:08.237046Z"
    },
    "papermill": {
     "duration": 0.271488,
     "end_time": "2024-10-30T09:47:08.241090",
     "exception": false,
     "start_time": "2024-10-30T09:47:07.969602",
     "status": "completed"
    },
    "tags": []
   },
   "outputs": [],
   "source": [
    "from sklearn.ensemble import RandomForestClassifier\n",
    "\n",
    "rf_classifier = RandomForestClassifier(random_state=0)\n",
    "#rf_classifier = RandomForestClassifier(criterion = 'gini',n_estimators=160,random_state=0)\n",
    "\n",
    "# Fit the classifier on the training data\n",
    "rf_classifier.fit(X_train, y_train)\n",
    "\n",
    "# Make predictions on the test data\n",
    "y_pred = rf_classifier.predict(X_test)"
   ]
  },
  {
   "cell_type": "code",
   "execution_count": 12,
   "id": "35796d78",
   "metadata": {
    "execution": {
     "iopub.execute_input": "2024-10-30T09:47:08.261632Z",
     "iopub.status.busy": "2024-10-30T09:47:08.260670Z",
     "iopub.status.idle": "2024-10-30T09:47:08.266255Z",
     "shell.execute_reply": "2024-10-30T09:47:08.265114Z"
    },
    "papermill": {
     "duration": 0.018386,
     "end_time": "2024-10-30T09:47:08.268602",
     "exception": false,
     "start_time": "2024-10-30T09:47:08.250216",
     "status": "completed"
    },
    "tags": []
   },
   "outputs": [],
   "source": [
    "from sklearn.metrics import accuracy_score, classification_report, confusion_matrix\n",
    "from sklearn.preprocessing import StandardScaler, MinMaxScaler, RobustScaler, Normalizer, PowerTransformer, QuantileTransformer"
   ]
  },
  {
   "cell_type": "code",
   "execution_count": 13,
   "id": "cf12a0b9",
   "metadata": {
    "execution": {
     "iopub.execute_input": "2024-10-30T09:47:08.288735Z",
     "iopub.status.busy": "2024-10-30T09:47:08.288263Z",
     "iopub.status.idle": "2024-10-30T09:47:08.305880Z",
     "shell.execute_reply": "2024-10-30T09:47:08.304606Z"
    },
    "papermill": {
     "duration": 0.030859,
     "end_time": "2024-10-30T09:47:08.308586",
     "exception": false,
     "start_time": "2024-10-30T09:47:08.277727",
     "status": "completed"
    },
    "tags": []
   },
   "outputs": [
    {
     "name": "stdout",
     "output_type": "stream",
     "text": [
      "Accuracy: 0.8688524590163934\n",
      "Classification Report:\n",
      "               precision    recall  f1-score   support\n",
      "\n",
      "           0       0.98      0.76      0.85        62\n",
      "           1       0.80      0.98      0.88        60\n",
      "\n",
      "    accuracy                           0.87       122\n",
      "   macro avg       0.89      0.87      0.87       122\n",
      "weighted avg       0.89      0.87      0.87       122\n",
      "\n",
      "Confusion Matrix:\n",
      " [[47 15]\n",
      " [ 1 59]]\n"
     ]
    }
   ],
   "source": [
    "accuracy = accuracy_score(y_test, y_pred)\n",
    "report = classification_report(y_test, y_pred)\n",
    "confusion = confusion_matrix(y_test, y_pred)\n",
    "\n",
    "print(\"Accuracy:\", accuracy)\n",
    "print(\"Classification Report:\\n\", report)\n",
    "print(\"Confusion Matrix:\\n\", confusion)"
   ]
  },
  {
   "cell_type": "code",
   "execution_count": 14,
   "id": "c2b509ef",
   "metadata": {
    "execution": {
     "iopub.execute_input": "2024-10-30T09:47:08.329352Z",
     "iopub.status.busy": "2024-10-30T09:47:08.328922Z",
     "iopub.status.idle": "2024-10-30T09:47:08.334041Z",
     "shell.execute_reply": "2024-10-30T09:47:08.332981Z"
    },
    "papermill": {
     "duration": 0.018135,
     "end_time": "2024-10-30T09:47:08.336332",
     "exception": false,
     "start_time": "2024-10-30T09:47:08.318197",
     "status": "completed"
    },
    "tags": []
   },
   "outputs": [],
   "source": [
    "from sklearn.ensemble import AdaBoostClassifier, ExtraTreesClassifier"
   ]
  },
  {
   "cell_type": "code",
   "execution_count": 15,
   "id": "c8d98ba8",
   "metadata": {
    "execution": {
     "iopub.execute_input": "2024-10-30T09:47:08.356849Z",
     "iopub.status.busy": "2024-10-30T09:47:08.356386Z",
     "iopub.status.idle": "2024-10-30T09:47:08.362093Z",
     "shell.execute_reply": "2024-10-30T09:47:08.361028Z"
    },
    "papermill": {
     "duration": 0.019032,
     "end_time": "2024-10-30T09:47:08.364505",
     "exception": false,
     "start_time": "2024-10-30T09:47:08.345473",
     "status": "completed"
    },
    "tags": []
   },
   "outputs": [],
   "source": [
    "ada_model = AdaBoostClassifier(n_estimators=100, random_state=42)\n",
    "extra_tree_model = ExtraTreesClassifier(n_estimators=100, random_state=42)"
   ]
  },
  {
   "cell_type": "code",
   "execution_count": 16,
   "id": "02d75a38",
   "metadata": {
    "execution": {
     "iopub.execute_input": "2024-10-30T09:47:08.385531Z",
     "iopub.status.busy": "2024-10-30T09:47:08.384571Z",
     "iopub.status.idle": "2024-10-30T09:47:08.638502Z",
     "shell.execute_reply": "2024-10-30T09:47:08.637401Z"
    },
    "papermill": {
     "duration": 0.267095,
     "end_time": "2024-10-30T09:47:08.640997",
     "exception": false,
     "start_time": "2024-10-30T09:47:08.373902",
     "status": "completed"
    },
    "tags": []
   },
   "outputs": [
    {
     "name": "stdout",
     "output_type": "stream",
     "text": [
      "AdaBoost Accuracy: 0.8032786885245902\n",
      "AdaBoost Classification Report:\n",
      "               precision    recall  f1-score   support\n",
      "\n",
      "           0       0.85      0.74      0.79        62\n",
      "           1       0.76      0.87      0.81        60\n",
      "\n",
      "    accuracy                           0.80       122\n",
      "   macro avg       0.81      0.80      0.80       122\n",
      "weighted avg       0.81      0.80      0.80       122\n",
      "\n",
      "AdaBoost Confusion Matrix:\n",
      " [[46 16]\n",
      " [ 8 52]]\n"
     ]
    }
   ],
   "source": [
    "# Train and evaluate AdaBoost\n",
    "ada_model.fit(X_train, y_train)\n",
    "ada_pred = ada_model.predict(X_test)\n",
    "ada_accuracy = accuracy_score(y_test, ada_pred)\n",
    "print(\"AdaBoost Accuracy:\", ada_accuracy)\n",
    "print(\"AdaBoost Classification Report:\\n\", classification_report(y_test, ada_pred))\n",
    "print(\"AdaBoost Confusion Matrix:\\n\", confusion_matrix(y_test, ada_pred))"
   ]
  },
  {
   "cell_type": "code",
   "execution_count": 17,
   "id": "e81580bf",
   "metadata": {
    "execution": {
     "iopub.execute_input": "2024-10-30T09:47:08.662739Z",
     "iopub.status.busy": "2024-10-30T09:47:08.661690Z",
     "iopub.status.idle": "2024-10-30T09:47:08.864037Z",
     "shell.execute_reply": "2024-10-30T09:47:08.862541Z"
    },
    "papermill": {
     "duration": 0.216647,
     "end_time": "2024-10-30T09:47:08.867040",
     "exception": false,
     "start_time": "2024-10-30T09:47:08.650393",
     "status": "completed"
    },
    "tags": []
   },
   "outputs": [
    {
     "name": "stdout",
     "output_type": "stream",
     "text": [
      "ExtraTrees Accuracy: 0.8688524590163934\n",
      "ExtraTrees Classification Report:\n",
      "               precision    recall  f1-score   support\n",
      "\n",
      "           0       0.98      0.76      0.85        62\n",
      "           1       0.80      0.98      0.88        60\n",
      "\n",
      "    accuracy                           0.87       122\n",
      "   macro avg       0.89      0.87      0.87       122\n",
      "weighted avg       0.89      0.87      0.87       122\n",
      "\n",
      "ExtraTrees Confusion Matrix:\n",
      " [[47 15]\n",
      " [ 1 59]]\n"
     ]
    }
   ],
   "source": [
    "extra_tree_model.fit(X_train, y_train)\n",
    "extra_tree_pred = extra_tree_model.predict(X_test)\n",
    "extra_tree_accuracy = accuracy_score(y_test, extra_tree_pred)\n",
    "print(\"ExtraTrees Accuracy:\", extra_tree_accuracy)\n",
    "print(\"ExtraTrees Classification Report:\\n\", classification_report(y_test, extra_tree_pred))\n",
    "print(\"ExtraTrees Confusion Matrix:\\n\", confusion_matrix(y_test, extra_tree_pred))"
   ]
  },
  {
   "cell_type": "code",
   "execution_count": 18,
   "id": "48513ef8",
   "metadata": {
    "execution": {
     "iopub.execute_input": "2024-10-30T09:47:08.888250Z",
     "iopub.status.busy": "2024-10-30T09:47:08.887791Z",
     "iopub.status.idle": "2024-10-30T09:47:09.075892Z",
     "shell.execute_reply": "2024-10-30T09:47:09.074601Z"
    },
    "papermill": {
     "duration": 0.202332,
     "end_time": "2024-10-30T09:47:09.079275",
     "exception": false,
     "start_time": "2024-10-30T09:47:08.876943",
     "status": "completed"
    },
    "tags": []
   },
   "outputs": [],
   "source": [
    "from xgboost import XGBClassifier"
   ]
  },
  {
   "cell_type": "code",
   "execution_count": 19,
   "id": "4dd26e7d",
   "metadata": {
    "execution": {
     "iopub.execute_input": "2024-10-30T09:47:09.104040Z",
     "iopub.status.busy": "2024-10-30T09:47:09.102999Z",
     "iopub.status.idle": "2024-10-30T09:47:09.362934Z",
     "shell.execute_reply": "2024-10-30T09:47:09.361557Z"
    },
    "papermill": {
     "duration": 0.277527,
     "end_time": "2024-10-30T09:47:09.368891",
     "exception": false,
     "start_time": "2024-10-30T09:47:09.091364",
     "status": "completed"
    },
    "tags": []
   },
   "outputs": [
    {
     "name": "stdout",
     "output_type": "stream",
     "text": [
      "XGBoost Accuracy: 0.8442622950819673\n",
      "XGBoost Classification Report:\n",
      "               precision    recall  f1-score   support\n",
      "\n",
      "           0       0.96      0.73      0.83        62\n",
      "           1       0.77      0.97      0.86        60\n",
      "\n",
      "    accuracy                           0.84       122\n",
      "   macro avg       0.87      0.85      0.84       122\n",
      "weighted avg       0.87      0.84      0.84       122\n",
      "\n",
      "XGBoost Confusion Matrix:\n",
      " [[45 17]\n",
      " [ 2 58]]\n"
     ]
    }
   ],
   "source": [
    "# XGBoost Classifier\n",
    "xgb_model = XGBClassifier(use_label_encoder=False, eval_metric='logloss', random_state=42)\n",
    "xgb_model.fit(X_train, y_train)\n",
    "\n",
    "# Predict on the test set\n",
    "xgb_predictions = xgb_model.predict(X_test)\n",
    "\n",
    "# Evaluate XGBoost\n",
    "xgb_accuracy = accuracy_score(y_test, xgb_predictions)\n",
    "print(\"XGBoost Accuracy:\", xgb_accuracy)\n",
    "print(\"XGBoost Classification Report:\\n\", classification_report(y_test, xgb_predictions))\n",
    "print(\"XGBoost Confusion Matrix:\\n\", confusion_matrix(y_test, xgb_predictions))"
   ]
  }
 ],
 "metadata": {
  "kaggle": {
   "accelerator": "none",
   "dataSources": [
    {
     "datasetId": 4877405,
     "sourceId": 8225875,
     "sourceType": "datasetVersion"
    }
   ],
   "dockerImageVersionId": 30786,
   "isGpuEnabled": false,
   "isInternetEnabled": true,
   "language": "python",
   "sourceType": "notebook"
  },
  "kernelspec": {
   "display_name": "Python 3",
   "language": "python",
   "name": "python3"
  },
  "language_info": {
   "codemirror_mode": {
    "name": "ipython",
    "version": 3
   },
   "file_extension": ".py",
   "mimetype": "text/x-python",
   "name": "python",
   "nbconvert_exporter": "python",
   "pygments_lexer": "ipython3",
   "version": "3.10.14"
  },
  "papermill": {
   "default_parameters": {},
   "duration": 9.280625,
   "end_time": "2024-10-30T09:47:10.108222",
   "environment_variables": {},
   "exception": null,
   "input_path": "__notebook__.ipynb",
   "output_path": "__notebook__.ipynb",
   "parameters": {},
   "start_time": "2024-10-30T09:47:00.827597",
   "version": "2.6.0"
  }
 },
 "nbformat": 4,
 "nbformat_minor": 5
}
